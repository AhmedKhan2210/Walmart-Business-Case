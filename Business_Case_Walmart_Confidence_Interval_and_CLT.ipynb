{
  "nbformat": 4,
  "nbformat_minor": 0,
  "metadata": {
    "colab": {
      "provenance": [],
      "authorship_tag": "ABX9TyN87RNmHJzW3r6oR23cc+kt",
      "include_colab_link": true
    },
    "kernelspec": {
      "name": "python3",
      "display_name": "Python 3"
    },
    "language_info": {
      "name": "python"
    }
  },
  "cells": [
    {
      "cell_type": "markdown",
      "metadata": {
        "id": "view-in-github",
        "colab_type": "text"
      },
      "source": [
        "<a href=\"https://colab.research.google.com/github/AhmedKhan2210/Walmart-Business-Case/blob/main/Business_Case_Walmart_Confidence_Interval_and_CLT.ipynb\" target=\"_parent\"><img src=\"https://colab.research.google.com/assets/colab-badge.svg\" alt=\"Open In Colab\"/></a>"
      ]
    },
    {
      "cell_type": "code",
      "execution_count": 6,
      "metadata": {
        "id": "lSFq703mvSu5"
      },
      "outputs": [],
      "source": [
        "#importing all the libraries and performed usual analysis\n",
        "import numpy as np\n",
        "import pandas as pd\n",
        "import matplotlib.pyplot as plt\n",
        "import seaborn as sns\n",
        "from scipy import stats\n",
        "from scipy.stats import norm,binom,poisson, expon,geom, boxcox\n",
        "from statsmodels.stats import weightstats as stests   # for two sample z-test\n",
        "import statsmodels.api as sm #for z proportion test\n",
        "from scipy.stats import ttest_1samp # for one sample T test\n",
        "from scipy.stats import ttest_ind #for two independent sample T test\n",
        "from scipy.stats import ttest_rel #for two dependent sample T test\n",
        "df = pd.read_csv('walmart_data.csv')"
      ]
    },
    {
      "cell_type": "code",
      "source": [
        "df.head() #first 5 rows"
      ],
      "metadata": {
        "colab": {
          "base_uri": "https://localhost:8080/",
          "height": 206
        },
        "id": "pAZ8rcWq0UF6",
        "outputId": "57c3301a-e1ee-49d0-e604-be0c2cdc538e"
      },
      "execution_count": 7,
      "outputs": [
        {
          "output_type": "execute_result",
          "data": {
            "text/plain": [
              "   User_ID Product_ID Gender   Age  Occupation City_Category  \\\n",
              "0  1000001  P00069042      F  0-17          10             A   \n",
              "1  1000001  P00248942      F  0-17          10             A   \n",
              "2  1000001  P00087842      F  0-17          10             A   \n",
              "3  1000001  P00085442      F  0-17          10             A   \n",
              "4  1000002  P00285442      M   55+          16             C   \n",
              "\n",
              "  Stay_In_Current_City_Years  Marital_Status  Product_Category  Purchase  \n",
              "0                          2               0                 3      8370  \n",
              "1                          2               0                 1     15200  \n",
              "2                          2               0                12      1422  \n",
              "3                          2               0                12      1057  \n",
              "4                         4+               0                 8      7969  "
            ],
            "text/html": [
              "\n",
              "  <div id=\"df-a70f683e-a3ab-4ccf-9516-150bad77100b\" class=\"colab-df-container\">\n",
              "    <div>\n",
              "<style scoped>\n",
              "    .dataframe tbody tr th:only-of-type {\n",
              "        vertical-align: middle;\n",
              "    }\n",
              "\n",
              "    .dataframe tbody tr th {\n",
              "        vertical-align: top;\n",
              "    }\n",
              "\n",
              "    .dataframe thead th {\n",
              "        text-align: right;\n",
              "    }\n",
              "</style>\n",
              "<table border=\"1\" class=\"dataframe\">\n",
              "  <thead>\n",
              "    <tr style=\"text-align: right;\">\n",
              "      <th></th>\n",
              "      <th>User_ID</th>\n",
              "      <th>Product_ID</th>\n",
              "      <th>Gender</th>\n",
              "      <th>Age</th>\n",
              "      <th>Occupation</th>\n",
              "      <th>City_Category</th>\n",
              "      <th>Stay_In_Current_City_Years</th>\n",
              "      <th>Marital_Status</th>\n",
              "      <th>Product_Category</th>\n",
              "      <th>Purchase</th>\n",
              "    </tr>\n",
              "  </thead>\n",
              "  <tbody>\n",
              "    <tr>\n",
              "      <th>0</th>\n",
              "      <td>1000001</td>\n",
              "      <td>P00069042</td>\n",
              "      <td>F</td>\n",
              "      <td>0-17</td>\n",
              "      <td>10</td>\n",
              "      <td>A</td>\n",
              "      <td>2</td>\n",
              "      <td>0</td>\n",
              "      <td>3</td>\n",
              "      <td>8370</td>\n",
              "    </tr>\n",
              "    <tr>\n",
              "      <th>1</th>\n",
              "      <td>1000001</td>\n",
              "      <td>P00248942</td>\n",
              "      <td>F</td>\n",
              "      <td>0-17</td>\n",
              "      <td>10</td>\n",
              "      <td>A</td>\n",
              "      <td>2</td>\n",
              "      <td>0</td>\n",
              "      <td>1</td>\n",
              "      <td>15200</td>\n",
              "    </tr>\n",
              "    <tr>\n",
              "      <th>2</th>\n",
              "      <td>1000001</td>\n",
              "      <td>P00087842</td>\n",
              "      <td>F</td>\n",
              "      <td>0-17</td>\n",
              "      <td>10</td>\n",
              "      <td>A</td>\n",
              "      <td>2</td>\n",
              "      <td>0</td>\n",
              "      <td>12</td>\n",
              "      <td>1422</td>\n",
              "    </tr>\n",
              "    <tr>\n",
              "      <th>3</th>\n",
              "      <td>1000001</td>\n",
              "      <td>P00085442</td>\n",
              "      <td>F</td>\n",
              "      <td>0-17</td>\n",
              "      <td>10</td>\n",
              "      <td>A</td>\n",
              "      <td>2</td>\n",
              "      <td>0</td>\n",
              "      <td>12</td>\n",
              "      <td>1057</td>\n",
              "    </tr>\n",
              "    <tr>\n",
              "      <th>4</th>\n",
              "      <td>1000002</td>\n",
              "      <td>P00285442</td>\n",
              "      <td>M</td>\n",
              "      <td>55+</td>\n",
              "      <td>16</td>\n",
              "      <td>C</td>\n",
              "      <td>4+</td>\n",
              "      <td>0</td>\n",
              "      <td>8</td>\n",
              "      <td>7969</td>\n",
              "    </tr>\n",
              "  </tbody>\n",
              "</table>\n",
              "</div>\n",
              "    <div class=\"colab-df-buttons\">\n",
              "\n",
              "  <div class=\"colab-df-container\">\n",
              "    <button class=\"colab-df-convert\" onclick=\"convertToInteractive('df-a70f683e-a3ab-4ccf-9516-150bad77100b')\"\n",
              "            title=\"Convert this dataframe to an interactive table.\"\n",
              "            style=\"display:none;\">\n",
              "\n",
              "  <svg xmlns=\"http://www.w3.org/2000/svg\" height=\"24px\" viewBox=\"0 -960 960 960\">\n",
              "    <path d=\"M120-120v-720h720v720H120Zm60-500h600v-160H180v160Zm220 220h160v-160H400v160Zm0 220h160v-160H400v160ZM180-400h160v-160H180v160Zm440 0h160v-160H620v160ZM180-180h160v-160H180v160Zm440 0h160v-160H620v160Z\"/>\n",
              "  </svg>\n",
              "    </button>\n",
              "\n",
              "  <style>\n",
              "    .colab-df-container {\n",
              "      display:flex;\n",
              "      gap: 12px;\n",
              "    }\n",
              "\n",
              "    .colab-df-convert {\n",
              "      background-color: #E8F0FE;\n",
              "      border: none;\n",
              "      border-radius: 50%;\n",
              "      cursor: pointer;\n",
              "      display: none;\n",
              "      fill: #1967D2;\n",
              "      height: 32px;\n",
              "      padding: 0 0 0 0;\n",
              "      width: 32px;\n",
              "    }\n",
              "\n",
              "    .colab-df-convert:hover {\n",
              "      background-color: #E2EBFA;\n",
              "      box-shadow: 0px 1px 2px rgba(60, 64, 67, 0.3), 0px 1px 3px 1px rgba(60, 64, 67, 0.15);\n",
              "      fill: #174EA6;\n",
              "    }\n",
              "\n",
              "    .colab-df-buttons div {\n",
              "      margin-bottom: 4px;\n",
              "    }\n",
              "\n",
              "    [theme=dark] .colab-df-convert {\n",
              "      background-color: #3B4455;\n",
              "      fill: #D2E3FC;\n",
              "    }\n",
              "\n",
              "    [theme=dark] .colab-df-convert:hover {\n",
              "      background-color: #434B5C;\n",
              "      box-shadow: 0px 1px 3px 1px rgba(0, 0, 0, 0.15);\n",
              "      filter: drop-shadow(0px 1px 2px rgba(0, 0, 0, 0.3));\n",
              "      fill: #FFFFFF;\n",
              "    }\n",
              "  </style>\n",
              "\n",
              "    <script>\n",
              "      const buttonEl =\n",
              "        document.querySelector('#df-a70f683e-a3ab-4ccf-9516-150bad77100b button.colab-df-convert');\n",
              "      buttonEl.style.display =\n",
              "        google.colab.kernel.accessAllowed ? 'block' : 'none';\n",
              "\n",
              "      async function convertToInteractive(key) {\n",
              "        const element = document.querySelector('#df-a70f683e-a3ab-4ccf-9516-150bad77100b');\n",
              "        const dataTable =\n",
              "          await google.colab.kernel.invokeFunction('convertToInteractive',\n",
              "                                                    [key], {});\n",
              "        if (!dataTable) return;\n",
              "\n",
              "        const docLinkHtml = 'Like what you see? Visit the ' +\n",
              "          '<a target=\"_blank\" href=https://colab.research.google.com/notebooks/data_table.ipynb>data table notebook</a>'\n",
              "          + ' to learn more about interactive tables.';\n",
              "        element.innerHTML = '';\n",
              "        dataTable['output_type'] = 'display_data';\n",
              "        await google.colab.output.renderOutput(dataTable, element);\n",
              "        const docLink = document.createElement('div');\n",
              "        docLink.innerHTML = docLinkHtml;\n",
              "        element.appendChild(docLink);\n",
              "      }\n",
              "    </script>\n",
              "  </div>\n",
              "\n",
              "\n",
              "<div id=\"df-fcad1e06-eff9-4234-aaf2-0ea9d6d7451f\">\n",
              "  <button class=\"colab-df-quickchart\" onclick=\"quickchart('df-fcad1e06-eff9-4234-aaf2-0ea9d6d7451f')\"\n",
              "            title=\"Suggest charts\"\n",
              "            style=\"display:none;\">\n",
              "\n",
              "<svg xmlns=\"http://www.w3.org/2000/svg\" height=\"24px\"viewBox=\"0 0 24 24\"\n",
              "     width=\"24px\">\n",
              "    <g>\n",
              "        <path d=\"M19 3H5c-1.1 0-2 .9-2 2v14c0 1.1.9 2 2 2h14c1.1 0 2-.9 2-2V5c0-1.1-.9-2-2-2zM9 17H7v-7h2v7zm4 0h-2V7h2v10zm4 0h-2v-4h2v4z\"/>\n",
              "    </g>\n",
              "</svg>\n",
              "  </button>\n",
              "\n",
              "<style>\n",
              "  .colab-df-quickchart {\n",
              "      --bg-color: #E8F0FE;\n",
              "      --fill-color: #1967D2;\n",
              "      --hover-bg-color: #E2EBFA;\n",
              "      --hover-fill-color: #174EA6;\n",
              "      --disabled-fill-color: #AAA;\n",
              "      --disabled-bg-color: #DDD;\n",
              "  }\n",
              "\n",
              "  [theme=dark] .colab-df-quickchart {\n",
              "      --bg-color: #3B4455;\n",
              "      --fill-color: #D2E3FC;\n",
              "      --hover-bg-color: #434B5C;\n",
              "      --hover-fill-color: #FFFFFF;\n",
              "      --disabled-bg-color: #3B4455;\n",
              "      --disabled-fill-color: #666;\n",
              "  }\n",
              "\n",
              "  .colab-df-quickchart {\n",
              "    background-color: var(--bg-color);\n",
              "    border: none;\n",
              "    border-radius: 50%;\n",
              "    cursor: pointer;\n",
              "    display: none;\n",
              "    fill: var(--fill-color);\n",
              "    height: 32px;\n",
              "    padding: 0;\n",
              "    width: 32px;\n",
              "  }\n",
              "\n",
              "  .colab-df-quickchart:hover {\n",
              "    background-color: var(--hover-bg-color);\n",
              "    box-shadow: 0 1px 2px rgba(60, 64, 67, 0.3), 0 1px 3px 1px rgba(60, 64, 67, 0.15);\n",
              "    fill: var(--button-hover-fill-color);\n",
              "  }\n",
              "\n",
              "  .colab-df-quickchart-complete:disabled,\n",
              "  .colab-df-quickchart-complete:disabled:hover {\n",
              "    background-color: var(--disabled-bg-color);\n",
              "    fill: var(--disabled-fill-color);\n",
              "    box-shadow: none;\n",
              "  }\n",
              "\n",
              "  .colab-df-spinner {\n",
              "    border: 2px solid var(--fill-color);\n",
              "    border-color: transparent;\n",
              "    border-bottom-color: var(--fill-color);\n",
              "    animation:\n",
              "      spin 1s steps(1) infinite;\n",
              "  }\n",
              "\n",
              "  @keyframes spin {\n",
              "    0% {\n",
              "      border-color: transparent;\n",
              "      border-bottom-color: var(--fill-color);\n",
              "      border-left-color: var(--fill-color);\n",
              "    }\n",
              "    20% {\n",
              "      border-color: transparent;\n",
              "      border-left-color: var(--fill-color);\n",
              "      border-top-color: var(--fill-color);\n",
              "    }\n",
              "    30% {\n",
              "      border-color: transparent;\n",
              "      border-left-color: var(--fill-color);\n",
              "      border-top-color: var(--fill-color);\n",
              "      border-right-color: var(--fill-color);\n",
              "    }\n",
              "    40% {\n",
              "      border-color: transparent;\n",
              "      border-right-color: var(--fill-color);\n",
              "      border-top-color: var(--fill-color);\n",
              "    }\n",
              "    60% {\n",
              "      border-color: transparent;\n",
              "      border-right-color: var(--fill-color);\n",
              "    }\n",
              "    80% {\n",
              "      border-color: transparent;\n",
              "      border-right-color: var(--fill-color);\n",
              "      border-bottom-color: var(--fill-color);\n",
              "    }\n",
              "    90% {\n",
              "      border-color: transparent;\n",
              "      border-bottom-color: var(--fill-color);\n",
              "    }\n",
              "  }\n",
              "</style>\n",
              "\n",
              "  <script>\n",
              "    async function quickchart(key) {\n",
              "      const quickchartButtonEl =\n",
              "        document.querySelector('#' + key + ' button');\n",
              "      quickchartButtonEl.disabled = true;  // To prevent multiple clicks.\n",
              "      quickchartButtonEl.classList.add('colab-df-spinner');\n",
              "      try {\n",
              "        const charts = await google.colab.kernel.invokeFunction(\n",
              "            'suggestCharts', [key], {});\n",
              "      } catch (error) {\n",
              "        console.error('Error during call to suggestCharts:', error);\n",
              "      }\n",
              "      quickchartButtonEl.classList.remove('colab-df-spinner');\n",
              "      quickchartButtonEl.classList.add('colab-df-quickchart-complete');\n",
              "    }\n",
              "    (() => {\n",
              "      let quickchartButtonEl =\n",
              "        document.querySelector('#df-fcad1e06-eff9-4234-aaf2-0ea9d6d7451f button');\n",
              "      quickchartButtonEl.style.display =\n",
              "        google.colab.kernel.accessAllowed ? 'block' : 'none';\n",
              "    })();\n",
              "  </script>\n",
              "</div>\n",
              "\n",
              "    </div>\n",
              "  </div>\n"
            ],
            "application/vnd.google.colaboratory.intrinsic+json": {
              "type": "dataframe",
              "variable_name": "df"
            }
          },
          "metadata": {},
          "execution_count": 7
        }
      ]
    },
    {
      "cell_type": "code",
      "source": [
        "df.shape #will give number of rows and columns"
      ],
      "metadata": {
        "colab": {
          "base_uri": "https://localhost:8080/",
          "height": 0
        },
        "id": "zS3ltFGy366C",
        "outputId": "6bfccc67-4880-4c1c-db1b-1cdf2ff9d9f4"
      },
      "execution_count": 8,
      "outputs": [
        {
          "output_type": "execute_result",
          "data": {
            "text/plain": [
              "(550068, 10)"
            ]
          },
          "metadata": {},
          "execution_count": 8
        }
      ]
    },
    {
      "cell_type": "code",
      "source": [
        "df.info() #will give data type of each column and null values in each column"
      ],
      "metadata": {
        "colab": {
          "base_uri": "https://localhost:8080/",
          "height": 0
        },
        "id": "pw9aUOt8BPkH",
        "outputId": "690f502d-eac1-408e-88e0-09aba60fa991"
      },
      "execution_count": 9,
      "outputs": [
        {
          "output_type": "stream",
          "name": "stdout",
          "text": [
            "<class 'pandas.core.frame.DataFrame'>\n",
            "RangeIndex: 550068 entries, 0 to 550067\n",
            "Data columns (total 10 columns):\n",
            " #   Column                      Non-Null Count   Dtype \n",
            "---  ------                      --------------   ----- \n",
            " 0   User_ID                     550068 non-null  int64 \n",
            " 1   Product_ID                  550068 non-null  object\n",
            " 2   Gender                      550068 non-null  object\n",
            " 3   Age                         550068 non-null  object\n",
            " 4   Occupation                  550068 non-null  int64 \n",
            " 5   City_Category               550068 non-null  object\n",
            " 6   Stay_In_Current_City_Years  550068 non-null  object\n",
            " 7   Marital_Status              550068 non-null  int64 \n",
            " 8   Product_Category            550068 non-null  int64 \n",
            " 9   Purchase                    550068 non-null  int64 \n",
            "dtypes: int64(5), object(5)\n",
            "memory usage: 42.0+ MB\n"
          ]
        }
      ]
    },
    {
      "cell_type": "code",
      "source": [
        "df"
      ],
      "metadata": {
        "colab": {
          "base_uri": "https://localhost:8080/",
          "height": 423
        },
        "id": "O2ID8vgmCxld",
        "outputId": "eb1887b0-f5c9-4afd-940c-d44bb7bfc33e"
      },
      "execution_count": 10,
      "outputs": [
        {
          "output_type": "execute_result",
          "data": {
            "text/plain": [
              "        User_ID Product_ID Gender    Age  Occupation City_Category  \\\n",
              "0       1000001  P00069042      F   0-17          10             A   \n",
              "1       1000001  P00248942      F   0-17          10             A   \n",
              "2       1000001  P00087842      F   0-17          10             A   \n",
              "3       1000001  P00085442      F   0-17          10             A   \n",
              "4       1000002  P00285442      M    55+          16             C   \n",
              "...         ...        ...    ...    ...         ...           ...   \n",
              "550063  1006033  P00372445      M  51-55          13             B   \n",
              "550064  1006035  P00375436      F  26-35           1             C   \n",
              "550065  1006036  P00375436      F  26-35          15             B   \n",
              "550066  1006038  P00375436      F    55+           1             C   \n",
              "550067  1006039  P00371644      F  46-50           0             B   \n",
              "\n",
              "       Stay_In_Current_City_Years  Marital_Status  Product_Category  Purchase  \n",
              "0                               2               0                 3      8370  \n",
              "1                               2               0                 1     15200  \n",
              "2                               2               0                12      1422  \n",
              "3                               2               0                12      1057  \n",
              "4                              4+               0                 8      7969  \n",
              "...                           ...             ...               ...       ...  \n",
              "550063                          1               1                20       368  \n",
              "550064                          3               0                20       371  \n",
              "550065                         4+               1                20       137  \n",
              "550066                          2               0                20       365  \n",
              "550067                         4+               1                20       490  \n",
              "\n",
              "[550068 rows x 10 columns]"
            ],
            "text/html": [
              "\n",
              "  <div id=\"df-5b7058f0-bdf7-4382-b3e2-0471ecb6ce0a\" class=\"colab-df-container\">\n",
              "    <div>\n",
              "<style scoped>\n",
              "    .dataframe tbody tr th:only-of-type {\n",
              "        vertical-align: middle;\n",
              "    }\n",
              "\n",
              "    .dataframe tbody tr th {\n",
              "        vertical-align: top;\n",
              "    }\n",
              "\n",
              "    .dataframe thead th {\n",
              "        text-align: right;\n",
              "    }\n",
              "</style>\n",
              "<table border=\"1\" class=\"dataframe\">\n",
              "  <thead>\n",
              "    <tr style=\"text-align: right;\">\n",
              "      <th></th>\n",
              "      <th>User_ID</th>\n",
              "      <th>Product_ID</th>\n",
              "      <th>Gender</th>\n",
              "      <th>Age</th>\n",
              "      <th>Occupation</th>\n",
              "      <th>City_Category</th>\n",
              "      <th>Stay_In_Current_City_Years</th>\n",
              "      <th>Marital_Status</th>\n",
              "      <th>Product_Category</th>\n",
              "      <th>Purchase</th>\n",
              "    </tr>\n",
              "  </thead>\n",
              "  <tbody>\n",
              "    <tr>\n",
              "      <th>0</th>\n",
              "      <td>1000001</td>\n",
              "      <td>P00069042</td>\n",
              "      <td>F</td>\n",
              "      <td>0-17</td>\n",
              "      <td>10</td>\n",
              "      <td>A</td>\n",
              "      <td>2</td>\n",
              "      <td>0</td>\n",
              "      <td>3</td>\n",
              "      <td>8370</td>\n",
              "    </tr>\n",
              "    <tr>\n",
              "      <th>1</th>\n",
              "      <td>1000001</td>\n",
              "      <td>P00248942</td>\n",
              "      <td>F</td>\n",
              "      <td>0-17</td>\n",
              "      <td>10</td>\n",
              "      <td>A</td>\n",
              "      <td>2</td>\n",
              "      <td>0</td>\n",
              "      <td>1</td>\n",
              "      <td>15200</td>\n",
              "    </tr>\n",
              "    <tr>\n",
              "      <th>2</th>\n",
              "      <td>1000001</td>\n",
              "      <td>P00087842</td>\n",
              "      <td>F</td>\n",
              "      <td>0-17</td>\n",
              "      <td>10</td>\n",
              "      <td>A</td>\n",
              "      <td>2</td>\n",
              "      <td>0</td>\n",
              "      <td>12</td>\n",
              "      <td>1422</td>\n",
              "    </tr>\n",
              "    <tr>\n",
              "      <th>3</th>\n",
              "      <td>1000001</td>\n",
              "      <td>P00085442</td>\n",
              "      <td>F</td>\n",
              "      <td>0-17</td>\n",
              "      <td>10</td>\n",
              "      <td>A</td>\n",
              "      <td>2</td>\n",
              "      <td>0</td>\n",
              "      <td>12</td>\n",
              "      <td>1057</td>\n",
              "    </tr>\n",
              "    <tr>\n",
              "      <th>4</th>\n",
              "      <td>1000002</td>\n",
              "      <td>P00285442</td>\n",
              "      <td>M</td>\n",
              "      <td>55+</td>\n",
              "      <td>16</td>\n",
              "      <td>C</td>\n",
              "      <td>4+</td>\n",
              "      <td>0</td>\n",
              "      <td>8</td>\n",
              "      <td>7969</td>\n",
              "    </tr>\n",
              "    <tr>\n",
              "      <th>...</th>\n",
              "      <td>...</td>\n",
              "      <td>...</td>\n",
              "      <td>...</td>\n",
              "      <td>...</td>\n",
              "      <td>...</td>\n",
              "      <td>...</td>\n",
              "      <td>...</td>\n",
              "      <td>...</td>\n",
              "      <td>...</td>\n",
              "      <td>...</td>\n",
              "    </tr>\n",
              "    <tr>\n",
              "      <th>550063</th>\n",
              "      <td>1006033</td>\n",
              "      <td>P00372445</td>\n",
              "      <td>M</td>\n",
              "      <td>51-55</td>\n",
              "      <td>13</td>\n",
              "      <td>B</td>\n",
              "      <td>1</td>\n",
              "      <td>1</td>\n",
              "      <td>20</td>\n",
              "      <td>368</td>\n",
              "    </tr>\n",
              "    <tr>\n",
              "      <th>550064</th>\n",
              "      <td>1006035</td>\n",
              "      <td>P00375436</td>\n",
              "      <td>F</td>\n",
              "      <td>26-35</td>\n",
              "      <td>1</td>\n",
              "      <td>C</td>\n",
              "      <td>3</td>\n",
              "      <td>0</td>\n",
              "      <td>20</td>\n",
              "      <td>371</td>\n",
              "    </tr>\n",
              "    <tr>\n",
              "      <th>550065</th>\n",
              "      <td>1006036</td>\n",
              "      <td>P00375436</td>\n",
              "      <td>F</td>\n",
              "      <td>26-35</td>\n",
              "      <td>15</td>\n",
              "      <td>B</td>\n",
              "      <td>4+</td>\n",
              "      <td>1</td>\n",
              "      <td>20</td>\n",
              "      <td>137</td>\n",
              "    </tr>\n",
              "    <tr>\n",
              "      <th>550066</th>\n",
              "      <td>1006038</td>\n",
              "      <td>P00375436</td>\n",
              "      <td>F</td>\n",
              "      <td>55+</td>\n",
              "      <td>1</td>\n",
              "      <td>C</td>\n",
              "      <td>2</td>\n",
              "      <td>0</td>\n",
              "      <td>20</td>\n",
              "      <td>365</td>\n",
              "    </tr>\n",
              "    <tr>\n",
              "      <th>550067</th>\n",
              "      <td>1006039</td>\n",
              "      <td>P00371644</td>\n",
              "      <td>F</td>\n",
              "      <td>46-50</td>\n",
              "      <td>0</td>\n",
              "      <td>B</td>\n",
              "      <td>4+</td>\n",
              "      <td>1</td>\n",
              "      <td>20</td>\n",
              "      <td>490</td>\n",
              "    </tr>\n",
              "  </tbody>\n",
              "</table>\n",
              "<p>550068 rows × 10 columns</p>\n",
              "</div>\n",
              "    <div class=\"colab-df-buttons\">\n",
              "\n",
              "  <div class=\"colab-df-container\">\n",
              "    <button class=\"colab-df-convert\" onclick=\"convertToInteractive('df-5b7058f0-bdf7-4382-b3e2-0471ecb6ce0a')\"\n",
              "            title=\"Convert this dataframe to an interactive table.\"\n",
              "            style=\"display:none;\">\n",
              "\n",
              "  <svg xmlns=\"http://www.w3.org/2000/svg\" height=\"24px\" viewBox=\"0 -960 960 960\">\n",
              "    <path d=\"M120-120v-720h720v720H120Zm60-500h600v-160H180v160Zm220 220h160v-160H400v160Zm0 220h160v-160H400v160ZM180-400h160v-160H180v160Zm440 0h160v-160H620v160ZM180-180h160v-160H180v160Zm440 0h160v-160H620v160Z\"/>\n",
              "  </svg>\n",
              "    </button>\n",
              "\n",
              "  <style>\n",
              "    .colab-df-container {\n",
              "      display:flex;\n",
              "      gap: 12px;\n",
              "    }\n",
              "\n",
              "    .colab-df-convert {\n",
              "      background-color: #E8F0FE;\n",
              "      border: none;\n",
              "      border-radius: 50%;\n",
              "      cursor: pointer;\n",
              "      display: none;\n",
              "      fill: #1967D2;\n",
              "      height: 32px;\n",
              "      padding: 0 0 0 0;\n",
              "      width: 32px;\n",
              "    }\n",
              "\n",
              "    .colab-df-convert:hover {\n",
              "      background-color: #E2EBFA;\n",
              "      box-shadow: 0px 1px 2px rgba(60, 64, 67, 0.3), 0px 1px 3px 1px rgba(60, 64, 67, 0.15);\n",
              "      fill: #174EA6;\n",
              "    }\n",
              "\n",
              "    .colab-df-buttons div {\n",
              "      margin-bottom: 4px;\n",
              "    }\n",
              "\n",
              "    [theme=dark] .colab-df-convert {\n",
              "      background-color: #3B4455;\n",
              "      fill: #D2E3FC;\n",
              "    }\n",
              "\n",
              "    [theme=dark] .colab-df-convert:hover {\n",
              "      background-color: #434B5C;\n",
              "      box-shadow: 0px 1px 3px 1px rgba(0, 0, 0, 0.15);\n",
              "      filter: drop-shadow(0px 1px 2px rgba(0, 0, 0, 0.3));\n",
              "      fill: #FFFFFF;\n",
              "    }\n",
              "  </style>\n",
              "\n",
              "    <script>\n",
              "      const buttonEl =\n",
              "        document.querySelector('#df-5b7058f0-bdf7-4382-b3e2-0471ecb6ce0a button.colab-df-convert');\n",
              "      buttonEl.style.display =\n",
              "        google.colab.kernel.accessAllowed ? 'block' : 'none';\n",
              "\n",
              "      async function convertToInteractive(key) {\n",
              "        const element = document.querySelector('#df-5b7058f0-bdf7-4382-b3e2-0471ecb6ce0a');\n",
              "        const dataTable =\n",
              "          await google.colab.kernel.invokeFunction('convertToInteractive',\n",
              "                                                    [key], {});\n",
              "        if (!dataTable) return;\n",
              "\n",
              "        const docLinkHtml = 'Like what you see? Visit the ' +\n",
              "          '<a target=\"_blank\" href=https://colab.research.google.com/notebooks/data_table.ipynb>data table notebook</a>'\n",
              "          + ' to learn more about interactive tables.';\n",
              "        element.innerHTML = '';\n",
              "        dataTable['output_type'] = 'display_data';\n",
              "        await google.colab.output.renderOutput(dataTable, element);\n",
              "        const docLink = document.createElement('div');\n",
              "        docLink.innerHTML = docLinkHtml;\n",
              "        element.appendChild(docLink);\n",
              "      }\n",
              "    </script>\n",
              "  </div>\n",
              "\n",
              "\n",
              "<div id=\"df-bff206f9-fb0c-4f71-af12-fa6fd3dc16ca\">\n",
              "  <button class=\"colab-df-quickchart\" onclick=\"quickchart('df-bff206f9-fb0c-4f71-af12-fa6fd3dc16ca')\"\n",
              "            title=\"Suggest charts\"\n",
              "            style=\"display:none;\">\n",
              "\n",
              "<svg xmlns=\"http://www.w3.org/2000/svg\" height=\"24px\"viewBox=\"0 0 24 24\"\n",
              "     width=\"24px\">\n",
              "    <g>\n",
              "        <path d=\"M19 3H5c-1.1 0-2 .9-2 2v14c0 1.1.9 2 2 2h14c1.1 0 2-.9 2-2V5c0-1.1-.9-2-2-2zM9 17H7v-7h2v7zm4 0h-2V7h2v10zm4 0h-2v-4h2v4z\"/>\n",
              "    </g>\n",
              "</svg>\n",
              "  </button>\n",
              "\n",
              "<style>\n",
              "  .colab-df-quickchart {\n",
              "      --bg-color: #E8F0FE;\n",
              "      --fill-color: #1967D2;\n",
              "      --hover-bg-color: #E2EBFA;\n",
              "      --hover-fill-color: #174EA6;\n",
              "      --disabled-fill-color: #AAA;\n",
              "      --disabled-bg-color: #DDD;\n",
              "  }\n",
              "\n",
              "  [theme=dark] .colab-df-quickchart {\n",
              "      --bg-color: #3B4455;\n",
              "      --fill-color: #D2E3FC;\n",
              "      --hover-bg-color: #434B5C;\n",
              "      --hover-fill-color: #FFFFFF;\n",
              "      --disabled-bg-color: #3B4455;\n",
              "      --disabled-fill-color: #666;\n",
              "  }\n",
              "\n",
              "  .colab-df-quickchart {\n",
              "    background-color: var(--bg-color);\n",
              "    border: none;\n",
              "    border-radius: 50%;\n",
              "    cursor: pointer;\n",
              "    display: none;\n",
              "    fill: var(--fill-color);\n",
              "    height: 32px;\n",
              "    padding: 0;\n",
              "    width: 32px;\n",
              "  }\n",
              "\n",
              "  .colab-df-quickchart:hover {\n",
              "    background-color: var(--hover-bg-color);\n",
              "    box-shadow: 0 1px 2px rgba(60, 64, 67, 0.3), 0 1px 3px 1px rgba(60, 64, 67, 0.15);\n",
              "    fill: var(--button-hover-fill-color);\n",
              "  }\n",
              "\n",
              "  .colab-df-quickchart-complete:disabled,\n",
              "  .colab-df-quickchart-complete:disabled:hover {\n",
              "    background-color: var(--disabled-bg-color);\n",
              "    fill: var(--disabled-fill-color);\n",
              "    box-shadow: none;\n",
              "  }\n",
              "\n",
              "  .colab-df-spinner {\n",
              "    border: 2px solid var(--fill-color);\n",
              "    border-color: transparent;\n",
              "    border-bottom-color: var(--fill-color);\n",
              "    animation:\n",
              "      spin 1s steps(1) infinite;\n",
              "  }\n",
              "\n",
              "  @keyframes spin {\n",
              "    0% {\n",
              "      border-color: transparent;\n",
              "      border-bottom-color: var(--fill-color);\n",
              "      border-left-color: var(--fill-color);\n",
              "    }\n",
              "    20% {\n",
              "      border-color: transparent;\n",
              "      border-left-color: var(--fill-color);\n",
              "      border-top-color: var(--fill-color);\n",
              "    }\n",
              "    30% {\n",
              "      border-color: transparent;\n",
              "      border-left-color: var(--fill-color);\n",
              "      border-top-color: var(--fill-color);\n",
              "      border-right-color: var(--fill-color);\n",
              "    }\n",
              "    40% {\n",
              "      border-color: transparent;\n",
              "      border-right-color: var(--fill-color);\n",
              "      border-top-color: var(--fill-color);\n",
              "    }\n",
              "    60% {\n",
              "      border-color: transparent;\n",
              "      border-right-color: var(--fill-color);\n",
              "    }\n",
              "    80% {\n",
              "      border-color: transparent;\n",
              "      border-right-color: var(--fill-color);\n",
              "      border-bottom-color: var(--fill-color);\n",
              "    }\n",
              "    90% {\n",
              "      border-color: transparent;\n",
              "      border-bottom-color: var(--fill-color);\n",
              "    }\n",
              "  }\n",
              "</style>\n",
              "\n",
              "  <script>\n",
              "    async function quickchart(key) {\n",
              "      const quickchartButtonEl =\n",
              "        document.querySelector('#' + key + ' button');\n",
              "      quickchartButtonEl.disabled = true;  // To prevent multiple clicks.\n",
              "      quickchartButtonEl.classList.add('colab-df-spinner');\n",
              "      try {\n",
              "        const charts = await google.colab.kernel.invokeFunction(\n",
              "            'suggestCharts', [key], {});\n",
              "      } catch (error) {\n",
              "        console.error('Error during call to suggestCharts:', error);\n",
              "      }\n",
              "      quickchartButtonEl.classList.remove('colab-df-spinner');\n",
              "      quickchartButtonEl.classList.add('colab-df-quickchart-complete');\n",
              "    }\n",
              "    (() => {\n",
              "      let quickchartButtonEl =\n",
              "        document.querySelector('#df-bff206f9-fb0c-4f71-af12-fa6fd3dc16ca button');\n",
              "      quickchartButtonEl.style.display =\n",
              "        google.colab.kernel.accessAllowed ? 'block' : 'none';\n",
              "    })();\n",
              "  </script>\n",
              "</div>\n",
              "\n",
              "  <div id=\"id_f8d2ff82-770e-4bb3-8ab9-f137c94fe309\">\n",
              "    <style>\n",
              "      .colab-df-generate {\n",
              "        background-color: #E8F0FE;\n",
              "        border: none;\n",
              "        border-radius: 50%;\n",
              "        cursor: pointer;\n",
              "        display: none;\n",
              "        fill: #1967D2;\n",
              "        height: 32px;\n",
              "        padding: 0 0 0 0;\n",
              "        width: 32px;\n",
              "      }\n",
              "\n",
              "      .colab-df-generate:hover {\n",
              "        background-color: #E2EBFA;\n",
              "        box-shadow: 0px 1px 2px rgba(60, 64, 67, 0.3), 0px 1px 3px 1px rgba(60, 64, 67, 0.15);\n",
              "        fill: #174EA6;\n",
              "      }\n",
              "\n",
              "      [theme=dark] .colab-df-generate {\n",
              "        background-color: #3B4455;\n",
              "        fill: #D2E3FC;\n",
              "      }\n",
              "\n",
              "      [theme=dark] .colab-df-generate:hover {\n",
              "        background-color: #434B5C;\n",
              "        box-shadow: 0px 1px 3px 1px rgba(0, 0, 0, 0.15);\n",
              "        filter: drop-shadow(0px 1px 2px rgba(0, 0, 0, 0.3));\n",
              "        fill: #FFFFFF;\n",
              "      }\n",
              "    </style>\n",
              "    <button class=\"colab-df-generate\" onclick=\"generateWithVariable('df')\"\n",
              "            title=\"Generate code using this dataframe.\"\n",
              "            style=\"display:none;\">\n",
              "\n",
              "  <svg xmlns=\"http://www.w3.org/2000/svg\" height=\"24px\"viewBox=\"0 0 24 24\"\n",
              "       width=\"24px\">\n",
              "    <path d=\"M7,19H8.4L18.45,9,17,7.55,7,17.6ZM5,21V16.75L18.45,3.32a2,2,0,0,1,2.83,0l1.4,1.43a1.91,1.91,0,0,1,.58,1.4,1.91,1.91,0,0,1-.58,1.4L9.25,21ZM18.45,9,17,7.55Zm-12,3A5.31,5.31,0,0,0,4.9,8.1,5.31,5.31,0,0,0,1,6.5,5.31,5.31,0,0,0,4.9,4.9,5.31,5.31,0,0,0,6.5,1,5.31,5.31,0,0,0,8.1,4.9,5.31,5.31,0,0,0,12,6.5,5.46,5.46,0,0,0,6.5,12Z\"/>\n",
              "  </svg>\n",
              "    </button>\n",
              "    <script>\n",
              "      (() => {\n",
              "      const buttonEl =\n",
              "        document.querySelector('#id_f8d2ff82-770e-4bb3-8ab9-f137c94fe309 button.colab-df-generate');\n",
              "      buttonEl.style.display =\n",
              "        google.colab.kernel.accessAllowed ? 'block' : 'none';\n",
              "\n",
              "      buttonEl.onclick = () => {\n",
              "        google.colab.notebook.generateWithVariable('df');\n",
              "      }\n",
              "      })();\n",
              "    </script>\n",
              "  </div>\n",
              "\n",
              "    </div>\n",
              "  </div>\n"
            ],
            "application/vnd.google.colaboratory.intrinsic+json": {
              "type": "dataframe",
              "variable_name": "df"
            }
          },
          "metadata": {},
          "execution_count": 10
        }
      ]
    },
    {
      "cell_type": "markdown",
      "source": [
        "\n",
        "\n",
        "---\n",
        "\n",
        "\n",
        "\n",
        "---\n",
        "\n"
      ],
      "metadata": {
        "id": "kvsmYRMamuGh"
      }
    },
    {
      "cell_type": "code",
      "source": [
        "#checking null values and dealing with outliers\n",
        "df.isnull().sum()  #will give sum of null values in each column"
      ],
      "metadata": {
        "id": "vlb91U3vD9aB",
        "colab": {
          "base_uri": "https://localhost:8080/",
          "height": 0
        },
        "outputId": "50a96c22-9de1-4e86-ce94-fd0aa5f17004"
      },
      "execution_count": 11,
      "outputs": [
        {
          "output_type": "execute_result",
          "data": {
            "text/plain": [
              "User_ID                       0\n",
              "Product_ID                    0\n",
              "Gender                        0\n",
              "Age                           0\n",
              "Occupation                    0\n",
              "City_Category                 0\n",
              "Stay_In_Current_City_Years    0\n",
              "Marital_Status                0\n",
              "Product_Category              0\n",
              "Purchase                      0\n",
              "dtype: int64"
            ]
          },
          "metadata": {},
          "execution_count": 11
        }
      ]
    },
    {
      "cell_type": "markdown",
      "source": [
        "\n",
        "The 'Purchase' column contains continuous variables, and all others are categorical"
      ],
      "metadata": {
        "id": "YD4sRV6GHMBy"
      }
    },
    {
      "cell_type": "code",
      "source": [
        "plt.figure(figsize=(7,3))\n",
        "plt.title(\"Price distribution\")\n",
        "plt.hist(df[\"Purchase\"], bins=20)\n",
        "plt.xlabel(\"Purchase amount\")\n",
        "plt.ylabel(\"Frequency\")\n",
        "plt.yticks(rotation=45)\n",
        "plt.show()"
      ],
      "metadata": {
        "colab": {
          "base_uri": "https://localhost:8080/",
          "height": 333
        },
        "id": "ZWbyicGoHrJZ",
        "outputId": "1b50eae6-fd77-499c-a77c-50f60652ad3f"
      },
      "execution_count": 12,
      "outputs": [
        {
          "output_type": "display_data",
          "data": {
            "text/plain": [
              "<Figure size 700x300 with 1 Axes>"
            ],
            "image/png": "[encoded data removed]"
          },
          "metadata": {}
        }
      ]
    },
    {
      "cell_type": "markdown",
      "source": [
        "We can observe from the histogram that purchase amounts between 5000 and 8000 have a higher frequency compared to other purchase amounts. This suggests that a significant number of purchases fall within this price range"
      ],
      "metadata": {
        "id": "uoa6yNmBOHZJ"
      }
    },
    {
      "cell_type": "code",
      "source": [
        "#detecting outliers\n",
        "plt.figure(figsize=(7,3))\n",
        "sns.boxplot(data = df, x =\"Purchase\")\n",
        "plt.xlabel(\"Purchase amount\")\n",
        "plt.show()"
      ],
      "metadata": {
        "colab": {
          "base_uri": "https://localhost:8080/",
          "height": 311
        },
        "id": "21AmeHWyMQNC",
        "outputId": "3661f6e6-859e-4b1d-e980-6fea4ecaa736"
      },
      "execution_count": 13,
      "outputs": [
        {
          "output_type": "display_data",
          "data": {
            "text/plain": [
              "<Figure size 700x300 with 1 Axes>"
            ],
            "image/png": "[encoded data removed]"
          },
          "metadata": {}
        }
      ]
    },
    {
      "cell_type": "markdown",
      "source": [
        "we can conclude that majorty of purchase amount fall in the range 6000 to 12000"
      ],
      "metadata": {
        "id": "6LArXoewS0aY"
      }
    },
    {
      "cell_type": "code",
      "source": [
        "df[\"Purchase\"].describe()"
      ],
      "metadata": {
        "colab": {
          "base_uri": "https://localhost:8080/",
          "height": 0
        },
        "id": "AgGaHtBIPHI7",
        "outputId": "c86b22a9-d1e0-47bc-ed8c-b9f08303fdd8"
      },
      "execution_count": 14,
      "outputs": [
        {
          "output_type": "execute_result",
          "data": {
            "text/plain": [
              "count    550068.000000\n",
              "mean       9263.968713\n",
              "std        5023.065394\n",
              "min          12.000000\n",
              "25%        5823.000000\n",
              "50%        8047.000000\n",
              "75%       12054.000000\n",
              "max       23961.000000\n",
              "Name: Purchase, dtype: float64"
            ]
          },
          "metadata": {},
          "execution_count": 14
        }
      ]
    },
    {
      "cell_type": "code",
      "source": [
        "Q1 = np.percentile(df['Purchase'],25)\n",
        "Q3= np.percentile(df['Purchase'],75)\n",
        "IQR = Q3-Q1\n",
        "outliers = Q3 +(1.5*IQR)\n",
        "median= df[\"Purchase\"].median()\n",
        "print(f'upper outlier is:{outliers}')\n",
        "print(f'median is:{median}')\n",
        "print(f'IQR = :{IQR}')\n",
        "print(f'25th quartile=:{Q1}')\n",
        "print(f'75th quartile:{Q3}')"
      ],
      "metadata": {
        "colab": {
          "base_uri": "https://localhost:8080/",
          "height": 0
        },
        "id": "o6MQE_WyTW89",
        "outputId": "4bedce69-6fb1-4396-8c15-cee31cf65eb3"
      },
      "execution_count": 15,
      "outputs": [
        {
          "output_type": "stream",
          "name": "stdout",
          "text": [
            "upper outlier is:21400.5\n",
            "median is:8047.0\n",
            "IQR = :6231.0\n",
            "25th quartile=:5823.0\n",
            "75th quartile:12054.0\n"
          ]
        }
      ]
    },
    {
      "cell_type": "markdown",
      "source": [
        "**Analysis:**\n",
        "Any amount above 21400 is considered as outliers and 50% of the data lies\n",
        "between 5823 and 12054\n",
        "\n",
        "\n",
        "Difference b/w median and Q3 is large that means that it is right skewed distribution\n",
        "\n",
        "Half of the amount are below 8047\n",
        "\n",
        "25% of purchase amount are below 5823 and 75% of purchase maount are below 12054\n",
        "\n"
      ],
      "metadata": {
        "id": "zX4vKK9Lo7pd"
      }
    },
    {
      "cell_type": "code",
      "source": [
        "plt.figure(figsize=(7,3))\n",
        "sns.kdeplot(df[\"Purchase\"],bw_adjust=5)\n",
        "plt.show()"
      ],
      "metadata": {
        "colab": {
          "base_uri": "https://localhost:8080/",
          "height": 326
        },
        "id": "J_4XNwR8mfyl",
        "outputId": "1866acb3-9931-4075-f05c-b8308f66ef03"
      },
      "execution_count": 16,
      "outputs": [
        {
          "output_type": "display_data",
          "data": {
            "text/plain": [
              "<Figure size 700x300 with 1 Axes>"
            ],
            "image/png": "[encoded data removed]"
          },
          "metadata": {}
        }
      ]
    },
    {
      "cell_type": "markdown",
      "source": [
        "**Analysis** :\n",
        "as we have calcuated difference between Q3 and median found that it was large hence visualize and found that distribution is rightskewed"
      ],
      "metadata": {
        "id": "IAdE1YIwteqJ"
      }
    },
    {
      "cell_type": "code",
      "source": [
        "np.mean(df['Purchase']),np.median(df[\"Purchase\"]), stats.mode(df['Purchase'])"
      ],
      "metadata": {
        "colab": {
          "base_uri": "https://localhost:8080/",
          "height": 0
        },
        "id": "1RmIeZIUjeTD",
        "outputId": "ee43882d-2950-42d1-d1ba-026ea3c15686"
      },
      "execution_count": 17,
      "outputs": [
        {
          "output_type": "execute_result",
          "data": {
            "text/plain": [
              "(9263.968712959126, 8047.0, ModeResult(mode=7011, count=191))"
            ]
          },
          "metadata": {},
          "execution_count": 17
        }
      ]
    },
    {
      "cell_type": "markdown",
      "source": [
        "**For right skewed distribution mean>median>mode, here we have calculated and got result as expected for right skewed distribution**"
      ],
      "metadata": {
        "id": "AFu4XTtCm-2y"
      }
    },
    {
      "cell_type": "code",
      "source": [
        "percentile_5= np.percentile(df[\"Purchase\"],5)\n",
        "percentile_95=np.percentile(df[\"Purchase\"],95)\n",
        "clipped_data = np.clip(df[\"Purchase\"],percentile_5,percentile_95)\n",
        "clipped_data #data below 5th percentile becomes equal to 5th percentile, value above 95th percentile becomes exactly equal to 95th percentile\n",
        "#it is the way to remove outliers."
      ],
      "metadata": {
        "colab": {
          "base_uri": "https://localhost:8080/",
          "height": 0
        },
        "id": "5-z-7SsTr8XH",
        "outputId": "720f5a06-c33f-4e04-ebb0-179e8209c2ed"
      },
      "execution_count": 18,
      "outputs": [
        {
          "output_type": "execute_result",
          "data": {
            "text/plain": [
              "0          8370\n",
              "1         15200\n",
              "2          1984\n",
              "3          1984\n",
              "4          7969\n",
              "          ...  \n",
              "550063     1984\n",
              "550064     1984\n",
              "550065     1984\n",
              "550066     1984\n",
              "550067     1984\n",
              "Name: Purchase, Length: 550068, dtype: int64"
            ]
          },
          "metadata": {},
          "execution_count": 18
        }
      ]
    },
    {
      "cell_type": "markdown",
      "source": [
        "\n",
        "\n",
        "---\n",
        "\n",
        "\n",
        "\n",
        "---\n",
        "\n"
      ],
      "metadata": {
        "id": "dKbBE0M8nLID"
      }
    },
    {
      "cell_type": "code",
      "source": [
        "#Data Exploration\n",
        "df.describe(include='object')"
      ],
      "metadata": {
        "colab": {
          "base_uri": "https://localhost:8080/",
          "height": 175
        },
        "id": "_SAVGVKhneHH",
        "outputId": "79835794-27aa-461a-dd83-00445c75e089"
      },
      "execution_count": 19,
      "outputs": [
        {
          "output_type": "execute_result",
          "data": {
            "text/plain": [
              "       Product_ID  Gender     Age City_Category Stay_In_Current_City_Years\n",
              "count      550068  550068  550068        550068                     550068\n",
              "unique       3631       2       7             3                          5\n",
              "top     P00265242       M   26-35             B                          1\n",
              "freq         1880  414259  219587        231173                     193821"
            ],
            "text/html": [
              "\n",
              "  <div id=\"df-b5d7981d-9115-4ccf-a6a7-23837d06b43e\" class=\"colab-df-container\">\n",
              "    <div>\n",
              "<style scoped>\n",
              "    .dataframe tbody tr th:only-of-type {\n",
              "        vertical-align: middle;\n",
              "    }\n",
              "\n",
              "    .dataframe tbody tr th {\n",
              "        vertical-align: top;\n",
              "    }\n",
              "\n",
              "    .dataframe thead th {\n",
              "        text-align: right;\n",
              "    }\n",
              "</style>\n",
              "<table border=\"1\" class=\"dataframe\">\n",
              "  <thead>\n",
              "    <tr style=\"text-align: right;\">\n",
              "      <th></th>\n",
              "      <th>Product_ID</th>\n",
              "      <th>Gender</th>\n",
              "      <th>Age</th>\n",
              "      <th>City_Category</th>\n",
              "      <th>Stay_In_Current_City_Years</th>\n",
              "    </tr>\n",
              "  </thead>\n",
              "  <tbody>\n",
              "    <tr>\n",
              "      <th>count</th>\n",
              "      <td>550068</td>\n",
              "      <td>550068</td>\n",
              "      <td>550068</td>\n",
              "      <td>550068</td>\n",
              "      <td>550068</td>\n",
              "    </tr>\n",
              "    <tr>\n",
              "      <th>unique</th>\n",
              "      <td>3631</td>\n",
              "      <td>2</td>\n",
              "      <td>7</td>\n",
              "      <td>3</td>\n",
              "      <td>5</td>\n",
              "    </tr>\n",
              "    <tr>\n",
              "      <th>top</th>\n",
              "      <td>P00265242</td>\n",
              "      <td>M</td>\n",
              "      <td>26-35</td>\n",
              "      <td>B</td>\n",
              "      <td>1</td>\n",
              "    </tr>\n",
              "    <tr>\n",
              "      <th>freq</th>\n",
              "      <td>1880</td>\n",
              "      <td>414259</td>\n",
              "      <td>219587</td>\n",
              "      <td>231173</td>\n",
              "      <td>193821</td>\n",
              "    </tr>\n",
              "  </tbody>\n",
              "</table>\n",
              "</div>\n",
              "    <div class=\"colab-df-buttons\">\n",
              "\n",
              "  <div class=\"colab-df-container\">\n",
              "    <button class=\"colab-df-convert\" onclick=\"convertToInteractive('df-b5d7981d-9115-4ccf-a6a7-23837d06b43e')\"\n",
              "            title=\"Convert this dataframe to an interactive table.\"\n",
              "            style=\"display:none;\">\n",
              "\n",
              "  <svg xmlns=\"http://www.w3.org/2000/svg\" height=\"24px\" viewBox=\"0 -960 960 960\">\n",
              "    <path d=\"M120-120v-720h720v720H120Zm60-500h600v-160H180v160Zm220 220h160v-160H400v160Zm0 220h160v-160H400v160ZM180-400h160v-160H180v160Zm440 0h160v-160H620v160ZM180-180h160v-160H180v160Zm440 0h160v-160H620v160Z\"/>\n",
              "  </svg>\n",
              "    </button>\n",
              "\n",
              "  <style>\n",
              "    .colab-df-container {\n",
              "      display:flex;\n",
              "      gap: 12px;\n",
              "    }\n",
              "\n",
              "    .colab-df-convert {\n",
              "      background-color: #E8F0FE;\n",
              "      border: none;\n",
              "      border-radius: 50%;\n",
              "      cursor: pointer;\n",
              "      display: none;\n",
              "      fill: #1967D2;\n",
              "      height: 32px;\n",
              "      padding: 0 0 0 0;\n",
              "      width: 32px;\n",
              "    }\n",
              "\n",
              "    .colab-df-convert:hover {\n",
              "      background-color: #E2EBFA;\n",
              "      box-shadow: 0px 1px 2px rgba(60, 64, 67, 0.3), 0px 1px 3px 1px rgba(60, 64, 67, 0.15);\n",
              "      fill: #174EA6;\n",
              "    }\n",
              "\n",
              "    .colab-df-buttons div {\n",
              "      margin-bottom: 4px;\n",
              "    }\n",
              "\n",
              "    [theme=dark] .colab-df-convert {\n",
              "      background-color: #3B4455;\n",
              "      fill: #D2E3FC;\n",
              "    }\n",
              "\n",
              "    [theme=dark] .colab-df-convert:hover {\n",
              "      background-color: #434B5C;\n",
              "      box-shadow: 0px 1px 3px 1px rgba(0, 0, 0, 0.15);\n",
              "      filter: drop-shadow(0px 1px 2px rgba(0, 0, 0, 0.3));\n",
              "      fill: #FFFFFF;\n",
              "    }\n",
              "  </style>\n",
              "\n",
              "    <script>\n",
              "      const buttonEl =\n",
              "        document.querySelector('#df-b5d7981d-9115-4ccf-a6a7-23837d06b43e button.colab-df-convert');\n",
              "      buttonEl.style.display =\n",
              "        google.colab.kernel.accessAllowed ? 'block' : 'none';\n",
              "\n",
              "      async function convertToInteractive(key) {\n",
              "        const element = document.querySelector('#df-b5d7981d-9115-4ccf-a6a7-23837d06b43e');\n",
              "        const dataTable =\n",
              "          await google.colab.kernel.invokeFunction('convertToInteractive',\n",
              "                                                    [key], {});\n",
              "        if (!dataTable) return;\n",
              "\n",
              "        const docLinkHtml = 'Like what you see? Visit the ' +\n",
              "          '<a target=\"_blank\" href=https://colab.research.google.com/notebooks/data_table.ipynb>data table notebook</a>'\n",
              "          + ' to learn more about interactive tables.';\n",
              "        element.innerHTML = '';\n",
              "        dataTable['output_type'] = 'display_data';\n",
              "        await google.colab.output.renderOutput(dataTable, element);\n",
              "        const docLink = document.createElement('div');\n",
              "        docLink.innerHTML = docLinkHtml;\n",
              "        element.appendChild(docLink);\n",
              "      }\n",
              "    </script>\n",
              "  </div>\n",
              "\n",
              "\n",
              "<div id=\"df-52c5fd57-e35f-4a3d-9f9c-d1f59520ef10\">\n",
              "  <button class=\"colab-df-quickchart\" onclick=\"quickchart('df-52c5fd57-e35f-4a3d-9f9c-d1f59520ef10')\"\n",
              "            title=\"Suggest charts\"\n",
              "            style=\"display:none;\">\n",
              "\n",
              "<svg xmlns=\"http://www.w3.org/2000/svg\" height=\"24px\"viewBox=\"0 0 24 24\"\n",
              "     width=\"24px\">\n",
              "    <g>\n",
              "        <path d=\"M19 3H5c-1.1 0-2 .9-2 2v14c0 1.1.9 2 2 2h14c1.1 0 2-.9 2-2V5c0-1.1-.9-2-2-2zM9 17H7v-7h2v7zm4 0h-2V7h2v10zm4 0h-2v-4h2v4z\"/>\n",
              "    </g>\n",
              "</svg>\n",
              "  </button>\n",
              "\n",
              "<style>\n",
              "  .colab-df-quickchart {\n",
              "      --bg-color: #E8F0FE;\n",
              "      --fill-color: #1967D2;\n",
              "      --hover-bg-color: #E2EBFA;\n",
              "      --hover-fill-color: #174EA6;\n",
              "      --disabled-fill-color: #AAA;\n",
              "      --disabled-bg-color: #DDD;\n",
              "  }\n",
              "\n",
              "  [theme=dark] .colab-df-quickchart {\n",
              "      --bg-color: #3B4455;\n",
              "      --fill-color: #D2E3FC;\n",
              "      --hover-bg-color: #434B5C;\n",
              "      --hover-fill-color: #FFFFFF;\n",
              "      --disabled-bg-color: #3B4455;\n",
              "      --disabled-fill-color: #666;\n",
              "  }\n",
              "\n",
              "  .colab-df-quickchart {\n",
              "    background-color: var(--bg-color);\n",
              "    border: none;\n",
              "    border-radius: 50%;\n",
              "    cursor: pointer;\n",
              "    display: none;\n",
              "    fill: var(--fill-color);\n",
              "    height: 32px;\n",
              "    padding: 0;\n",
              "    width: 32px;\n",
              "  }\n",
              "\n",
              "  .colab-df-quickchart:hover {\n",
              "    background-color: var(--hover-bg-color);\n",
              "    box-shadow: 0 1px 2px rgba(60, 64, 67, 0.3), 0 1px 3px 1px rgba(60, 64, 67, 0.15);\n",
              "    fill: var(--button-hover-fill-color);\n",
              "  }\n",
              "\n",
              "  .colab-df-quickchart-complete:disabled,\n",
              "  .colab-df-quickchart-complete:disabled:hover {\n",
              "    background-color: var(--disabled-bg-color);\n",
              "    fill: var(--disabled-fill-color);\n",
              "    box-shadow: none;\n",
              "  }\n",
              "\n",
              "  .colab-df-spinner {\n",
              "    border: 2px solid var(--fill-color);\n",
              "    border-color: transparent;\n",
              "    border-bottom-color: var(--fill-color);\n",
              "    animation:\n",
              "      spin 1s steps(1) infinite;\n",
              "  }\n",
              "\n",
              "  @keyframes spin {\n",
              "    0% {\n",
              "      border-color: transparent;\n",
              "      border-bottom-color: var(--fill-color);\n",
              "      border-left-color: var(--fill-color);\n",
              "    }\n",
              "    20% {\n",
              "      border-color: transparent;\n",
              "      border-left-color: var(--fill-color);\n",
              "      border-top-color: var(--fill-color);\n",
              "    }\n",
              "    30% {\n",
              "      border-color: transparent;\n",
              "      border-left-color: var(--fill-color);\n",
              "      border-top-color: var(--fill-color);\n",
              "      border-right-color: var(--fill-color);\n",
              "    }\n",
              "    40% {\n",
              "      border-color: transparent;\n",
              "      border-right-color: var(--fill-color);\n",
              "      border-top-color: var(--fill-color);\n",
              "    }\n",
              "    60% {\n",
              "      border-color: transparent;\n",
              "      border-right-color: var(--fill-color);\n",
              "    }\n",
              "    80% {\n",
              "      border-color: transparent;\n",
              "      border-right-color: var(--fill-color);\n",
              "      border-bottom-color: var(--fill-color);\n",
              "    }\n",
              "    90% {\n",
              "      border-color: transparent;\n",
              "      border-bottom-color: var(--fill-color);\n",
              "    }\n",
              "  }\n",
              "</style>\n",
              "\n",
              "  <script>\n",
              "    async function quickchart(key) {\n",
              "      const quickchartButtonEl =\n",
              "        document.querySelector('#' + key + ' button');\n",
              "      quickchartButtonEl.disabled = true;  // To prevent multiple clicks.\n",
              "      quickchartButtonEl.classList.add('colab-df-spinner');\n",
              "      try {\n",
              "        const charts = await google.colab.kernel.invokeFunction(\n",
              "            'suggestCharts', [key], {});\n",
              "      } catch (error) {\n",
              "        console.error('Error during call to suggestCharts:', error);\n",
              "      }\n",
              "      quickchartButtonEl.classList.remove('colab-df-spinner');\n",
              "      quickchartButtonEl.classList.add('colab-df-quickchart-complete');\n",
              "    }\n",
              "    (() => {\n",
              "      let quickchartButtonEl =\n",
              "        document.querySelector('#df-52c5fd57-e35f-4a3d-9f9c-d1f59520ef10 button');\n",
              "      quickchartButtonEl.style.display =\n",
              "        google.colab.kernel.accessAllowed ? 'block' : 'none';\n",
              "    })();\n",
              "  </script>\n",
              "</div>\n",
              "\n",
              "    </div>\n",
              "  </div>\n"
            ],
            "application/vnd.google.colaboratory.intrinsic+json": {
              "type": "dataframe",
              "summary": "{\n  \"name\": \"df\",\n  \"rows\": 4,\n  \"fields\": [\n    {\n      \"column\": \"Product_ID\",\n      \"properties\": {\n        \"dtype\": \"string\",\n        \"num_unique_values\": 4,\n        \"samples\": [\n          3631,\n          \"1880\",\n          \"550068\"\n        ],\n        \"semantic_type\": \"\",\n        \"description\": \"\"\n      }\n    },\n    {\n      \"column\": \"Gender\",\n      \"properties\": {\n        \"dtype\": \"string\",\n        \"num_unique_values\": 4,\n        \"samples\": [\n          2,\n          \"414259\",\n          \"550068\"\n        ],\n        \"semantic_type\": \"\",\n        \"description\": \"\"\n      }\n    },\n    {\n      \"column\": \"Age\",\n      \"properties\": {\n        \"dtype\": \"string\",\n        \"num_unique_values\": 4,\n        \"samples\": [\n          7,\n          \"219587\",\n          \"550068\"\n        ],\n        \"semantic_type\": \"\",\n        \"description\": \"\"\n      }\n    },\n    {\n      \"column\": \"City_Category\",\n      \"properties\": {\n        \"dtype\": \"string\",\n        \"num_unique_values\": 4,\n        \"samples\": [\n          3,\n          \"231173\",\n          \"550068\"\n        ],\n        \"semantic_type\": \"\",\n        \"description\": \"\"\n      }\n    },\n    {\n      \"column\": \"Stay_In_Current_City_Years\",\n      \"properties\": {\n        \"dtype\": \"string\",\n        \"num_unique_values\": 4,\n        \"samples\": [\n          5,\n          \"193821\",\n          \"550068\"\n        ],\n        \"semantic_type\": \"\",\n        \"description\": \"\"\n      }\n    }\n  ]\n}"
            }
          },
          "metadata": {},
          "execution_count": 19
        }
      ]
    },
    {
      "cell_type": "markdown",
      "source": [
        "**Analysis**\n",
        "\n",
        "Total we have 3631 unique products for selling, in which Product_ID P00265242 is the most popular product among customers 1880 times sold\n",
        "\n",
        "Most of the time our customer is male frequency of visiting male customer is 414259\n",
        "\n",
        "The frequency of the age range 26-35 appearing 219,587 times in the dataset indicates its significant representation\n",
        "\n",
        "We have a total of 3 unique types of cities, with most customers belonging to city B\n",
        "\n",
        "Most individuals are newcomers to the city, having stayed for less than one year"
      ],
      "metadata": {
        "id": "aCYG3QiRpBRy"
      }
    },
    {
      "cell_type": "code",
      "source": [
        "df1 = df.copy() #creating a copy of dataframe\n",
        "df1['Purchase']=clipped_data #assigning clipped data to purchase column\n",
        "df.head(2)"
      ],
      "metadata": {
        "colab": {
          "base_uri": "https://localhost:8080/",
          "height": 112
        },
        "id": "ZUr031tNogUw",
        "outputId": "2a0c1025-59cb-4c5e-b34b-b6d2494dcb3e"
      },
      "execution_count": 20,
      "outputs": [
        {
          "output_type": "execute_result",
          "data": {
            "text/plain": [
              "   User_ID Product_ID Gender   Age  Occupation City_Category  \\\n",
              "0  1000001  P00069042      F  0-17          10             A   \n",
              "1  1000001  P00248942      F  0-17          10             A   \n",
              "\n",
              "  Stay_In_Current_City_Years  Marital_Status  Product_Category  Purchase  \n",
              "0                          2               0                 3      8370  \n",
              "1                          2               0                 1     15200  "
            ],
            "text/html": [
              "\n",
              "  <div id=\"df-3fe03536-d3a3-4f72-b9dc-5dc026507ba8\" class=\"colab-df-container\">\n",
              "    <div>\n",
              "<style scoped>\n",
              "    .dataframe tbody tr th:only-of-type {\n",
              "        vertical-align: middle;\n",
              "    }\n",
              "\n",
              "    .dataframe tbody tr th {\n",
              "        vertical-align: top;\n",
              "    }\n",
              "\n",
              "    .dataframe thead th {\n",
              "        text-align: right;\n",
              "    }\n",
              "</style>\n",
              "<table border=\"1\" class=\"dataframe\">\n",
              "  <thead>\n",
              "    <tr style=\"text-align: right;\">\n",
              "      <th></th>\n",
              "      <th>User_ID</th>\n",
              "      <th>Product_ID</th>\n",
              "      <th>Gender</th>\n",
              "      <th>Age</th>\n",
              "      <th>Occupation</th>\n",
              "      <th>City_Category</th>\n",
              "      <th>Stay_In_Current_City_Years</th>\n",
              "      <th>Marital_Status</th>\n",
              "      <th>Product_Category</th>\n",
              "      <th>Purchase</th>\n",
              "    </tr>\n",
              "  </thead>\n",
              "  <tbody>\n",
              "    <tr>\n",
              "      <th>0</th>\n",
              "      <td>1000001</td>\n",
              "      <td>P00069042</td>\n",
              "      <td>F</td>\n",
              "      <td>0-17</td>\n",
              "      <td>10</td>\n",
              "      <td>A</td>\n",
              "      <td>2</td>\n",
              "      <td>0</td>\n",
              "      <td>3</td>\n",
              "      <td>8370</td>\n",
              "    </tr>\n",
              "    <tr>\n",
              "      <th>1</th>\n",
              "      <td>1000001</td>\n",
              "      <td>P00248942</td>\n",
              "      <td>F</td>\n",
              "      <td>0-17</td>\n",
              "      <td>10</td>\n",
              "      <td>A</td>\n",
              "      <td>2</td>\n",
              "      <td>0</td>\n",
              "      <td>1</td>\n",
              "      <td>15200</td>\n",
              "    </tr>\n",
              "  </tbody>\n",
              "</table>\n",
              "</div>\n",
              "    <div class=\"colab-df-buttons\">\n",
              "\n",
              "  <div class=\"colab-df-container\">\n",
              "    <button class=\"colab-df-convert\" onclick=\"convertToInteractive('df-3fe03536-d3a3-4f72-b9dc-5dc026507ba8')\"\n",
              "            title=\"Convert this dataframe to an interactive table.\"\n",
              "            style=\"display:none;\">\n",
              "\n",
              "  <svg xmlns=\"http://www.w3.org/2000/svg\" height=\"24px\" viewBox=\"0 -960 960 960\">\n",
              "    <path d=\"M120-120v-720h720v720H120Zm60-500h600v-160H180v160Zm220 220h160v-160H400v160Zm0 220h160v-160H400v160ZM180-400h160v-160H180v160Zm440 0h160v-160H620v160ZM180-180h160v-160H180v160Zm440 0h160v-160H620v160Z\"/>\n",
              "  </svg>\n",
              "    </button>\n",
              "\n",
              "  <style>\n",
              "    .colab-df-container {\n",
              "      display:flex;\n",
              "      gap: 12px;\n",
              "    }\n",
              "\n",
              "    .colab-df-convert {\n",
              "      background-color: #E8F0FE;\n",
              "      border: none;\n",
              "      border-radius: 50%;\n",
              "      cursor: pointer;\n",
              "      display: none;\n",
              "      fill: #1967D2;\n",
              "      height: 32px;\n",
              "      padding: 0 0 0 0;\n",
              "      width: 32px;\n",
              "    }\n",
              "\n",
              "    .colab-df-convert:hover {\n",
              "      background-color: #E2EBFA;\n",
              "      box-shadow: 0px 1px 2px rgba(60, 64, 67, 0.3), 0px 1px 3px 1px rgba(60, 64, 67, 0.15);\n",
              "      fill: #174EA6;\n",
              "    }\n",
              "\n",
              "    .colab-df-buttons div {\n",
              "      margin-bottom: 4px;\n",
              "    }\n",
              "\n",
              "    [theme=dark] .colab-df-convert {\n",
              "      background-color: #3B4455;\n",
              "      fill: #D2E3FC;\n",
              "    }\n",
              "\n",
              "    [theme=dark] .colab-df-convert:hover {\n",
              "      background-color: #434B5C;\n",
              "      box-shadow: 0px 1px 3px 1px rgba(0, 0, 0, 0.15);\n",
              "      filter: drop-shadow(0px 1px 2px rgba(0, 0, 0, 0.3));\n",
              "      fill: #FFFFFF;\n",
              "    }\n",
              "  </style>\n",
              "\n",
              "    <script>\n",
              "      const buttonEl =\n",
              "        document.querySelector('#df-3fe03536-d3a3-4f72-b9dc-5dc026507ba8 button.colab-df-convert');\n",
              "      buttonEl.style.display =\n",
              "        google.colab.kernel.accessAllowed ? 'block' : 'none';\n",
              "\n",
              "      async function convertToInteractive(key) {\n",
              "        const element = document.querySelector('#df-3fe03536-d3a3-4f72-b9dc-5dc026507ba8');\n",
              "        const dataTable =\n",
              "          await google.colab.kernel.invokeFunction('convertToInteractive',\n",
              "                                                    [key], {});\n",
              "        if (!dataTable) return;\n",
              "\n",
              "        const docLinkHtml = 'Like what you see? Visit the ' +\n",
              "          '<a target=\"_blank\" href=https://colab.research.google.com/notebooks/data_table.ipynb>data table notebook</a>'\n",
              "          + ' to learn more about interactive tables.';\n",
              "        element.innerHTML = '';\n",
              "        dataTable['output_type'] = 'display_data';\n",
              "        await google.colab.output.renderOutput(dataTable, element);\n",
              "        const docLink = document.createElement('div');\n",
              "        docLink.innerHTML = docLinkHtml;\n",
              "        element.appendChild(docLink);\n",
              "      }\n",
              "    </script>\n",
              "  </div>\n",
              "\n",
              "\n",
              "<div id=\"df-90137de9-c07a-485b-bf07-dcbc5533d53c\">\n",
              "  <button class=\"colab-df-quickchart\" onclick=\"quickchart('df-90137de9-c07a-485b-bf07-dcbc5533d53c')\"\n",
              "            title=\"Suggest charts\"\n",
              "            style=\"display:none;\">\n",
              "\n",
              "<svg xmlns=\"http://www.w3.org/2000/svg\" height=\"24px\"viewBox=\"0 0 24 24\"\n",
              "     width=\"24px\">\n",
              "    <g>\n",
              "        <path d=\"M19 3H5c-1.1 0-2 .9-2 2v14c0 1.1.9 2 2 2h14c1.1 0 2-.9 2-2V5c0-1.1-.9-2-2-2zM9 17H7v-7h2v7zm4 0h-2V7h2v10zm4 0h-2v-4h2v4z\"/>\n",
              "    </g>\n",
              "</svg>\n",
              "  </button>\n",
              "\n",
              "<style>\n",
              "  .colab-df-quickchart {\n",
              "      --bg-color: #E8F0FE;\n",
              "      --fill-color: #1967D2;\n",
              "      --hover-bg-color: #E2EBFA;\n",
              "      --hover-fill-color: #174EA6;\n",
              "      --disabled-fill-color: #AAA;\n",
              "      --disabled-bg-color: #DDD;\n",
              "  }\n",
              "\n",
              "  [theme=dark] .colab-df-quickchart {\n",
              "      --bg-color: #3B4455;\n",
              "      --fill-color: #D2E3FC;\n",
              "      --hover-bg-color: #434B5C;\n",
              "      --hover-fill-color: #FFFFFF;\n",
              "      --disabled-bg-color: #3B4455;\n",
              "      --disabled-fill-color: #666;\n",
              "  }\n",
              "\n",
              "  .colab-df-quickchart {\n",
              "    background-color: var(--bg-color);\n",
              "    border: none;\n",
              "    border-radius: 50%;\n",
              "    cursor: pointer;\n",
              "    display: none;\n",
              "    fill: var(--fill-color);\n",
              "    height: 32px;\n",
              "    padding: 0;\n",
              "    width: 32px;\n",
              "  }\n",
              "\n",
              "  .colab-df-quickchart:hover {\n",
              "    background-color: var(--hover-bg-color);\n",
              "    box-shadow: 0 1px 2px rgba(60, 64, 67, 0.3), 0 1px 3px 1px rgba(60, 64, 67, 0.15);\n",
              "    fill: var(--button-hover-fill-color);\n",
              "  }\n",
              "\n",
              "  .colab-df-quickchart-complete:disabled,\n",
              "  .colab-df-quickchart-complete:disabled:hover {\n",
              "    background-color: var(--disabled-bg-color);\n",
              "    fill: var(--disabled-fill-color);\n",
              "    box-shadow: none;\n",
              "  }\n",
              "\n",
              "  .colab-df-spinner {\n",
              "    border: 2px solid var(--fill-color);\n",
              "    border-color: transparent;\n",
              "    border-bottom-color: var(--fill-color);\n",
              "    animation:\n",
              "      spin 1s steps(1) infinite;\n",
              "  }\n",
              "\n",
              "  @keyframes spin {\n",
              "    0% {\n",
              "      border-color: transparent;\n",
              "      border-bottom-color: var(--fill-color);\n",
              "      border-left-color: var(--fill-color);\n",
              "    }\n",
              "    20% {\n",
              "      border-color: transparent;\n",
              "      border-left-color: var(--fill-color);\n",
              "      border-top-color: var(--fill-color);\n",
              "    }\n",
              "    30% {\n",
              "      border-color: transparent;\n",
              "      border-left-color: var(--fill-color);\n",
              "      border-top-color: var(--fill-color);\n",
              "      border-right-color: var(--fill-color);\n",
              "    }\n",
              "    40% {\n",
              "      border-color: transparent;\n",
              "      border-right-color: var(--fill-color);\n",
              "      border-top-color: var(--fill-color);\n",
              "    }\n",
              "    60% {\n",
              "      border-color: transparent;\n",
              "      border-right-color: var(--fill-color);\n",
              "    }\n",
              "    80% {\n",
              "      border-color: transparent;\n",
              "      border-right-color: var(--fill-color);\n",
              "      border-bottom-color: var(--fill-color);\n",
              "    }\n",
              "    90% {\n",
              "      border-color: transparent;\n",
              "      border-bottom-color: var(--fill-color);\n",
              "    }\n",
              "  }\n",
              "</style>\n",
              "\n",
              "  <script>\n",
              "    async function quickchart(key) {\n",
              "      const quickchartButtonEl =\n",
              "        document.querySelector('#' + key + ' button');\n",
              "      quickchartButtonEl.disabled = true;  // To prevent multiple clicks.\n",
              "      quickchartButtonEl.classList.add('colab-df-spinner');\n",
              "      try {\n",
              "        const charts = await google.colab.kernel.invokeFunction(\n",
              "            'suggestCharts', [key], {});\n",
              "      } catch (error) {\n",
              "        console.error('Error during call to suggestCharts:', error);\n",
              "      }\n",
              "      quickchartButtonEl.classList.remove('colab-df-spinner');\n",
              "      quickchartButtonEl.classList.add('colab-df-quickchart-complete');\n",
              "    }\n",
              "    (() => {\n",
              "      let quickchartButtonEl =\n",
              "        document.querySelector('#df-90137de9-c07a-485b-bf07-dcbc5533d53c button');\n",
              "      quickchartButtonEl.style.display =\n",
              "        google.colab.kernel.accessAllowed ? 'block' : 'none';\n",
              "    })();\n",
              "  </script>\n",
              "</div>\n",
              "\n",
              "    </div>\n",
              "  </div>\n"
            ],
            "application/vnd.google.colaboratory.intrinsic+json": {
              "type": "dataframe",
              "variable_name": "df"
            }
          },
          "metadata": {},
          "execution_count": 20
        }
      ]
    },
    {
      "cell_type": "code",
      "source": [
        "#Relationship between product and age\n",
        "grouped_data = df.groupby(by = ['Age','Product_ID']).size().reset_index(name='count')\n",
        "pivot_table = grouped_data.pivot(index=['Product_ID'], columns=['Age'], values = ['count']).fillna(0)\n",
        "pivot_table"
      ],
      "metadata": {
        "colab": {
          "base_uri": "https://localhost:8080/",
          "height": 486
        },
        "id": "dIVqGISQz758",
        "outputId": "7ab601ab-c0da-4a33-cee2-294dac063c07"
      },
      "execution_count": 21,
      "outputs": [
        {
          "output_type": "execute_result",
          "data": {
            "text/plain": [
              "           count                                       \n",
              "Age         0-17  18-25  26-35  36-45 46-50 51-55   55+\n",
              "Product_ID                                             \n",
              "P00000142   55.0  259.0  445.0  228.0  83.0  57.0  25.0\n",
              "P00000242   19.0   88.0  131.0   79.0  26.0  26.0   7.0\n",
              "P00000342   11.0   48.0   95.0   37.0  15.0  23.0  15.0\n",
              "P00000442    2.0   18.0   46.0   17.0   4.0   3.0   2.0\n",
              "P00000542    9.0   33.0   56.0   33.0   8.0   9.0   1.0\n",
              "...          ...    ...    ...    ...   ...   ...   ...\n",
              "P0099442     4.0   56.0   97.0   25.0  10.0   3.0   5.0\n",
              "P0099642     0.0    2.0    6.0    3.0   0.0   1.0   1.0\n",
              "P0099742    15.0   32.0   41.0   27.0  10.0   1.0   0.0\n",
              "P0099842     1.0   13.0   23.0   26.0  16.0  14.0   9.0\n",
              "P0099942     0.0    3.0    3.0    2.0   0.0   4.0   2.0\n",
              "\n",
              "[3631 rows x 7 columns]"
            ],
            "text/html": [
              "\n",
              "  <div id=\"df-564913bd-717b-4f65-aaf4-aa21efd83049\" class=\"colab-df-container\">\n",
              "    <div>\n",
              "<style scoped>\n",
              "    .dataframe tbody tr th:only-of-type {\n",
              "        vertical-align: middle;\n",
              "    }\n",
              "\n",
              "    .dataframe tbody tr th {\n",
              "        vertical-align: top;\n",
              "    }\n",
              "\n",
              "    .dataframe thead tr th {\n",
              "        text-align: left;\n",
              "    }\n",
              "\n",
              "    .dataframe thead tr:last-of-type th {\n",
              "        text-align: right;\n",
              "    }\n",
              "</style>\n",
              "<table border=\"1\" class=\"dataframe\">\n",
              "  <thead>\n",
              "    <tr>\n",
              "      <th></th>\n",
              "      <th colspan=\"7\" halign=\"left\">count</th>\n",
              "    </tr>\n",
              "    <tr>\n",
              "      <th>Age</th>\n",
              "      <th>0-17</th>\n",
              "      <th>18-25</th>\n",
              "      <th>26-35</th>\n",
              "      <th>36-45</th>\n",
              "      <th>46-50</th>\n",
              "      <th>51-55</th>\n",
              "      <th>55+</th>\n",
              "    </tr>\n",
              "    <tr>\n",
              "      <th>Product_ID</th>\n",
              "      <th></th>\n",
              "      <th></th>\n",
              "      <th></th>\n",
              "      <th></th>\n",
              "      <th></th>\n",
              "      <th></th>\n",
              "      <th></th>\n",
              "    </tr>\n",
              "  </thead>\n",
              "  <tbody>\n",
              "    <tr>\n",
              "      <th>P00000142</th>\n",
              "      <td>55.0</td>\n",
              "      <td>259.0</td>\n",
              "      <td>445.0</td>\n",
              "      <td>228.0</td>\n",
              "      <td>83.0</td>\n",
              "      <td>57.0</td>\n",
              "      <td>25.0</td>\n",
              "    </tr>\n",
              "    <tr>\n",
              "      <th>P00000242</th>\n",
              "      <td>19.0</td>\n",
              "      <td>88.0</td>\n",
              "      <td>131.0</td>\n",
              "      <td>79.0</td>\n",
              "      <td>26.0</td>\n",
              "      <td>26.0</td>\n",
              "      <td>7.0</td>\n",
              "    </tr>\n",
              "    <tr>\n",
              "      <th>P00000342</th>\n",
              "      <td>11.0</td>\n",
              "      <td>48.0</td>\n",
              "      <td>95.0</td>\n",
              "      <td>37.0</td>\n",
              "      <td>15.0</td>\n",
              "      <td>23.0</td>\n",
              "      <td>15.0</td>\n",
              "    </tr>\n",
              "    <tr>\n",
              "      <th>P00000442</th>\n",
              "      <td>2.0</td>\n",
              "      <td>18.0</td>\n",
              "      <td>46.0</td>\n",
              "      <td>17.0</td>\n",
              "      <td>4.0</td>\n",
              "      <td>3.0</td>\n",
              "      <td>2.0</td>\n",
              "    </tr>\n",
              "    <tr>\n",
              "      <th>P00000542</th>\n",
              "      <td>9.0</td>\n",
              "      <td>33.0</td>\n",
              "      <td>56.0</td>\n",
              "      <td>33.0</td>\n",
              "      <td>8.0</td>\n",
              "      <td>9.0</td>\n",
              "      <td>1.0</td>\n",
              "    </tr>\n",
              "    <tr>\n",
              "      <th>...</th>\n",
              "      <td>...</td>\n",
              "      <td>...</td>\n",
              "      <td>...</td>\n",
              "      <td>...</td>\n",
              "      <td>...</td>\n",
              "      <td>...</td>\n",
              "      <td>...</td>\n",
              "    </tr>\n",
              "    <tr>\n",
              "      <th>P0099442</th>\n",
              "      <td>4.0</td>\n",
              "      <td>56.0</td>\n",
              "      <td>97.0</td>\n",
              "      <td>25.0</td>\n",
              "      <td>10.0</td>\n",
              "      <td>3.0</td>\n",
              "      <td>5.0</td>\n",
              "    </tr>\n",
              "    <tr>\n",
              "      <th>P0099642</th>\n",
              "      <td>0.0</td>\n",
              "      <td>2.0</td>\n",
              "      <td>6.0</td>\n",
              "      <td>3.0</td>\n",
              "      <td>0.0</td>\n",
              "      <td>1.0</td>\n",
              "      <td>1.0</td>\n",
              "    </tr>\n",
              "    <tr>\n",
              "      <th>P0099742</th>\n",
              "      <td>15.0</td>\n",
              "      <td>32.0</td>\n",
              "      <td>41.0</td>\n",
              "      <td>27.0</td>\n",
              "      <td>10.0</td>\n",
              "      <td>1.0</td>\n",
              "      <td>0.0</td>\n",
              "    </tr>\n",
              "    <tr>\n",
              "      <th>P0099842</th>\n",
              "      <td>1.0</td>\n",
              "      <td>13.0</td>\n",
              "      <td>23.0</td>\n",
              "      <td>26.0</td>\n",
              "      <td>16.0</td>\n",
              "      <td>14.0</td>\n",
              "      <td>9.0</td>\n",
              "    </tr>\n",
              "    <tr>\n",
              "      <th>P0099942</th>\n",
              "      <td>0.0</td>\n",
              "      <td>3.0</td>\n",
              "      <td>3.0</td>\n",
              "      <td>2.0</td>\n",
              "      <td>0.0</td>\n",
              "      <td>4.0</td>\n",
              "      <td>2.0</td>\n",
              "    </tr>\n",
              "  </tbody>\n",
              "</table>\n",
              "<p>3631 rows × 7 columns</p>\n",
              "</div>\n",
              "    <div class=\"colab-df-buttons\">\n",
              "\n",
              "  <div class=\"colab-df-container\">\n",
              "    <button class=\"colab-df-convert\" onclick=\"convertToInteractive('df-564913bd-717b-4f65-aaf4-aa21efd83049')\"\n",
              "            title=\"Convert this dataframe to an interactive table.\"\n",
              "            style=\"display:none;\">\n",
              "\n",
              "  <svg xmlns=\"http://www.w3.org/2000/svg\" height=\"24px\" viewBox=\"0 -960 960 960\">\n",
              "    <path d=\"M120-120v-720h720v720H120Zm60-500h600v-160H180v160Zm220 220h160v-160H400v160Zm0 220h160v-160H400v160ZM180-400h160v-160H180v160Zm440 0h160v-160H620v160ZM180-180h160v-160H180v160Zm440 0h160v-160H620v160Z\"/>\n",
              "  </svg>\n",
              "    </button>\n",
              "\n",
              "  <style>\n",
              "    .colab-df-container {\n",
              "      display:flex;\n",
              "      gap: 12px;\n",
              "    }\n",
              "\n",
              "    .colab-df-convert {\n",
              "      background-color: #E8F0FE;\n",
              "      border: none;\n",
              "      border-radius: 50%;\n",
              "      cursor: pointer;\n",
              "      display: none;\n",
              "      fill: #1967D2;\n",
              "      height: 32px;\n",
              "      padding: 0 0 0 0;\n",
              "      width: 32px;\n",
              "    }\n",
              "\n",
              "    .colab-df-convert:hover {\n",
              "      background-color: #E2EBFA;\n",
              "      box-shadow: 0px 1px 2px rgba(60, 64, 67, 0.3), 0px 1px 3px 1px rgba(60, 64, 67, 0.15);\n",
              "      fill: #174EA6;\n",
              "    }\n",
              "\n",
              "    .colab-df-buttons div {\n",
              "      margin-bottom: 4px;\n",
              "    }\n",
              "\n",
              "    [theme=dark] .colab-df-convert {\n",
              "      background-color: #3B4455;\n",
              "      fill: #D2E3FC;\n",
              "    }\n",
              "\n",
              "    [theme=dark] .colab-df-convert:hover {\n",
              "      background-color: #434B5C;\n",
              "      box-shadow: 0px 1px 3px 1px rgba(0, 0, 0, 0.15);\n",
              "      filter: drop-shadow(0px 1px 2px rgba(0, 0, 0, 0.3));\n",
              "      fill: #FFFFFF;\n",
              "    }\n",
              "  </style>\n",
              "\n",
              "    <script>\n",
              "      const buttonEl =\n",
              "        document.querySelector('#df-564913bd-717b-4f65-aaf4-aa21efd83049 button.colab-df-convert');\n",
              "      buttonEl.style.display =\n",
              "        google.colab.kernel.accessAllowed ? 'block' : 'none';\n",
              "\n",
              "      async function convertToInteractive(key) {\n",
              "        const element = document.querySelector('#df-564913bd-717b-4f65-aaf4-aa21efd83049');\n",
              "        const dataTable =\n",
              "          await google.colab.kernel.invokeFunction('convertToInteractive',\n",
              "                                                    [key], {});\n",
              "        if (!dataTable) return;\n",
              "\n",
              "        const docLinkHtml = 'Like what you see? Visit the ' +\n",
              "          '<a target=\"_blank\" href=https://colab.research.google.com/notebooks/data_table.ipynb>data table notebook</a>'\n",
              "          + ' to learn more about interactive tables.';\n",
              "        element.innerHTML = '';\n",
              "        dataTable['output_type'] = 'display_data';\n",
              "        await google.colab.output.renderOutput(dataTable, element);\n",
              "        const docLink = document.createElement('div');\n",
              "        docLink.innerHTML = docLinkHtml;\n",
              "        element.appendChild(docLink);\n",
              "      }\n",
              "    </script>\n",
              "  </div>\n",
              "\n",
              "\n",
              "<div id=\"df-b2e8f290-f29f-496c-a496-81d9cc53b407\">\n",
              "  <button class=\"colab-df-quickchart\" onclick=\"quickchart('df-b2e8f290-f29f-496c-a496-81d9cc53b407')\"\n",
              "            title=\"Suggest charts\"\n",
              "            style=\"display:none;\">\n",
              "\n",
              "<svg xmlns=\"http://www.w3.org/2000/svg\" height=\"24px\"viewBox=\"0 0 24 24\"\n",
              "     width=\"24px\">\n",
              "    <g>\n",
              "        <path d=\"M19 3H5c-1.1 0-2 .9-2 2v14c0 1.1.9 2 2 2h14c1.1 0 2-.9 2-2V5c0-1.1-.9-2-2-2zM9 17H7v-7h2v7zm4 0h-2V7h2v10zm4 0h-2v-4h2v4z\"/>\n",
              "    </g>\n",
              "</svg>\n",
              "  </button>\n",
              "\n",
              "<style>\n",
              "  .colab-df-quickchart {\n",
              "      --bg-color: #E8F0FE;\n",
              "      --fill-color: #1967D2;\n",
              "      --hover-bg-color: #E2EBFA;\n",
              "      --hover-fill-color: #174EA6;\n",
              "      --disabled-fill-color: #AAA;\n",
              "      --disabled-bg-color: #DDD;\n",
              "  }\n",
              "\n",
              "  [theme=dark] .colab-df-quickchart {\n",
              "      --bg-color: #3B4455;\n",
              "      --fill-color: #D2E3FC;\n",
              "      --hover-bg-color: #434B5C;\n",
              "      --hover-fill-color: #FFFFFF;\n",
              "      --disabled-bg-color: #3B4455;\n",
              "      --disabled-fill-color: #666;\n",
              "  }\n",
              "\n",
              "  .colab-df-quickchart {\n",
              "    background-color: var(--bg-color);\n",
              "    border: none;\n",
              "    border-radius: 50%;\n",
              "    cursor: pointer;\n",
              "    display: none;\n",
              "    fill: var(--fill-color);\n",
              "    height: 32px;\n",
              "    padding: 0;\n",
              "    width: 32px;\n",
              "  }\n",
              "\n",
              "  .colab-df-quickchart:hover {\n",
              "    background-color: var(--hover-bg-color);\n",
              "    box-shadow: 0 1px 2px rgba(60, 64, 67, 0.3), 0 1px 3px 1px rgba(60, 64, 67, 0.15);\n",
              "    fill: var(--button-hover-fill-color);\n",
              "  }\n",
              "\n",
              "  .colab-df-quickchart-complete:disabled,\n",
              "  .colab-df-quickchart-complete:disabled:hover {\n",
              "    background-color: var(--disabled-bg-color);\n",
              "    fill: var(--disabled-fill-color);\n",
              "    box-shadow: none;\n",
              "  }\n",
              "\n",
              "  .colab-df-spinner {\n",
              "    border: 2px solid var(--fill-color);\n",
              "    border-color: transparent;\n",
              "    border-bottom-color: var(--fill-color);\n",
              "    animation:\n",
              "      spin 1s steps(1) infinite;\n",
              "  }\n",
              "\n",
              "  @keyframes spin {\n",
              "    0% {\n",
              "      border-color: transparent;\n",
              "      border-bottom-color: var(--fill-color);\n",
              "      border-left-color: var(--fill-color);\n",
              "    }\n",
              "    20% {\n",
              "      border-color: transparent;\n",
              "      border-left-color: var(--fill-color);\n",
              "      border-top-color: var(--fill-color);\n",
              "    }\n",
              "    30% {\n",
              "      border-color: transparent;\n",
              "      border-left-color: var(--fill-color);\n",
              "      border-top-color: var(--fill-color);\n",
              "      border-right-color: var(--fill-color);\n",
              "    }\n",
              "    40% {\n",
              "      border-color: transparent;\n",
              "      border-right-color: var(--fill-color);\n",
              "      border-top-color: var(--fill-color);\n",
              "    }\n",
              "    60% {\n",
              "      border-color: transparent;\n",
              "      border-right-color: var(--fill-color);\n",
              "    }\n",
              "    80% {\n",
              "      border-color: transparent;\n",
              "      border-right-color: var(--fill-color);\n",
              "      border-bottom-color: var(--fill-color);\n",
              "    }\n",
              "    90% {\n",
              "      border-color: transparent;\n",
              "      border-bottom-color: var(--fill-color);\n",
              "    }\n",
              "  }\n",
              "</style>\n",
              "\n",
              "  <script>\n",
              "    async function quickchart(key) {\n",
              "      const quickchartButtonEl =\n",
              "        document.querySelector('#' + key + ' button');\n",
              "      quickchartButtonEl.disabled = true;  // To prevent multiple clicks.\n",
              "      quickchartButtonEl.classList.add('colab-df-spinner');\n",
              "      try {\n",
              "        const charts = await google.colab.kernel.invokeFunction(\n",
              "            'suggestCharts', [key], {});\n",
              "      } catch (error) {\n",
              "        console.error('Error during call to suggestCharts:', error);\n",
              "      }\n",
              "      quickchartButtonEl.classList.remove('colab-df-spinner');\n",
              "      quickchartButtonEl.classList.add('colab-df-quickchart-complete');\n",
              "    }\n",
              "    (() => {\n",
              "      let quickchartButtonEl =\n",
              "        document.querySelector('#df-b2e8f290-f29f-496c-a496-81d9cc53b407 button');\n",
              "      quickchartButtonEl.style.display =\n",
              "        google.colab.kernel.accessAllowed ? 'block' : 'none';\n",
              "    })();\n",
              "  </script>\n",
              "</div>\n",
              "\n",
              "  <div id=\"id_61cd31aa-4dd3-4b8a-98e1-541ff9208930\">\n",
              "    <style>\n",
              "      .colab-df-generate {\n",
              "        background-color: #E8F0FE;\n",
              "        border: none;\n",
              "        border-radius: 50%;\n",
              "        cursor: pointer;\n",
              "        display: none;\n",
              "        fill: #1967D2;\n",
              "        height: 32px;\n",
              "        padding: 0 0 0 0;\n",
              "        width: 32px;\n",
              "      }\n",
              "\n",
              "      .colab-df-generate:hover {\n",
              "        background-color: #E2EBFA;\n",
              "        box-shadow: 0px 1px 2px rgba(60, 64, 67, 0.3), 0px 1px 3px 1px rgba(60, 64, 67, 0.15);\n",
              "        fill: #174EA6;\n",
              "      }\n",
              "\n",
              "      [theme=dark] .colab-df-generate {\n",
              "        background-color: #3B4455;\n",
              "        fill: #D2E3FC;\n",
              "      }\n",
              "\n",
              "      [theme=dark] .colab-df-generate:hover {\n",
              "        background-color: #434B5C;\n",
              "        box-shadow: 0px 1px 3px 1px rgba(0, 0, 0, 0.15);\n",
              "        filter: drop-shadow(0px 1px 2px rgba(0, 0, 0, 0.3));\n",
              "        fill: #FFFFFF;\n",
              "      }\n",
              "    </style>\n",
              "    <button class=\"colab-df-generate\" onclick=\"generateWithVariable('pivot_table')\"\n",
              "            title=\"Generate code using this dataframe.\"\n",
              "            style=\"display:none;\">\n",
              "\n",
              "  <svg xmlns=\"http://www.w3.org/2000/svg\" height=\"24px\"viewBox=\"0 0 24 24\"\n",
              "       width=\"24px\">\n",
              "    <path d=\"M7,19H8.4L18.45,9,17,7.55,7,17.6ZM5,21V16.75L18.45,3.32a2,2,0,0,1,2.83,0l1.4,1.43a1.91,1.91,0,0,1,.58,1.4,1.91,1.91,0,0,1-.58,1.4L9.25,21ZM18.45,9,17,7.55Zm-12,3A5.31,5.31,0,0,0,4.9,8.1,5.31,5.31,0,0,0,1,6.5,5.31,5.31,0,0,0,4.9,4.9,5.31,5.31,0,0,0,6.5,1,5.31,5.31,0,0,0,8.1,4.9,5.31,5.31,0,0,0,12,6.5,5.46,5.46,0,0,0,6.5,12Z\"/>\n",
              "  </svg>\n",
              "    </button>\n",
              "    <script>\n",
              "      (() => {\n",
              "      const buttonEl =\n",
              "        document.querySelector('#id_61cd31aa-4dd3-4b8a-98e1-541ff9208930 button.colab-df-generate');\n",
              "      buttonEl.style.display =\n",
              "        google.colab.kernel.accessAllowed ? 'block' : 'none';\n",
              "\n",
              "      buttonEl.onclick = () => {\n",
              "        google.colab.notebook.generateWithVariable('pivot_table');\n",
              "      }\n",
              "      })();\n",
              "    </script>\n",
              "  </div>\n",
              "\n",
              "    </div>\n",
              "  </div>\n"
            ],
            "application/vnd.google.colaboratory.intrinsic+json": {
              "type": "dataframe",
              "variable_name": "pivot_table",
              "summary": "{\n  \"name\": \"pivot_table\",\n  \"rows\": 3631,\n  \"fields\": [\n    {\n      \"column\": [\n        \"Product_ID\",\n        \"\"\n      ],\n      \"properties\": {\n        \"dtype\": \"string\",\n        \"num_unique_values\": 3631,\n        \"samples\": [\n          \"P00071142\",\n          \"P00335942\",\n          \"P00044142\"\n        ],\n        \"semantic_type\": \"\",\n        \"description\": \"\"\n      }\n    },\n    {\n      \"column\": [\n        \"count\",\n        \"0-17\"\n      ],\n      \"properties\": {\n        \"dtype\": \"number\",\n        \"std\": 7.020512864311386,\n        \"min\": 0.0,\n        \"max\": 65.0,\n        \"num_unique_values\": 53,\n        \"samples\": [\n          20.0,\n          41.0,\n          64.0\n        ],\n        \"semantic_type\": \"\",\n        \"description\": \"\"\n      }\n    },\n    {\n      \"column\": [\n        \"count\",\n        \"18-25\"\n      ],\n      \"properties\": {\n        \"dtype\": \"number\",\n        \"std\": 42.87962375610405,\n        \"min\": 0.0,\n        \"max\": 389.0,\n        \"num_unique_values\": 216,\n        \"samples\": [\n          281.0,\n          112.0,\n          128.0\n        ],\n        \"semantic_type\": \"\",\n        \"description\": \"\"\n      }\n    },\n    {\n      \"column\": [\n        \"count\",\n        \"26-35\"\n      ],\n      \"properties\": {\n        \"dtype\": \"number\",\n        \"std\": 86.72103972416446,\n        \"min\": 0.0,\n        \"max\": 746.0,\n        \"num_unique_values\": 359,\n        \"samples\": [\n          106.0,\n          282.0,\n          249.0\n        ],\n        \"semantic_type\": \"\",\n        \"description\": \"\"\n      }\n    },\n    {\n      \"column\": [\n        \"count\",\n        \"36-45\"\n      ],\n      \"properties\": {\n        \"dtype\": \"number\",\n        \"std\": 43.13319744125917,\n        \"min\": 0.0,\n        \"max\": 356.0,\n        \"num_unique_values\": 216,\n        \"samples\": [\n          187.0,\n          169.0,\n          151.0\n        ],\n        \"semantic_type\": \"\",\n        \"description\": \"\"\n      }\n    },\n    {\n      \"column\": [\n        \"count\",\n        \"46-50\"\n      ],\n      \"properties\": {\n        \"dtype\": \"number\",\n        \"std\": 17.770442249889154,\n        \"min\": 0.0,\n        \"max\": 138.0,\n        \"num_unique_values\": 112,\n        \"samples\": [\n          11.0,\n          18.0,\n          8.0\n        ],\n        \"semantic_type\": \"\",\n        \"description\": \"\"\n      }\n    },\n    {\n      \"column\": [\n        \"count\",\n        \"51-55\"\n      ],\n      \"properties\": {\n        \"dtype\": \"number\",\n        \"std\": 15.896106542494651,\n        \"min\": 0.0,\n        \"max\": 140.0,\n        \"num_unique_values\": 100,\n        \"samples\": [\n          62.0,\n          76.0,\n          90.0\n        ],\n        \"semantic_type\": \"\",\n        \"description\": \"\"\n      }\n    },\n    {\n      \"column\": [\n        \"count\",\n        \"55+\"\n      ],\n      \"properties\": {\n        \"dtype\": \"number\",\n        \"std\": 9.547187412628576,\n        \"min\": 0.0,\n        \"max\": 104.0,\n        \"num_unique_values\": 67,\n        \"samples\": [\n          23.0,\n          39.0,\n          1.0\n        ],\n        \"semantic_type\": \"\",\n        \"description\": \"\"\n      }\n    }\n  ]\n}"
            }
          },
          "metadata": {},
          "execution_count": 21
        }
      ]
    },
    {
      "cell_type": "markdown",
      "source": [
        "**Analysis**\n",
        "\n",
        "We can easily identify which products are popular among different age groups, if we ant to identify some certain product we can use .loc method to locate that product to check its popularity amoung different age group"
      ],
      "metadata": {
        "id": "M581vX_XJK58"
      }
    },
    {
      "cell_type": "code",
      "source": [
        "pivot_table.loc['P00265242'] #to check each product's popularity among different age group"
      ],
      "metadata": {
        "colab": {
          "base_uri": "https://localhost:8080/",
          "height": 0
        },
        "id": "TslL6OCyJuwa",
        "outputId": "4a9158f7-9a83-4bd0-9527-07dfe755aeec"
      },
      "execution_count": 22,
      "outputs": [
        {
          "output_type": "execute_result",
          "data": {
            "text/plain": [
              "       Age  \n",
              "count  0-17      41.0\n",
              "       18-25    389.0\n",
              "       26-35    746.0\n",
              "       36-45    322.0\n",
              "       46-50    138.0\n",
              "       51-55    140.0\n",
              "       55+      104.0\n",
              "Name: P00265242, dtype: float64"
            ]
          },
          "metadata": {},
          "execution_count": 22
        }
      ]
    },
    {
      "cell_type": "code",
      "source": [
        "d =grouped_data.groupby(by=['Age',\"Product_ID\"])['count'].idxmax().sort_values(ascending =False)\n",
        "d=d.reset_index(name='count')\n",
        "max_count = d.groupby(by=[\"Age\"])['count'].idxmax()\n",
        "max_product_by_each_age = d.loc[max_count]\n",
        "max_product_by_each_age=max_product_by_each_age.reset_index()\n",
        "max_product_by_each_age"
      ],
      "metadata": {
        "colab": {
          "base_uri": "https://localhost:8080/",
          "height": 269
        },
        "id": "syI4OIDe4tfE",
        "outputId": "7420a840-48ea-4a1f-c998-8ffd5e08d936"
      },
      "execution_count": 23,
      "outputs": [
        {
          "output_type": "execute_result",
          "data": {
            "text/plain": [
              "   index    Age Product_ID  count\n",
              "0  18552   0-17   P0099842   2322\n",
              "1  15332  18-25   P0099942   5542\n",
              "2  11905  26-35   P0099942   8969\n",
              "3   8577  36-45   P0099942  12297\n",
              "4   5471  46-50   P0099842  15403\n",
              "5   2584  51-55   P0099942  18290\n",
              "6      0    55+   P0099942  20874"
            ],
            "text/html": [
              "\n",
              "  <div id=\"df-2828dcfd-a1ff-4785-aa27-111c3a3de6f3\" class=\"colab-df-container\">\n",
              "    <div>\n",
              "<style scoped>\n",
              "    .dataframe tbody tr th:only-of-type {\n",
              "        vertical-align: middle;\n",
              "    }\n",
              "\n",
              "    .dataframe tbody tr th {\n",
              "        vertical-align: top;\n",
              "    }\n",
              "\n",
              "    .dataframe thead th {\n",
              "        text-align: right;\n",
              "    }\n",
              "</style>\n",
              "<table border=\"1\" class=\"dataframe\">\n",
              "  <thead>\n",
              "    <tr style=\"text-align: right;\">\n",
              "      <th></th>\n",
              "      <th>index</th>\n",
              "      <th>Age</th>\n",
              "      <th>Product_ID</th>\n",
              "      <th>count</th>\n",
              "    </tr>\n",
              "  </thead>\n",
              "  <tbody>\n",
              "    <tr>\n",
              "      <th>0</th>\n",
              "      <td>18552</td>\n",
              "      <td>0-17</td>\n",
              "      <td>P0099842</td>\n",
              "      <td>2322</td>\n",
              "    </tr>\n",
              "    <tr>\n",
              "      <th>1</th>\n",
              "      <td>15332</td>\n",
              "      <td>18-25</td>\n",
              "      <td>P0099942</td>\n",
              "      <td>5542</td>\n",
              "    </tr>\n",
              "    <tr>\n",
              "      <th>2</th>\n",
              "      <td>11905</td>\n",
              "      <td>26-35</td>\n",
              "      <td>P0099942</td>\n",
              "      <td>8969</td>\n",
              "    </tr>\n",
              "    <tr>\n",
              "      <th>3</th>\n",
              "      <td>8577</td>\n",
              "      <td>36-45</td>\n",
              "      <td>P0099942</td>\n",
              "      <td>12297</td>\n",
              "    </tr>\n",
              "    <tr>\n",
              "      <th>4</th>\n",
              "      <td>5471</td>\n",
              "      <td>46-50</td>\n",
              "      <td>P0099842</td>\n",
              "      <td>15403</td>\n",
              "    </tr>\n",
              "    <tr>\n",
              "      <th>5</th>\n",
              "      <td>2584</td>\n",
              "      <td>51-55</td>\n",
              "      <td>P0099942</td>\n",
              "      <td>18290</td>\n",
              "    </tr>\n",
              "    <tr>\n",
              "      <th>6</th>\n",
              "      <td>0</td>\n",
              "      <td>55+</td>\n",
              "      <td>P0099942</td>\n",
              "      <td>20874</td>\n",
              "    </tr>\n",
              "  </tbody>\n",
              "</table>\n",
              "</div>\n",
              "    <div class=\"colab-df-buttons\">\n",
              "\n",
              "  <div class=\"colab-df-container\">\n",
              "    <button class=\"colab-df-convert\" onclick=\"convertToInteractive('df-2828dcfd-a1ff-4785-aa27-111c3a3de6f3')\"\n",
              "            title=\"Convert this dataframe to an interactive table.\"\n",
              "            style=\"display:none;\">\n",
              "\n",
              "  <svg xmlns=\"http://www.w3.org/2000/svg\" height=\"24px\" viewBox=\"0 -960 960 960\">\n",
              "    <path d=\"M120-120v-720h720v720H120Zm60-500h600v-160H180v160Zm220 220h160v-160H400v160Zm0 220h160v-160H400v160ZM180-400h160v-160H180v160Zm440 0h160v-160H620v160ZM180-180h160v-160H180v160Zm440 0h160v-160H620v160Z\"/>\n",
              "  </svg>\n",
              "    </button>\n",
              "\n",
              "  <style>\n",
              "    .colab-df-container {\n",
              "      display:flex;\n",
              "      gap: 12px;\n",
              "    }\n",
              "\n",
              "    .colab-df-convert {\n",
              "      background-color: #E8F0FE;\n",
              "      border: none;\n",
              "      border-radius: 50%;\n",
              "      cursor: pointer;\n",
              "      display: none;\n",
              "      fill: #1967D2;\n",
              "      height: 32px;\n",
              "      padding: 0 0 0 0;\n",
              "      width: 32px;\n",
              "    }\n",
              "\n",
              "    .colab-df-convert:hover {\n",
              "      background-color: #E2EBFA;\n",
              "      box-shadow: 0px 1px 2px rgba(60, 64, 67, 0.3), 0px 1px 3px 1px rgba(60, 64, 67, 0.15);\n",
              "      fill: #174EA6;\n",
              "    }\n",
              "\n",
              "    .colab-df-buttons div {\n",
              "      margin-bottom: 4px;\n",
              "    }\n",
              "\n",
              "    [theme=dark] .colab-df-convert {\n",
              "      background-color: #3B4455;\n",
              "      fill: #D2E3FC;\n",
              "    }\n",
              "\n",
              "    [theme=dark] .colab-df-convert:hover {\n",
              "      background-color: #434B5C;\n",
              "      box-shadow: 0px 1px 3px 1px rgba(0, 0, 0, 0.15);\n",
              "      filter: drop-shadow(0px 1px 2px rgba(0, 0, 0, 0.3));\n",
              "      fill: #FFFFFF;\n",
              "    }\n",
              "  </style>\n",
              "\n",
              "    <script>\n",
              "      const buttonEl =\n",
              "        document.querySelector('#df-2828dcfd-a1ff-4785-aa27-111c3a3de6f3 button.colab-df-convert');\n",
              "      buttonEl.style.display =\n",
              "        google.colab.kernel.accessAllowed ? 'block' : 'none';\n",
              "\n",
              "      async function convertToInteractive(key) {\n",
              "        const element = document.querySelector('#df-2828dcfd-a1ff-4785-aa27-111c3a3de6f3');\n",
              "        const dataTable =\n",
              "          await google.colab.kernel.invokeFunction('convertToInteractive',\n",
              "                                                    [key], {});\n",
              "        if (!dataTable) return;\n",
              "\n",
              "        const docLinkHtml = 'Like what you see? Visit the ' +\n",
              "          '<a target=\"_blank\" href=https://colab.research.google.com/notebooks/data_table.ipynb>data table notebook</a>'\n",
              "          + ' to learn more about interactive tables.';\n",
              "        element.innerHTML = '';\n",
              "        dataTable['output_type'] = 'display_data';\n",
              "        await google.colab.output.renderOutput(dataTable, element);\n",
              "        const docLink = document.createElement('div');\n",
              "        docLink.innerHTML = docLinkHtml;\n",
              "        element.appendChild(docLink);\n",
              "      }\n",
              "    </script>\n",
              "  </div>\n",
              "\n",
              "\n",
              "<div id=\"df-37082704-695d-472d-9b3d-be05d825dbd7\">\n",
              "  <button class=\"colab-df-quickchart\" onclick=\"quickchart('df-37082704-695d-472d-9b3d-be05d825dbd7')\"\n",
              "            title=\"Suggest charts\"\n",
              "            style=\"display:none;\">\n",
              "\n",
              "<svg xmlns=\"http://www.w3.org/2000/svg\" height=\"24px\"viewBox=\"0 0 24 24\"\n",
              "     width=\"24px\">\n",
              "    <g>\n",
              "        <path d=\"M19 3H5c-1.1 0-2 .9-2 2v14c0 1.1.9 2 2 2h14c1.1 0 2-.9 2-2V5c0-1.1-.9-2-2-2zM9 17H7v-7h2v7zm4 0h-2V7h2v10zm4 0h-2v-4h2v4z\"/>\n",
              "    </g>\n",
              "</svg>\n",
              "  </button>\n",
              "\n",
              "<style>\n",
              "  .colab-df-quickchart {\n",
              "      --bg-color: #E8F0FE;\n",
              "      --fill-color: #1967D2;\n",
              "      --hover-bg-color: #E2EBFA;\n",
              "      --hover-fill-color: #174EA6;\n",
              "      --disabled-fill-color: #AAA;\n",
              "      --disabled-bg-color: #DDD;\n",
              "  }\n",
              "\n",
              "  [theme=dark] .colab-df-quickchart {\n",
              "      --bg-color: #3B4455;\n",
              "      --fill-color: #D2E3FC;\n",
              "      --hover-bg-color: #434B5C;\n",
              "      --hover-fill-color: #FFFFFF;\n",
              "      --disabled-bg-color: #3B4455;\n",
              "      --disabled-fill-color: #666;\n",
              "  }\n",
              "\n",
              "  .colab-df-quickchart {\n",
              "    background-color: var(--bg-color);\n",
              "    border: none;\n",
              "    border-radius: 50%;\n",
              "    cursor: pointer;\n",
              "    display: none;\n",
              "    fill: var(--fill-color);\n",
              "    height: 32px;\n",
              "    padding: 0;\n",
              "    width: 32px;\n",
              "  }\n",
              "\n",
              "  .colab-df-quickchart:hover {\n",
              "    background-color: var(--hover-bg-color);\n",
              "    box-shadow: 0 1px 2px rgba(60, 64, 67, 0.3), 0 1px 3px 1px rgba(60, 64, 67, 0.15);\n",
              "    fill: var(--button-hover-fill-color);\n",
              "  }\n",
              "\n",
              "  .colab-df-quickchart-complete:disabled,\n",
              "  .colab-df-quickchart-complete:disabled:hover {\n",
              "    background-color: var(--disabled-bg-color);\n",
              "    fill: var(--disabled-fill-color);\n",
              "    box-shadow: none;\n",
              "  }\n",
              "\n",
              "  .colab-df-spinner {\n",
              "    border: 2px solid var(--fill-color);\n",
              "    border-color: transparent;\n",
              "    border-bottom-color: var(--fill-color);\n",
              "    animation:\n",
              "      spin 1s steps(1) infinite;\n",
              "  }\n",
              "\n",
              "  @keyframes spin {\n",
              "    0% {\n",
              "      border-color: transparent;\n",
              "      border-bottom-color: var(--fill-color);\n",
              "      border-left-color: var(--fill-color);\n",
              "    }\n",
              "    20% {\n",
              "      border-color: transparent;\n",
              "      border-left-color: var(--fill-color);\n",
              "      border-top-color: var(--fill-color);\n",
              "    }\n",
              "    30% {\n",
              "      border-color: transparent;\n",
              "      border-left-color: var(--fill-color);\n",
              "      border-top-color: var(--fill-color);\n",
              "      border-right-color: var(--fill-color);\n",
              "    }\n",
              "    40% {\n",
              "      border-color: transparent;\n",
              "      border-right-color: var(--fill-color);\n",
              "      border-top-color: var(--fill-color);\n",
              "    }\n",
              "    60% {\n",
              "      border-color: transparent;\n",
              "      border-right-color: var(--fill-color);\n",
              "    }\n",
              "    80% {\n",
              "      border-color: transparent;\n",
              "      border-right-color: var(--fill-color);\n",
              "      border-bottom-color: var(--fill-color);\n",
              "    }\n",
              "    90% {\n",
              "      border-color: transparent;\n",
              "      border-bottom-color: var(--fill-color);\n",
              "    }\n",
              "  }\n",
              "</style>\n",
              "\n",
              "  <script>\n",
              "    async function quickchart(key) {\n",
              "      const quickchartButtonEl =\n",
              "        document.querySelector('#' + key + ' button');\n",
              "      quickchartButtonEl.disabled = true;  // To prevent multiple clicks.\n",
              "      quickchartButtonEl.classList.add('colab-df-spinner');\n",
              "      try {\n",
              "        const charts = await google.colab.kernel.invokeFunction(\n",
              "            'suggestCharts', [key], {});\n",
              "      } catch (error) {\n",
              "        console.error('Error during call to suggestCharts:', error);\n",
              "      }\n",
              "      quickchartButtonEl.classList.remove('colab-df-spinner');\n",
              "      quickchartButtonEl.classList.add('colab-df-quickchart-complete');\n",
              "    }\n",
              "    (() => {\n",
              "      let quickchartButtonEl =\n",
              "        document.querySelector('#df-37082704-695d-472d-9b3d-be05d825dbd7 button');\n",
              "      quickchartButtonEl.style.display =\n",
              "        google.colab.kernel.accessAllowed ? 'block' : 'none';\n",
              "    })();\n",
              "  </script>\n",
              "</div>\n",
              "\n",
              "  <div id=\"id_1d9c175b-b6c9-4329-91bf-317d74068fce\">\n",
              "    <style>\n",
              "      .colab-df-generate {\n",
              "        background-color: #E8F0FE;\n",
              "        border: none;\n",
              "        border-radius: 50%;\n",
              "        cursor: pointer;\n",
              "        display: none;\n",
              "        fill: #1967D2;\n",
              "        height: 32px;\n",
              "        padding: 0 0 0 0;\n",
              "        width: 32px;\n",
              "      }\n",
              "\n",
              "      .colab-df-generate:hover {\n",
              "        background-color: #E2EBFA;\n",
              "        box-shadow: 0px 1px 2px rgba(60, 64, 67, 0.3), 0px 1px 3px 1px rgba(60, 64, 67, 0.15);\n",
              "        fill: #174EA6;\n",
              "      }\n",
              "\n",
              "      [theme=dark] .colab-df-generate {\n",
              "        background-color: #3B4455;\n",
              "        fill: #D2E3FC;\n",
              "      }\n",
              "\n",
              "      [theme=dark] .colab-df-generate:hover {\n",
              "        background-color: #434B5C;\n",
              "        box-shadow: 0px 1px 3px 1px rgba(0, 0, 0, 0.15);\n",
              "        filter: drop-shadow(0px 1px 2px rgba(0, 0, 0, 0.3));\n",
              "        fill: #FFFFFF;\n",
              "      }\n",
              "    </style>\n",
              "    <button class=\"colab-df-generate\" onclick=\"generateWithVariable('max_product_by_each_age')\"\n",
              "            title=\"Generate code using this dataframe.\"\n",
              "            style=\"display:none;\">\n",
              "\n",
              "  <svg xmlns=\"http://www.w3.org/2000/svg\" height=\"24px\"viewBox=\"0 0 24 24\"\n",
              "       width=\"24px\">\n",
              "    <path d=\"M7,19H8.4L18.45,9,17,7.55,7,17.6ZM5,21V16.75L18.45,3.32a2,2,0,0,1,2.83,0l1.4,1.43a1.91,1.91,0,0,1,.58,1.4,1.91,1.91,0,0,1-.58,1.4L9.25,21ZM18.45,9,17,7.55Zm-12,3A5.31,5.31,0,0,0,4.9,8.1,5.31,5.31,0,0,0,1,6.5,5.31,5.31,0,0,0,4.9,4.9,5.31,5.31,0,0,0,6.5,1,5.31,5.31,0,0,0,8.1,4.9,5.31,5.31,0,0,0,12,6.5,5.46,5.46,0,0,0,6.5,12Z\"/>\n",
              "  </svg>\n",
              "    </button>\n",
              "    <script>\n",
              "      (() => {\n",
              "      const buttonEl =\n",
              "        document.querySelector('#id_1d9c175b-b6c9-4329-91bf-317d74068fce button.colab-df-generate');\n",
              "      buttonEl.style.display =\n",
              "        google.colab.kernel.accessAllowed ? 'block' : 'none';\n",
              "\n",
              "      buttonEl.onclick = () => {\n",
              "        google.colab.notebook.generateWithVariable('max_product_by_each_age');\n",
              "      }\n",
              "      })();\n",
              "    </script>\n",
              "  </div>\n",
              "\n",
              "    </div>\n",
              "  </div>\n"
            ],
            "application/vnd.google.colaboratory.intrinsic+json": {
              "type": "dataframe",
              "variable_name": "max_product_by_each_age",
              "summary": "{\n  \"name\": \"max_product_by_each_age\",\n  \"rows\": 7,\n  \"fields\": [\n    {\n      \"column\": \"index\",\n      \"properties\": {\n        \"dtype\": \"number\",\n        \"std\": 6764,\n        \"min\": 0,\n        \"max\": 18552,\n        \"num_unique_values\": 7,\n        \"samples\": [\n          18552,\n          15332,\n          2584\n        ],\n        \"semantic_type\": \"\",\n        \"description\": \"\"\n      }\n    },\n    {\n      \"column\": \"Age\",\n      \"properties\": {\n        \"dtype\": \"string\",\n        \"num_unique_values\": 7,\n        \"samples\": [\n          \"0-17\",\n          \"18-25\",\n          \"51-55\"\n        ],\n        \"semantic_type\": \"\",\n        \"description\": \"\"\n      }\n    },\n    {\n      \"column\": \"Product_ID\",\n      \"properties\": {\n        \"dtype\": \"category\",\n        \"num_unique_values\": 2,\n        \"samples\": [\n          \"P0099942\",\n          \"P0099842\"\n        ],\n        \"semantic_type\": \"\",\n        \"description\": \"\"\n      }\n    },\n    {\n      \"column\": \"count\",\n      \"properties\": {\n        \"dtype\": \"number\",\n        \"std\": 6764,\n        \"min\": 2322,\n        \"max\": 20874,\n        \"num_unique_values\": 7,\n        \"samples\": [\n          2322,\n          5542\n        ],\n        \"semantic_type\": \"\",\n        \"description\": \"\"\n      }\n    }\n  ]\n}"
            }
          },
          "metadata": {},
          "execution_count": 23
        }
      ]
    },
    {
      "cell_type": "code",
      "source": [
        "sns.barplot(data =max_product_by_each_age, x='Age', y=\"count\", hue =\"Product_ID\")"
      ],
      "metadata": {
        "colab": {
          "base_uri": "https://localhost:8080/",
          "height": 466
        },
        "id": "_OfBzK9RM-xe",
        "outputId": "41f994f9-81d3-4171-b676-2dfb83f5a8a2"
      },
      "execution_count": 24,
      "outputs": [
        {
          "output_type": "execute_result",
          "data": {
            "text/plain": [
              "<Axes: xlabel='Age', ylabel='count'>"
            ]
          },
          "metadata": {},
          "execution_count": 24
        },
        {
          "output_type": "display_data",
          "data": {
            "text/plain": [
              "<Figure size 640x480 with 1 Axes>"
            ],
            "image/png": "[encoded data removed]"
          },
          "metadata": {}
        }
      ]
    },
    {
      "cell_type": "markdown",
      "source": [
        "**Analysis**\n",
        "\n",
        "Two type of product are most popular among diff age group, product type P0099842 is most popular in 0-17 and 46-50 age group.\n",
        "\n",
        "P0099942 product type demand increasing as the age increasing except age group 0-17 and 46-50"
      ],
      "metadata": {
        "id": "UNRgsqyKQaxb"
      }
    },
    {
      "cell_type": "code",
      "source": [
        "#relationship between age , marital status, amount spent\n",
        "marital_st={0:\"unmarried\", 1: 'married'}\n",
        "df1[\"Marital_Status\"] =df1[\"Marital_Status\"].replace(marital_st)\n",
        "\n",
        "#now we have three catogorical column we will perform anova test to check correlation\n",
        "\n",
        "from statsmodels.formula.api import ols\n",
        "import statsmodels.api as sm"
      ],
      "metadata": {
        "id": "Kvw0hE72TICv"
      },
      "execution_count": 25,
      "outputs": []
    },
    {
      "cell_type": "code",
      "source": [
        "sns.barplot(data= df1, x= \"Age\", y='Purchase', hue='Marital_Status')\n",
        "plt.show()"
      ],
      "metadata": {
        "colab": {
          "base_uri": "https://localhost:8080/",
          "height": 450
        },
        "id": "XJ18k1HTW_8m",
        "outputId": "eb2d2ee7-5a58-40c2-c525-09704bb4bb33"
      },
      "execution_count": 26,
      "outputs": [
        {
          "output_type": "display_data",
          "data": {
            "text/plain": [
              "<Figure size 640x480 with 1 Axes>"
            ],
            "image/png": "[encoded data removed]"
          },
          "metadata": {}
        }
      ]
    },
    {
      "cell_type": "markdown",
      "source": [
        "**Analysis**\n",
        "We can observe small difference in purchasing behaviour of different age group and marital status"
      ],
      "metadata": {
        "id": "Mf_r887rjDeo"
      }
    },
    {
      "cell_type": "code",
      "source": [
        "#To check relationship will perfrom two way anova (one numerical and more than 3 catogorical column comparison)\n",
        "import statsmodels.api as sm\n",
        "from statsmodels.formula.api import ols\n",
        "'''\n",
        "NUll Hypothesis for main effect\n",
        "\n",
        "H0: There is no significant diffrence in purchase between maried and unmarried individuals\n",
        "H0: there is affect of age on saled among different age groups\n",
        "\n",
        "Alternate Hypothesis for main effect\n",
        "\n",
        "Ha: There is significant diffrence in purchase between married and unmarried\n",
        "Ha: There is impact on spent amount of Age groups\n",
        "\n",
        "NUll Hypothesis for interaction effect\n",
        "\n",
        "H0:There is no interaction between Age and marital status\n",
        "Ha: There is interaction effect between age and marital status on purchase\n",
        "\n",
        "'''\n",
        "\n",
        "test = ols('Purchase ~ C(Marital_Status) * C(Age)',data=df1).fit()"
      ],
      "metadata": {
        "id": "OArjhBOmUliv"
      },
      "execution_count": 27,
      "outputs": []
    },
    {
      "cell_type": "code",
      "source": [
        "anova_table = sm.stats.anova_lm(test, typ=2)\n",
        "anova_table"
      ],
      "metadata": {
        "colab": {
          "base_uri": "https://localhost:8080/",
          "height": 244
        },
        "id": "DJae0A8pVbgT",
        "outputId": "647fa2b0-fc9d-4cbf-867c-482ecab2f4b1"
      },
      "execution_count": 28,
      "outputs": [
        {
          "output_type": "stream",
          "name": "stderr",
          "text": [
            "/usr/local/lib/python3.10/dist-packages/statsmodels/base/model.py:1894: ValueWarning: covariance of constraints does not have full rank. The number of constraints is 6, but rank is 4\n",
            "  warnings.warn('covariance of constraints does not have full '\n",
            "/usr/local/lib/python3.10/dist-packages/statsmodels/base/model.py:1894: ValueWarning: covariance of constraints does not have full rank. The number of constraints is 6, but rank is 1\n",
            "  warnings.warn('covariance of constraints does not have full '\n"
          ]
        },
        {
          "output_type": "execute_result",
          "data": {
            "text/plain": [
              "                                sum_sq        df             F    PR(>F)\n",
              "C(Marital_Status)         3.375598e+12       1.0  1.432488e+05  0.000000\n",
              "C(Age)                   -8.540713e-02       6.0 -6.040644e-10  1.000000\n",
              "C(Marital_Status):C(Age)  2.439383e+06       6.0  1.725318e-02  0.895497\n",
              "Residual                  1.296181e+13  550055.0           NaN       NaN"
            ],
            "text/html": [
              "\n",
              "  <div id=\"df-466e8390-9a5e-4823-8739-81b57de67c14\" class=\"colab-df-container\">\n",
              "    <div>\n",
              "<style scoped>\n",
              "    .dataframe tbody tr th:only-of-type {\n",
              "        vertical-align: middle;\n",
              "    }\n",
              "\n",
              "    .dataframe tbody tr th {\n",
              "        vertical-align: top;\n",
              "    }\n",
              "\n",
              "    .dataframe thead th {\n",
              "        text-align: right;\n",
              "    }\n",
              "</style>\n",
              "<table border=\"1\" class=\"dataframe\">\n",
              "  <thead>\n",
              "    <tr style=\"text-align: right;\">\n",
              "      <th></th>\n",
              "      <th>sum_sq</th>\n",
              "      <th>df</th>\n",
              "      <th>F</th>\n",
              "      <th>PR(&gt;F)</th>\n",
              "    </tr>\n",
              "  </thead>\n",
              "  <tbody>\n",
              "    <tr>\n",
              "      <th>C(Marital_Status)</th>\n",
              "      <td>3.375598e+12</td>\n",
              "      <td>1.0</td>\n",
              "      <td>1.432488e+05</td>\n",
              "      <td>0.000000</td>\n",
              "    </tr>\n",
              "    <tr>\n",
              "      <th>C(Age)</th>\n",
              "      <td>-8.540713e-02</td>\n",
              "      <td>6.0</td>\n",
              "      <td>-6.040644e-10</td>\n",
              "      <td>1.000000</td>\n",
              "    </tr>\n",
              "    <tr>\n",
              "      <th>C(Marital_Status):C(Age)</th>\n",
              "      <td>2.439383e+06</td>\n",
              "      <td>6.0</td>\n",
              "      <td>1.725318e-02</td>\n",
              "      <td>0.895497</td>\n",
              "    </tr>\n",
              "    <tr>\n",
              "      <th>Residual</th>\n",
              "      <td>1.296181e+13</td>\n",
              "      <td>550055.0</td>\n",
              "      <td>NaN</td>\n",
              "      <td>NaN</td>\n",
              "    </tr>\n",
              "  </tbody>\n",
              "</table>\n",
              "</div>\n",
              "    <div class=\"colab-df-buttons\">\n",
              "\n",
              "  <div class=\"colab-df-container\">\n",
              "    <button class=\"colab-df-convert\" onclick=\"convertToInteractive('df-466e8390-9a5e-4823-8739-81b57de67c14')\"\n",
              "            title=\"Convert this dataframe to an interactive table.\"\n",
              "            style=\"display:none;\">\n",
              "\n",
              "  <svg xmlns=\"http://www.w3.org/2000/svg\" height=\"24px\" viewBox=\"0 -960 960 960\">\n",
              "    <path d=\"M120-120v-720h720v720H120Zm60-500h600v-160H180v160Zm220 220h160v-160H400v160Zm0 220h160v-160H400v160ZM180-400h160v-160H180v160Zm440 0h160v-160H620v160ZM180-180h160v-160H180v160Zm440 0h160v-160H620v160Z\"/>\n",
              "  </svg>\n",
              "    </button>\n",
              "\n",
              "  <style>\n",
              "    .colab-df-container {\n",
              "      display:flex;\n",
              "      gap: 12px;\n",
              "    }\n",
              "\n",
              "    .colab-df-convert {\n",
              "      background-color: #E8F0FE;\n",
              "      border: none;\n",
              "      border-radius: 50%;\n",
              "      cursor: pointer;\n",
              "      display: none;\n",
              "      fill: #1967D2;\n",
              "      height: 32px;\n",
              "      padding: 0 0 0 0;\n",
              "      width: 32px;\n",
              "    }\n",
              "\n",
              "    .colab-df-convert:hover {\n",
              "      background-color: #E2EBFA;\n",
              "      box-shadow: 0px 1px 2px rgba(60, 64, 67, 0.3), 0px 1px 3px 1px rgba(60, 64, 67, 0.15);\n",
              "      fill: #174EA6;\n",
              "    }\n",
              "\n",
              "    .colab-df-buttons div {\n",
              "      margin-bottom: 4px;\n",
              "    }\n",
              "\n",
              "    [theme=dark] .colab-df-convert {\n",
              "      background-color: #3B4455;\n",
              "      fill: #D2E3FC;\n",
              "    }\n",
              "\n",
              "    [theme=dark] .colab-df-convert:hover {\n",
              "      background-color: #434B5C;\n",
              "      box-shadow: 0px 1px 3px 1px rgba(0, 0, 0, 0.15);\n",
              "      filter: drop-shadow(0px 1px 2px rgba(0, 0, 0, 0.3));\n",
              "      fill: #FFFFFF;\n",
              "    }\n",
              "  </style>\n",
              "\n",
              "    <script>\n",
              "      const buttonEl =\n",
              "        document.querySelector('#df-466e8390-9a5e-4823-8739-81b57de67c14 button.colab-df-convert');\n",
              "      buttonEl.style.display =\n",
              "        google.colab.kernel.accessAllowed ? 'block' : 'none';\n",
              "\n",
              "      async function convertToInteractive(key) {\n",
              "        const element = document.querySelector('#df-466e8390-9a5e-4823-8739-81b57de67c14');\n",
              "        const dataTable =\n",
              "          await google.colab.kernel.invokeFunction('convertToInteractive',\n",
              "                                                    [key], {});\n",
              "        if (!dataTable) return;\n",
              "\n",
              "        const docLinkHtml = 'Like what you see? Visit the ' +\n",
              "          '<a target=\"_blank\" href=https://colab.research.google.com/notebooks/data_table.ipynb>data table notebook</a>'\n",
              "          + ' to learn more about interactive tables.';\n",
              "        element.innerHTML = '';\n",
              "        dataTable['output_type'] = 'display_data';\n",
              "        await google.colab.output.renderOutput(dataTable, element);\n",
              "        const docLink = document.createElement('div');\n",
              "        docLink.innerHTML = docLinkHtml;\n",
              "        element.appendChild(docLink);\n",
              "      }\n",
              "    </script>\n",
              "  </div>\n",
              "\n",
              "\n",
              "<div id=\"df-aa60dc47-dab2-4cfa-bb80-c5155ed5ecd8\">\n",
              "  <button class=\"colab-df-quickchart\" onclick=\"quickchart('df-aa60dc47-dab2-4cfa-bb80-c5155ed5ecd8')\"\n",
              "            title=\"Suggest charts\"\n",
              "            style=\"display:none;\">\n",
              "\n",
              "<svg xmlns=\"http://www.w3.org/2000/svg\" height=\"24px\"viewBox=\"0 0 24 24\"\n",
              "     width=\"24px\">\n",
              "    <g>\n",
              "        <path d=\"M19 3H5c-1.1 0-2 .9-2 2v14c0 1.1.9 2 2 2h14c1.1 0 2-.9 2-2V5c0-1.1-.9-2-2-2zM9 17H7v-7h2v7zm4 0h-2V7h2v10zm4 0h-2v-4h2v4z\"/>\n",
              "    </g>\n",
              "</svg>\n",
              "  </button>\n",
              "\n",
              "<style>\n",
              "  .colab-df-quickchart {\n",
              "      --bg-color: #E8F0FE;\n",
              "      --fill-color: #1967D2;\n",
              "      --hover-bg-color: #E2EBFA;\n",
              "      --hover-fill-color: #174EA6;\n",
              "      --disabled-fill-color: #AAA;\n",
              "      --disabled-bg-color: #DDD;\n",
              "  }\n",
              "\n",
              "  [theme=dark] .colab-df-quickchart {\n",
              "      --bg-color: #3B4455;\n",
              "      --fill-color: #D2E3FC;\n",
              "      --hover-bg-color: #434B5C;\n",
              "      --hover-fill-color: #FFFFFF;\n",
              "      --disabled-bg-color: #3B4455;\n",
              "      --disabled-fill-color: #666;\n",
              "  }\n",
              "\n",
              "  .colab-df-quickchart {\n",
              "    background-color: var(--bg-color);\n",
              "    border: none;\n",
              "    border-radius: 50%;\n",
              "    cursor: pointer;\n",
              "    display: none;\n",
              "    fill: var(--fill-color);\n",
              "    height: 32px;\n",
              "    padding: 0;\n",
              "    width: 32px;\n",
              "  }\n",
              "\n",
              "  .colab-df-quickchart:hover {\n",
              "    background-color: var(--hover-bg-color);\n",
              "    box-shadow: 0 1px 2px rgba(60, 64, 67, 0.3), 0 1px 3px 1px rgba(60, 64, 67, 0.15);\n",
              "    fill: var(--button-hover-fill-color);\n",
              "  }\n",
              "\n",
              "  .colab-df-quickchart-complete:disabled,\n",
              "  .colab-df-quickchart-complete:disabled:hover {\n",
              "    background-color: var(--disabled-bg-color);\n",
              "    fill: var(--disabled-fill-color);\n",
              "    box-shadow: none;\n",
              "  }\n",
              "\n",
              "  .colab-df-spinner {\n",
              "    border: 2px solid var(--fill-color);\n",
              "    border-color: transparent;\n",
              "    border-bottom-color: var(--fill-color);\n",
              "    animation:\n",
              "      spin 1s steps(1) infinite;\n",
              "  }\n",
              "\n",
              "  @keyframes spin {\n",
              "    0% {\n",
              "      border-color: transparent;\n",
              "      border-bottom-color: var(--fill-color);\n",
              "      border-left-color: var(--fill-color);\n",
              "    }\n",
              "    20% {\n",
              "      border-color: transparent;\n",
              "      border-left-color: var(--fill-color);\n",
              "      border-top-color: var(--fill-color);\n",
              "    }\n",
              "    30% {\n",
              "      border-color: transparent;\n",
              "      border-left-color: var(--fill-color);\n",
              "      border-top-color: var(--fill-color);\n",
              "      border-right-color: var(--fill-color);\n",
              "    }\n",
              "    40% {\n",
              "      border-color: transparent;\n",
              "      border-right-color: var(--fill-color);\n",
              "      border-top-color: var(--fill-color);\n",
              "    }\n",
              "    60% {\n",
              "      border-color: transparent;\n",
              "      border-right-color: var(--fill-color);\n",
              "    }\n",
              "    80% {\n",
              "      border-color: transparent;\n",
              "      border-right-color: var(--fill-color);\n",
              "      border-bottom-color: var(--fill-color);\n",
              "    }\n",
              "    90% {\n",
              "      border-color: transparent;\n",
              "      border-bottom-color: var(--fill-color);\n",
              "    }\n",
              "  }\n",
              "</style>\n",
              "\n",
              "  <script>\n",
              "    async function quickchart(key) {\n",
              "      const quickchartButtonEl =\n",
              "        document.querySelector('#' + key + ' button');\n",
              "      quickchartButtonEl.disabled = true;  // To prevent multiple clicks.\n",
              "      quickchartButtonEl.classList.add('colab-df-spinner');\n",
              "      try {\n",
              "        const charts = await google.colab.kernel.invokeFunction(\n",
              "            'suggestCharts', [key], {});\n",
              "      } catch (error) {\n",
              "        console.error('Error during call to suggestCharts:', error);\n",
              "      }\n",
              "      quickchartButtonEl.classList.remove('colab-df-spinner');\n",
              "      quickchartButtonEl.classList.add('colab-df-quickchart-complete');\n",
              "    }\n",
              "    (() => {\n",
              "      let quickchartButtonEl =\n",
              "        document.querySelector('#df-aa60dc47-dab2-4cfa-bb80-c5155ed5ecd8 button');\n",
              "      quickchartButtonEl.style.display =\n",
              "        google.colab.kernel.accessAllowed ? 'block' : 'none';\n",
              "    })();\n",
              "  </script>\n",
              "</div>\n",
              "\n",
              "  <div id=\"id_d12dffa1-a5d2-4002-9ce8-67bf46c75018\">\n",
              "    <style>\n",
              "      .colab-df-generate {\n",
              "        background-color: #E8F0FE;\n",
              "        border: none;\n",
              "        border-radius: 50%;\n",
              "        cursor: pointer;\n",
              "        display: none;\n",
              "        fill: #1967D2;\n",
              "        height: 32px;\n",
              "        padding: 0 0 0 0;\n",
              "        width: 32px;\n",
              "      }\n",
              "\n",
              "      .colab-df-generate:hover {\n",
              "        background-color: #E2EBFA;\n",
              "        box-shadow: 0px 1px 2px rgba(60, 64, 67, 0.3), 0px 1px 3px 1px rgba(60, 64, 67, 0.15);\n",
              "        fill: #174EA6;\n",
              "      }\n",
              "\n",
              "      [theme=dark] .colab-df-generate {\n",
              "        background-color: #3B4455;\n",
              "        fill: #D2E3FC;\n",
              "      }\n",
              "\n",
              "      [theme=dark] .colab-df-generate:hover {\n",
              "        background-color: #434B5C;\n",
              "        box-shadow: 0px 1px 3px 1px rgba(0, 0, 0, 0.15);\n",
              "        filter: drop-shadow(0px 1px 2px rgba(0, 0, 0, 0.3));\n",
              "        fill: #FFFFFF;\n",
              "      }\n",
              "    </style>\n",
              "    <button class=\"colab-df-generate\" onclick=\"generateWithVariable('anova_table')\"\n",
              "            title=\"Generate code using this dataframe.\"\n",
              "            style=\"display:none;\">\n",
              "\n",
              "  <svg xmlns=\"http://www.w3.org/2000/svg\" height=\"24px\"viewBox=\"0 0 24 24\"\n",
              "       width=\"24px\">\n",
              "    <path d=\"M7,19H8.4L18.45,9,17,7.55,7,17.6ZM5,21V16.75L18.45,3.32a2,2,0,0,1,2.83,0l1.4,1.43a1.91,1.91,0,0,1,.58,1.4,1.91,1.91,0,0,1-.58,1.4L9.25,21ZM18.45,9,17,7.55Zm-12,3A5.31,5.31,0,0,0,4.9,8.1,5.31,5.31,0,0,0,1,6.5,5.31,5.31,0,0,0,4.9,4.9,5.31,5.31,0,0,0,6.5,1,5.31,5.31,0,0,0,8.1,4.9,5.31,5.31,0,0,0,12,6.5,5.46,5.46,0,0,0,6.5,12Z\"/>\n",
              "  </svg>\n",
              "    </button>\n",
              "    <script>\n",
              "      (() => {\n",
              "      const buttonEl =\n",
              "        document.querySelector('#id_d12dffa1-a5d2-4002-9ce8-67bf46c75018 button.colab-df-generate');\n",
              "      buttonEl.style.display =\n",
              "        google.colab.kernel.accessAllowed ? 'block' : 'none';\n",
              "\n",
              "      buttonEl.onclick = () => {\n",
              "        google.colab.notebook.generateWithVariable('anova_table');\n",
              "      }\n",
              "      })();\n",
              "    </script>\n",
              "  </div>\n",
              "\n",
              "    </div>\n",
              "  </div>\n"
            ],
            "application/vnd.google.colaboratory.intrinsic+json": {
              "type": "dataframe",
              "variable_name": "anova_table",
              "summary": "{\n  \"name\": \"anova_table\",\n  \"rows\": 4,\n  \"fields\": [\n    {\n      \"column\": \"sum_sq\",\n      \"properties\": {\n        \"dtype\": \"number\",\n        \"std\": 6128498501007.249,\n        \"min\": -0.08540712608255176,\n        \"max\": 12961812578704.633,\n        \"num_unique_values\": 4,\n        \"samples\": [\n          -0.08540712608255176,\n          12961812578704.633,\n          3375597662531.104\n        ],\n        \"semantic_type\": \"\",\n        \"description\": \"\"\n      }\n    },\n    {\n      \"column\": \"df\",\n      \"properties\": {\n        \"dtype\": \"number\",\n        \"std\": 275025.33334343345,\n        \"min\": 1.0,\n        \"max\": 550055.0,\n        \"num_unique_values\": 3,\n        \"samples\": [\n          1.0,\n          6.0,\n          550055.0\n        ],\n        \"semantic_type\": \"\",\n        \"description\": \"\"\n      }\n    },\n    {\n      \"column\": \"F\",\n      \"properties\": {\n        \"dtype\": \"number\",\n        \"std\": 82704.74048916262,\n        \"min\": -6.040643936702784e-10,\n        \"max\": 143248.8211806181,\n        \"num_unique_values\": 3,\n        \"samples\": [\n          143248.8211806181,\n          -6.040643936702784e-10,\n          0.017253181303991942\n        ],\n        \"semantic_type\": \"\",\n        \"description\": \"\"\n      }\n    },\n    {\n      \"column\": \"PR(>F)\",\n      \"properties\": {\n        \"dtype\": \"number\",\n        \"std\": 0.5496720838954233,\n        \"min\": 0.0,\n        \"max\": 1.0,\n        \"num_unique_values\": 3,\n        \"samples\": [\n          0.0,\n          1.0,\n          0.8954974076296988\n        ],\n        \"semantic_type\": \"\",\n        \"description\": \"\"\n      }\n    }\n  ]\n}"
            }
          },
          "metadata": {},
          "execution_count": 28
        }
      ]
    },
    {
      "cell_type": "code",
      "source": [
        "p_val_marital_st = 1.347845e-07\n",
        "#lets compare with 95% confidence interval\n",
        "Alpha =0.05\n",
        "\n",
        "# here p_val <Alpha , reject null hypothesis\n",
        "#There is significant diffrence\n",
        "\n",
        "p_val_Age = 0\n",
        "# less than alpha ,#There is significant diffrence\n",
        "\n",
        "p_val_age_marita_st =1.211968e-61\n",
        "# here p_val <Alpha , reject null hypothesis\n",
        "#There is significant diffrence\n"
      ],
      "metadata": {
        "id": "dCUJLTljWnWH"
      },
      "execution_count": 29,
      "outputs": []
    },
    {
      "cell_type": "markdown",
      "source": [
        "**Analysis:**\n",
        "\n",
        "**There is significant diffrence in purchase between married and unmarried**\n",
        "\n",
        "**There is significant diffrence in purchase among different age group**\n",
        "\n",
        "**There is interaction between Age and marital status on purchase**"
      ],
      "metadata": {
        "id": "v52FR9OWaNC4"
      }
    },
    {
      "cell_type": "code",
      "source": [
        "#Are there preferred product categories for different genders?\n",
        "grpd_data = df1.groupby(by=['Product_Category','Gender']).value_counts().reset_index()\n"
      ],
      "metadata": {
        "id": "OzwpYa3HaUak"
      },
      "execution_count": 30,
      "outputs": []
    },
    {
      "cell_type": "code",
      "source": [
        "plt.figure(figsize=(7,3))\n",
        "sns.countplot(data= grpd_data, x= \"Product_Category\",hue ='Gender')\n",
        "plt.xticks(rotation=45)\n",
        "plt.show()"
      ],
      "metadata": {
        "colab": {
          "base_uri": "https://localhost:8080/",
          "height": 322
        },
        "id": "gZkqpfWJeRK5",
        "outputId": "8df26a94-823a-433c-adf9-2bb747a25eb7"
      },
      "execution_count": 31,
      "outputs": [
        {
          "output_type": "display_data",
          "data": {
            "text/plain": [
              "<Figure size 700x300 with 1 Axes>"
            ],
            "image/png": "[encoded data removed]"
          },
          "metadata": {}
        }
      ]
    },
    {
      "cell_type": "markdown",
      "source": [
        "**Analysis**\n",
        "\n",
        "Product cat 1,5,8 are most popular and preferred by male users respectively\n",
        "\n",
        "in female users product cat. 5,8,1 are most popular respectively\n",
        "\n",
        "Most number of buyers are male"
      ],
      "metadata": {
        "id": "j8WToFCu5wTT"
      }
    },
    {
      "cell_type": "code",
      "source": [
        "#Are there preferred product categories for married and unmarried?\n",
        "g_data = df1.groupby(by=[\"Product_Category\",\"Marital_Status\"]).value_counts().reset_index()\n",
        "sns.countplot(data=g_data, x= \"Product_Category\",hue ='Marital_Status')\n",
        "plt.xticks(rotation=45)\n",
        "plt.show()"
      ],
      "metadata": {
        "colab": {
          "base_uri": "https://localhost:8080/",
          "height": 458
        },
        "id": "u2U4BjStKGvq",
        "outputId": "d781fd2c-9877-4062-9726-4df9125b3b0c"
      },
      "execution_count": 78,
      "outputs": [
        {
          "output_type": "display_data",
          "data": {
            "text/plain": [
              "<Figure size 640x480 with 1 Axes>"
            ],
            "image/png": "[encoded data removed]"
          },
          "metadata": {}
        }
      ]
    },
    {
      "cell_type": "markdown",
      "source": [
        "Again cat 1,5,8 are most popular in Married and Unmarried people,\n",
        "cat 2,3,6,11 are the 2nd most popular"
      ],
      "metadata": {
        "id": "m0E0f7SgPZtj"
      }
    },
    {
      "cell_type": "code",
      "source": [
        "#Are there preferred product categories for different age group?\n",
        "plt.figure(figsize=(14,3))\n",
        "g_data = df1.groupby(by=[\"Product_Category\",\"Age\"]).value_counts().reset_index()\n",
        "sns.countplot(data=g_data, x= \"Product_Category\",hue ='Age')\n",
        "plt.xticks(rotation=45)\n",
        "plt.show()"
      ],
      "metadata": {
        "colab": {
          "base_uri": "https://localhost:8080/",
          "height": 319
        },
        "id": "dg-smH2nO0c7",
        "outputId": "89c662be-f9e4-4737-dfee-73059e3b30bd"
      },
      "execution_count": 82,
      "outputs": [
        {
          "output_type": "display_data",
          "data": {
            "text/plain": [
              "<Figure size 1400x300 with 1 Axes>"
            ],
            "image/png": "[encoded data removed]"
          },
          "metadata": {}
        }
      ]
    },
    {
      "cell_type": "markdown",
      "source": [
        "Again cat 1,5,8 are most popular in different age group\n",
        ", cat 2,3,6,11 are the 2nd most popular"
      ],
      "metadata": {
        "id": "h88OaqmJPt9b"
      }
    },
    {
      "cell_type": "code",
      "source": [
        "# Statistical Test\n",
        "# hence there are two categorical column we will perform chi square test\n",
        "'''\n",
        "H0: There is no significance difference between prod.cat and gender\n",
        "Ha: There is substentail difference between prod.cat and gender\n",
        "'''\n",
        "from scipy.stats import chi2_contingency\n",
        "cont_table = pd.crosstab(df1['Product_Category'], df[\"Gender\"])\n",
        "cont_table\n",
        "chi_stat, p_val, df, exp_freq = chi2_contingency(cont_table)\n",
        "chi_stat, p_val, df, exp_freq"
      ],
      "metadata": {
        "colab": {
          "base_uri": "https://localhost:8080/",
          "height": 0
        },
        "id": "xBQQq1Zn6pP_",
        "outputId": "c27d2ddf-5711-4b42-f31b-4075a4916d31"
      },
      "execution_count": 33,
      "outputs": [
        {
          "output_type": "execute_result",
          "data": {
            "text/plain": [
              "(8070.411022236562,\n",
              " 0.0,\n",
              " 19,\n",
              " array([[3.46586164e+04, 1.05719384e+05],\n",
              "        [5.89190059e+03, 1.79720994e+04],\n",
              "        [4.99048721e+03, 1.52225128e+04],\n",
              "        [2.90175610e+03, 8.85124390e+03],\n",
              "        [3.72645924e+04, 1.13668408e+05],\n",
              "        [5.05295162e+03, 1.54130484e+04],\n",
              "        [9.18696032e+02, 2.80230397e+03],\n",
              "        [2.81275048e+04, 8.57974952e+04],\n",
              "        [1.01226921e+02, 3.08773079e+02],\n",
              "        [1.26533651e+03, 3.85966349e+03],\n",
              "        [5.99633715e+03, 1.82906629e+04],\n",
              "        [9.74494286e+02, 2.97250571e+03],\n",
              "        [1.37001996e+03, 4.17898004e+03],\n",
              "        [3.76020977e+02, 1.14697902e+03],\n",
              "        [1.55296911e+03, 4.73703089e+03],\n",
              "        [2.42648337e+03, 7.40151663e+03],\n",
              "        [1.42705269e+02, 4.35294731e+02],\n",
              "        [7.71546654e+02, 2.35345335e+03],\n",
              "        [3.95772572e+02, 1.20722743e+03],\n",
              "        [6.29582070e+02, 1.92041793e+03]]))"
            ]
          },
          "metadata": {},
          "execution_count": 33
        }
      ]
    },
    {
      "cell_type": "markdown",
      "source": [
        "**Analysis**\n",
        "\n",
        "As p value is less than 0.05 we reject null hypothesis\n",
        "\n",
        "The chi-square statistic is 3159.26, which is large, indicating a significant difference.\n",
        "\n",
        "\n",
        "The p-value is reported as 0.0. This doesn't mean it's precisely zero, but rather it's so small that it's effectively zero. This indicates strong evidence against the null hypothesis.\n",
        "\n",
        "There is substentail difference between prod.cat and gender\n",
        "\n",
        "**As we have observed above**\n",
        "\n",
        "Product cat 1,5,8 are most popular and preferred by male users respectively\n",
        "\n",
        "in female users product cat. 5,8,1 are most popular respectively\n",
        "\n",
        "Most number of buyers are male\n"
      ],
      "metadata": {
        "id": "w_OZEwbU97kS"
      }
    },
    {
      "cell_type": "markdown",
      "source": [
        "\n",
        "\n",
        "---\n",
        "\n",
        "\n",
        "\n",
        "---\n",
        "\n"
      ],
      "metadata": {
        "id": "Bjfu4CpOnizf"
      }
    },
    {
      "cell_type": "code",
      "source": [
        "#Gender affects on amount spent\n",
        "#calculating mean,std of purchase of each gender\n",
        "\n",
        "male_mean = np.mean(df1[df1['Gender']==\"M\"][\"Purchase\"])\n",
        "female_mean = np.mean(df1[df1['Gender']==\"F\"][\"Purchase\"])\n",
        "std_male = df1[df1['Gender']==\"M\"][\"Purchase\"].std()\n",
        "std_female = df1[df1['Gender']==\"F\"][\"Purchase\"].std()\n",
        "male_mean,female_mean,std_male,std_female\n"
      ],
      "metadata": {
        "id": "Foo9ymP48653",
        "colab": {
          "base_uri": "https://localhost:8080/",
          "height": 0
        },
        "outputId": "a0c2d1a0-cae6-4623-8946-229188d36188"
      },
      "execution_count": 34,
      "outputs": [
        {
          "output_type": "execute_result",
          "data": {
            "text/plain": [
              "(9427.240996574606, 8736.540266109021, 4925.953492284638, 4596.98461352269)"
            ]
          },
          "metadata": {},
          "execution_count": 34
        }
      ]
    },
    {
      "cell_type": "code",
      "source": [
        "#computing 95% confidence interval for the given data first\n",
        "z_score = norm.ppf(0.025)\n",
        "z_score"
      ],
      "metadata": {
        "colab": {
          "base_uri": "https://localhost:8080/",
          "height": 0
        },
        "id": "BP3h1KoWcv3X",
        "outputId": "386628b1-6e37-45c5-f46f-c04eea1c1011"
      },
      "execution_count": 35,
      "outputs": [
        {
          "output_type": "execute_result",
          "data": {
            "text/plain": [
              "-1.9599639845400545"
            ]
          },
          "metadata": {},
          "execution_count": 35
        }
      ]
    },
    {
      "cell_type": "code",
      "source": [
        "male_df =df1[df1['Gender']==\"M\"]\n",
        "female_df= df1[df1[\"Gender\"]==\"F\"]\n",
        "sample_1_male=[]\n",
        "for i in range (1000):\n",
        "  bootstrapped_samp = np.mean(np.random.choice(male_df[\"Purchase\"],size = len(male_df)))\n",
        "  sample_1_male.append(bootstrapped_samp)\n",
        "\n",
        "sample_1_female=[]\n",
        "for i in range (1000):\n",
        "  booststrapped_samp= np.mean(np.random.choice(female_df[\"Purchase\"],size = len(female_df)))\n",
        "  sample_1_female.append(booststrapped_samp)\n",
        "plt.figure(figsize=(7,3))\n",
        "plt.subplot(1,2,1)\n",
        "sns.histplot(sample_1_male,kde=True,bins=20)\n",
        "plt.title(\"Male\")\n",
        "plt.subplot(1,2,2)\n",
        "sns.histplot(sample_1_female,kde=True, bins =20)\n",
        "plt.title(\"Female\")\n",
        "plt.show()"
      ],
      "metadata": {
        "colab": {
          "base_uri": "https://localhost:8080/",
          "height": 314
        },
        "id": "8u27fTJ2f_iL",
        "outputId": "5c39ec2b-a456-41ff-8a1e-39232317f16a"
      },
      "execution_count": 36,
      "outputs": [
        {
          "output_type": "display_data",
          "data": {
            "text/plain": [
              "<Figure size 700x300 with 2 Axes>"
            ],
            "image/png": "[encoded data removed]"
          },
          "metadata": {}
        }
      ]
    },
    {
      "cell_type": "code",
      "source": [
        "#margins_of_error\n",
        "me_male = z_score*(np.std(sample_1_male))\n",
        "me_female = z_score*(np.std(sample_1_female))\n",
        "confidence_interval_female =(female_mean + me_female, female_mean - me_female)\n",
        "confidence_interval_male = (male_mean+me_male,male_mean-me_male )\n",
        "confidence_interval_male, confidence_interval_female"
      ],
      "metadata": {
        "colab": {
          "base_uri": "https://localhost:8080/",
          "height": 0
        },
        "id": "lhJMXR1-hqgU",
        "outputId": "4ac2ca94-aaa5-47e5-8b94-054b0e8dc424"
      },
      "execution_count": 37,
      "outputs": [
        {
          "output_type": "execute_result",
          "data": {
            "text/plain": [
              "((9412.482502224033, 9441.99949092518), (8712.14805972696, 8760.932472491082))"
            ]
          },
          "metadata": {},
          "execution_count": 37
        }
      ]
    },
    {
      "cell_type": "markdown",
      "source": [
        "**Analysis**\n",
        "\n",
        "The average amount spent by males falls within the range of (9412.63, 9441.85), while for females, it falls within (8712.00, 8761.08).\n",
        "\n",
        "\n",
        "Based on these confidence intervals, it appears that males tend to spend more on average compared to females.\n",
        "\n",
        "\n",
        "\n",
        "There is no overlap between the confidence intervals for males and females. This suggests that the difference in average spending between genders may be statistically significant.\n",
        "\n",
        "\n",
        "In summary, based on the provided confidence intervals, it appears that there is a difference in average amount spent between males and females, with males tending to spend more on average. However, further analysis and consideration of additional factors are necessary for a comprehensive understanding of this difference."
      ],
      "metadata": {
        "id": "_ydVdC_rwpd8"
      }
    },
    {
      "cell_type": "code",
      "source": [
        "#Bootstrapping for sample 300,3000, 30000\n",
        "sample_300_male=[]\n",
        "for i in range (1000):\n",
        "  bootstrapped_sample1 = np.mean(np.random.choice(male_df[\"Purchase\"],size=300))\n",
        "  sample_300_male.append(bootstrapped_sample1)\n",
        "plt.figure(figsize=(7,3))\n",
        "sns.kdeplot(sample_300_male)\n",
        "plt.show"
      ],
      "metadata": {
        "colab": {
          "base_uri": "https://localhost:8080/",
          "height": 460
        },
        "id": "Bjqnxni1PVEl",
        "outputId": "62cea972-08e4-4843-ddec-c345beeba7ba"
      },
      "execution_count": 38,
      "outputs": [
        {
          "output_type": "execute_result",
          "data": {
            "text/plain": [
              "<function matplotlib.pyplot.show(close=None, block=None)>"
            ],
            "text/html": [
              "<div style=\"max-width:800px; border: 1px solid var(--colab-border-color);\"><style>\n",
              "      pre.function-repr-contents {\n",
              "        overflow-x: auto;\n",
              "        padding: 8px 12px;\n",
              "        max-height: 500px;\n",
              "      }\n",
              "\n",
              "      pre.function-repr-contents.function-repr-contents-collapsed {\n",
              "        cursor: pointer;\n",
              "        max-height: 100px;\n",
              "      }\n",
              "    </style>\n",
              "    <pre style=\"white-space: initial; background:\n",
              "         var(--colab-secondary-surface-color); padding: 8px 12px;\n",
              "         border-bottom: 1px solid var(--colab-border-color);\"><b>matplotlib.pyplot.show</b><br/>def show(*args, **kwargs)</pre><pre class=\"function-repr-contents function-repr-contents-collapsed\" style=\"\"><a class=\"filepath\" style=\"display:none\" href=\"#\">/usr/local/lib/python3.10/dist-packages/matplotlib/pyplot.py</a>Display all open figures.\n",
              "\n",
              "Parameters\n",
              "----------\n",
              "block : bool, optional\n",
              "    Whether to wait for all figures to be closed before returning.\n",
              "\n",
              "    If `True` block and run the GUI main loop until all figure windows\n",
              "    are closed.\n",
              "\n",
              "    If `False` ensure that all figure windows are displayed and return\n",
              "    immediately.  In this case, you are responsible for ensuring\n",
              "    that the event loop is running to have responsive figures.\n",
              "\n",
              "    Defaults to True in non-interactive mode and to False in interactive\n",
              "    mode (see `.pyplot.isinteractive`).\n",
              "\n",
              "See Also\n",
              "--------\n",
              "ion : Enable interactive mode, which shows / updates the figure after\n",
              "      every plotting command, so that calling ``show()`` is not necessary.\n",
              "ioff : Disable interactive mode.\n",
              "savefig : Save the figure to an image file instead of showing it on screen.\n",
              "\n",
              "Notes\n",
              "-----\n",
              "**Saving figures to file and showing a window at the same time**\n",
              "\n",
              "If you want an image file as well as a user interface window, use\n",
              "`.pyplot.savefig` before `.pyplot.show`. At the end of (a blocking)\n",
              "``show()`` the figure is closed and thus unregistered from pyplot. Calling\n",
              "`.pyplot.savefig` afterwards would save a new and thus empty figure. This\n",
              "limitation of command order does not apply if the show is non-blocking or\n",
              "if you keep a reference to the figure and use `.Figure.savefig`.\n",
              "\n",
              "**Auto-show in jupyter notebooks**\n",
              "\n",
              "The jupyter backends (activated via ``%matplotlib inline``,\n",
              "``%matplotlib notebook``, or ``%matplotlib widget``), call ``show()`` at\n",
              "the end of every cell by default. Thus, you usually don&#x27;t have to call it\n",
              "explicitly there.</pre>\n",
              "      <script>\n",
              "      if (google.colab.kernel.accessAllowed && google.colab.files && google.colab.files.view) {\n",
              "        for (const element of document.querySelectorAll('.filepath')) {\n",
              "          element.style.display = 'block'\n",
              "          element.onclick = (event) => {\n",
              "            event.preventDefault();\n",
              "            event.stopPropagation();\n",
              "            google.colab.files.view(element.textContent, 401);\n",
              "          };\n",
              "        }\n",
              "      }\n",
              "      for (const element of document.querySelectorAll('.function-repr-contents')) {\n",
              "        element.onclick = (event) => {\n",
              "          event.preventDefault();\n",
              "          event.stopPropagation();\n",
              "          element.classList.toggle('function-repr-contents-collapsed');\n",
              "        };\n",
              "      }\n",
              "      </script>\n",
              "      </div>"
            ]
          },
          "metadata": {},
          "execution_count": 38
        },
        {
          "output_type": "display_data",
          "data": {
            "text/plain": [
              "<Figure size 700x300 with 1 Axes>"
            ],
            "image/png": "[encoded data removed]"
          },
          "metadata": {}
        }
      ]
    },
    {
      "cell_type": "code",
      "source": [
        "sample_300_male_mean = np.mean(sample_300_male)\n",
        "sample_300_male_std = np.std(sample_300_male)\n",
        "std_error_300_male = sample_300_male_std/np.sqrt(300)\n",
        "std_error_300_male"
      ],
      "metadata": {
        "colab": {
          "base_uri": "https://localhost:8080/",
          "height": 0
        },
        "id": "g1UxyAvvVUyM",
        "outputId": "ba122911-664c-40d9-a3e3-f38fc4bea6c2"
      },
      "execution_count": 39,
      "outputs": [
        {
          "output_type": "execute_result",
          "data": {
            "text/plain": [
              "16.290892968321902"
            ]
          },
          "metadata": {},
          "execution_count": 39
        }
      ]
    },
    {
      "cell_type": "code",
      "source": [
        "sample_300_female=[]\n",
        "for i in range (1000):\n",
        "  bootstrapped_sample2= np.mean(np.random.choice(female_df[\"Purchase\"],size =300))\n",
        "  sample_300_female.append(bootstrapped_sample2)\n",
        "plt.figure(figsize = (7,3))\n",
        "sns.kdeplot(sample_300_female)\n",
        "plt.show()\n"
      ],
      "metadata": {
        "colab": {
          "base_uri": "https://localhost:8080/",
          "height": 291
        },
        "id": "PSgDXX6Ku3r-",
        "outputId": "e9cb1504-b623-4b36-9b2f-0af960e106c9"
      },
      "execution_count": 40,
      "outputs": [
        {
          "output_type": "display_data",
          "data": {
            "text/plain": [
              "<Figure size 700x300 with 1 Axes>"
            ],
            "image/png": "[encoded data removed]"
          },
          "metadata": {}
        }
      ]
    },
    {
      "cell_type": "code",
      "source": [
        "sample_300_female_mean= np.mean(sample_300_female)\n",
        "sample_300_female_std= np.std(sample_300_female)\n",
        "std_error_300_female = sample_300_female_std/np.sqrt(300)\n",
        "std_error_300_female"
      ],
      "metadata": {
        "colab": {
          "base_uri": "https://localhost:8080/",
          "height": 0
        },
        "id": "00OT-1yFWgEn",
        "outputId": "0b65a748-8f73-48db-a0d5-4b8f479c4fcd"
      },
      "execution_count": 41,
      "outputs": [
        {
          "output_type": "execute_result",
          "data": {
            "text/plain": [
              "14.798314037569584"
            ]
          },
          "metadata": {},
          "execution_count": 41
        }
      ]
    },
    {
      "cell_type": "code",
      "source": [
        "\n",
        "sample_3000_male=[]\n",
        "for i in range (1000):\n",
        "  bootstrapped_sample1 = np.mean(np.random.choice(male_df[\"Purchase\"],size=3000))\n",
        "  sample_3000_male.append(bootstrapped_sample1)\n"
      ],
      "metadata": {
        "id": "WhgxCQAHOfJf"
      },
      "execution_count": 42,
      "outputs": []
    },
    {
      "cell_type": "code",
      "source": [
        "sample_3000_male_mean = np.mean(sample_3000_male)\n",
        "sample_3000_male_std=np.std(sample_3000_male)\n",
        "std_error_3000_male = sample_3000_male_std/np.sqrt(3000)\n",
        "std_error_3000_male"
      ],
      "metadata": {
        "colab": {
          "base_uri": "https://localhost:8080/",
          "height": 0
        },
        "id": "HOhy33S7WjSr",
        "outputId": "8270a2df-3abf-4bf3-a007-9005832ea5c0"
      },
      "execution_count": 43,
      "outputs": [
        {
          "output_type": "execute_result",
          "data": {
            "text/plain": [
              "1.668429921596123"
            ]
          },
          "metadata": {},
          "execution_count": 43
        }
      ]
    },
    {
      "cell_type": "code",
      "source": [
        "sample_3000_female=[]\n",
        "for i in range (1000):\n",
        "  bootstrapped_sample2= np.mean(np.random.choice(female_df[\"Purchase\"],size =3000))\n",
        "  sample_3000_female.append(bootstrapped_sample2)\n"
      ],
      "metadata": {
        "id": "735Bsm1V7-Eh"
      },
      "execution_count": 44,
      "outputs": []
    },
    {
      "cell_type": "code",
      "source": [
        "sample_3000_female_mean=np.mean(sample_3000_female)\n",
        "sample_3000_female_std= np.std(sample_3000_female)\n",
        "std_error_3000_female = sample_3000_female_std/np.sqrt(3000)\n",
        "std_error_3000_female"
      ],
      "metadata": {
        "colab": {
          "base_uri": "https://localhost:8080/",
          "height": 0
        },
        "id": "idzKQQ-2WyYF",
        "outputId": "68b09f76-5f2e-4035-e163-573bb5c6a87a"
      },
      "execution_count": 45,
      "outputs": [
        {
          "output_type": "execute_result",
          "data": {
            "text/plain": [
              "1.6064801452887556"
            ]
          },
          "metadata": {},
          "execution_count": 45
        }
      ]
    },
    {
      "cell_type": "code",
      "source": [
        "sample_30000_male=[]\n",
        "for i in range (1000):\n",
        "  bootstrapped_sample1 = np.mean(np.random.choice(male_df[\"Purchase\"],size=30000))\n",
        "  sample_30000_male.append(bootstrapped_sample1)\n"
      ],
      "metadata": {
        "id": "fTZ3lt5R8TIg"
      },
      "execution_count": 46,
      "outputs": []
    },
    {
      "cell_type": "code",
      "source": [
        "sample_30000_male_mean= np.mean(sample_30000_male)\n",
        "sample_30000_male_std= np.std(sample_30000_male)\n",
        "std_error_30000_male = sample_30000_male_std/np.sqrt(30000)\n",
        "std_error_30000_male"
      ],
      "metadata": {
        "colab": {
          "base_uri": "https://localhost:8080/",
          "height": 0
        },
        "id": "zJnZLtZcW6Li",
        "outputId": "48c6e632-bb1c-4d84-db94-a7a275b36fdb"
      },
      "execution_count": 47,
      "outputs": [
        {
          "output_type": "execute_result",
          "data": {
            "text/plain": [
              "0.16443324874045634"
            ]
          },
          "metadata": {},
          "execution_count": 47
        }
      ]
    },
    {
      "cell_type": "code",
      "source": [
        "sample_30000_female=[]\n",
        "for i in range (1000):\n",
        "  bootstrapped_sample1 = np.mean(np.random.choice(female_df[\"Purchase\"],size=30000))\n",
        "  sample_30000_female.append(bootstrapped_sample1)"
      ],
      "metadata": {
        "id": "3klJwm52Ax3C"
      },
      "execution_count": 48,
      "outputs": []
    },
    {
      "cell_type": "code",
      "source": [
        "sample_30000_female_mean= np.mean(sample_30000_female)\n",
        "sample_30000_female_std= np.std(sample_30000_female)\n",
        "std_error_30000_female = sample_30000_female_std/np.sqrt(30000)\n",
        "std_error_30000_female"
      ],
      "metadata": {
        "colab": {
          "base_uri": "https://localhost:8080/",
          "height": 0
        },
        "id": "fUotUne8W_Yj",
        "outputId": "3c1a1ab1-9c77-4003-ce67-2b525f1866fd"
      },
      "execution_count": 49,
      "outputs": [
        {
          "output_type": "execute_result",
          "data": {
            "text/plain": [
              "0.15375255485525174"
            ]
          },
          "metadata": {},
          "execution_count": 49
        }
      ]
    },
    {
      "cell_type": "code",
      "source": [
        "sample_30000_female_mean-(z_score*std_error_30000_female)"
      ],
      "metadata": {
        "colab": {
          "base_uri": "https://localhost:8080/",
          "height": 0
        },
        "id": "BDmeTzkKeYVC",
        "outputId": "cb49e572-2103-496c-b857-2e010d46bf6d"
      },
      "execution_count": 50,
      "outputs": [
        {
          "output_type": "execute_result",
          "data": {
            "text/plain": [
              "8737.948911503381"
            ]
          },
          "metadata": {},
          "execution_count": 50
        }
      ]
    },
    {
      "cell_type": "code",
      "source": [
        "sample_30000_female_mean+(z_score*std_error_30000_female)"
      ],
      "metadata": {
        "colab": {
          "base_uri": "https://localhost:8080/",
          "height": 0
        },
        "id": "x4Cr0kVye-3s",
        "outputId": "723ab392-b26c-4aee-97b6-370cd471baa9"
      },
      "execution_count": 51,
      "outputs": [
        {
          "output_type": "execute_result",
          "data": {
            "text/plain": [
              "8737.346212563285"
            ]
          },
          "metadata": {},
          "execution_count": 51
        }
      ]
    },
    {
      "cell_type": "code",
      "source": [
        "#confidence interval for female with 30000 sample\n",
        "x1 =np.percentile(sample_30000_female,2.5)\n",
        "x2 = np.percentile(sample_30000_female,97.5)\n",
        "x1,x2"
      ],
      "metadata": {
        "colab": {
          "base_uri": "https://localhost:8080/",
          "height": 0
        },
        "id": "8EsC1oyIfrAo",
        "outputId": "93d9d217-007f-43c0-85eb-66b7c75cc44d"
      },
      "execution_count": 52,
      "outputs": [
        {
          "output_type": "execute_result",
          "data": {
            "text/plain": [
              "(8685.726156666666, 8791.170506666665)"
            ]
          },
          "metadata": {},
          "execution_count": 52
        }
      ]
    },
    {
      "cell_type": "code",
      "source": [
        "#confidence interval for male with 30000 sample\n",
        "y1 = np.percentile(sample_30000_male,2.5)\n",
        "y2 = np.percentile (sample_30000_male,97.5)\n",
        "y1,y2"
      ],
      "metadata": {
        "colab": {
          "base_uri": "https://localhost:8080/",
          "height": 0
        },
        "id": "NfIYSneDg050",
        "outputId": "7b4ec62a-4327-420e-eb61-e8beefce3c50"
      },
      "execution_count": 53,
      "outputs": [
        {
          "output_type": "execute_result",
          "data": {
            "text/plain": [
              "(9376.796303333334, 9487.9790975)"
            ]
          },
          "metadata": {},
          "execution_count": 53
        }
      ]
    },
    {
      "cell_type": "code",
      "source": [
        "#confidence interval for female with 3000 sample\n",
        "x1 =np.percentile(sample_3000_female,2.5)\n",
        "x2 = np.percentile(sample_3000_female,97.5)\n",
        "x1,x2"
      ],
      "metadata": {
        "colab": {
          "base_uri": "https://localhost:8080/",
          "height": 0
        },
        "id": "oz0sUxtQhvWt",
        "outputId": "e2340b1c-9bab-46a8-878e-bbbdb6f38773"
      },
      "execution_count": 54,
      "outputs": [
        {
          "output_type": "execute_result",
          "data": {
            "text/plain": [
              "(8570.358208333333, 8908.097433333334)"
            ]
          },
          "metadata": {},
          "execution_count": 54
        }
      ]
    },
    {
      "cell_type": "code",
      "source": [
        "#confidence interval for male with 3000 sample\n",
        "y1 = np.percentile(sample_3000_male,2.5)\n",
        "y2 = np.percentile (sample_3000_male,97.5)\n",
        "y1,y2"
      ],
      "metadata": {
        "colab": {
          "base_uri": "https://localhost:8080/",
          "height": 0
        },
        "id": "tK-OM-C6iW9P",
        "outputId": "eb7d4185-27d8-4eea-d2c4-f0049eedf168"
      },
      "execution_count": 55,
      "outputs": [
        {
          "output_type": "execute_result",
          "data": {
            "text/plain": [
              "(9249.898500000001, 9605.9245)"
            ]
          },
          "metadata": {},
          "execution_count": 55
        }
      ]
    },
    {
      "cell_type": "code",
      "source": [
        "#confidence interval for female with 300 sample\n",
        "x1 =np.percentile(sample_300_female,2.5)\n",
        "x2 = np.percentile(sample_300_female,97.5)\n",
        "x1,x2"
      ],
      "metadata": {
        "colab": {
          "base_uri": "https://localhost:8080/",
          "height": 0
        },
        "id": "4bcPFFBpiqzB",
        "outputId": "f1f381d1-cf4a-47bc-cad5-dff4b44f7389"
      },
      "execution_count": 56,
      "outputs": [
        {
          "output_type": "execute_result",
          "data": {
            "text/plain": [
              "(8247.195083333334, 9283.382)"
            ]
          },
          "metadata": {},
          "execution_count": 56
        }
      ]
    },
    {
      "cell_type": "code",
      "source": [
        "#confidence interval for male with 300 sample\n",
        "y1 = np.percentile(sample_300_male,2.5)\n",
        "y2 = np.percentile (sample_300_male,97.5)\n",
        "y1,y2"
      ],
      "metadata": {
        "colab": {
          "base_uri": "https://localhost:8080/",
          "height": 0
        },
        "id": "I7PRl7aFj3Kb",
        "outputId": "8ea487c7-1573-44c8-96bf-f35ca7908919"
      },
      "execution_count": 57,
      "outputs": [
        {
          "output_type": "execute_result",
          "data": {
            "text/plain": [
              "(8876.591083333333, 9981.572666666667)"
            ]
          },
          "metadata": {},
          "execution_count": 57
        }
      ]
    },
    {
      "cell_type": "code",
      "source": [
        "plt.figure(figsize=(15,10))\n",
        "plt.subplot(3,2,1)\n",
        "plt.title(\"Male 300\")\n",
        "plt.suptitle(\"Male Vs Female Confidence Interval\")\n",
        "sns.histplot(sample_300_male,kde=True,bins=20)\n",
        "\n",
        "\n",
        "plt.subplot(3,2,3)\n",
        "plt.title(\"Male 3000\")\n",
        "sns.histplot(sample_3000_male,kde=True,bins=20)\n",
        "\n",
        "plt.subplot(3,2,5)\n",
        "plt.title(\"Male 30000\")\n",
        "sns.histplot(sample_30000_male,kde=True,bins=20)\n",
        "\n",
        "plt.subplot(3,2,2)\n",
        "plt.title(\"Female 300\")\n",
        "sns.histplot(sample_300_female)\n",
        "\n",
        "plt.subplot(3,2,4)\n",
        "plt.title(\"Female 3000\")\n",
        "sns.histplot(sample_3000_female)\n",
        "\n",
        "plt.subplot(3,2,6)\n",
        "plt.title(\"Female 30000\")\n",
        "sns.histplot(sample_30000_female)\n",
        "plt.show()"
      ],
      "metadata": {
        "colab": {
          "base_uri": "https://localhost:8080/",
          "height": 930
        },
        "id": "e8mAERlokV4-",
        "outputId": "67b6d449-b95c-44f3-a4fb-0da3e38163ef"
      },
      "execution_count": 58,
      "outputs": [
        {
          "output_type": "display_data",
          "data": {
            "text/plain": [
              "<Figure size 1500x1000 with 6 Axes>"
            ],
            "image/png": "[encoded data removed]"
          },
          "metadata": {}
        }
      ]
    },
    {
      "cell_type": "markdown",
      "source": [
        "**Analysis**\n",
        "\n",
        "1. The confidence interval is wider for males compared to females across all sample sizes (300, 3000, 30000). This can be observed by comparing the range of the confidence intervals for males and females at each sample size.\n",
        "The wider confidence interval for males suggests higher variability or dispersion in the underlying male data compared to the female data.\n",
        "\n",
        "2. The width of the confidence interval decreases as the sample size increases, for both males and females. This can be seen by comparing the ranges of the confidence intervals across different sample sizes.\n",
        "This narrowing of the confidence interval with increasing sample size is expected due to the Central Limit Theorem and the reduced standard error of the mean for larger sample sizes.\n",
        "3. The confidence intervals for different sample sizes do overlap for both males and females. For example, the confidence intervals for females at sample sizes 300, 3000, and 30000 all overlap to some extent, indicating that the estimated means or confidence intervals have overlapping ranges.\n",
        "\n",
        "4. We can infer that as the sample size increases, the distributions of means  becoming more concentrated and closer to a normal distribution.\n",
        "The narrowing of the confidence intervals with increasing sample size suggests that the distributions are becoming more concentrated around the mean, which is a characteristic of the normal distribution for larger sample sizes."
      ],
      "metadata": {
        "id": "oCAZeKnbVdfd"
      }
    },
    {
      "cell_type": "markdown",
      "source": [
        "\n",
        "\n",
        "---\n",
        "\n",
        "\n",
        "\n",
        "---\n",
        "\n"
      ],
      "metadata": {
        "id": "a1UkeWyJnpQL"
      }
    },
    {
      "cell_type": "code",
      "source": [
        "#Effect of marital status on purchase\n",
        "df_unmarried = df1[df1[\"Marital_Status\"]==\"unmarried\"]\n",
        "df_married = df1[df1[\"Marital_Status\"]==\"married\"]\n",
        "unmarried_mean = np.mean(df_unmarried[\"Purchase\"])\n",
        "married_mean = np.mean(df_married[\"Purchase\"])\n",
        "\n",
        "# Boot strpping given data\n",
        "boot_sample_unmarried =[]\n",
        "for i in range (1000):\n",
        "  samp = np.mean(np.random.choice(df_unmarried[\"Purchase\"],size =len(df_unmarried)))\n",
        "  boot_sample_unmarried.append(samp)\n",
        "\n",
        "boot_sample_married =[]\n",
        "for i in range (1000):\n",
        "  samp = np.mean(np.random.choice(df_married[\"Purchase\"], size = len(df_married)))\n",
        "  boot_sample_married.append(samp)\n",
        "plt.figure(figsize=(7,3))\n",
        "plt.subplot(1,2,1)\n",
        "plt.title(\"Unmarried\")\n",
        "sns.histplot(boot_sample_unmarried, kde=True, bins =20)\n",
        "plt.subplot(1,2,2)\n",
        "plt.title(\"Married\")\n",
        "sns.histplot(boot_sample_married, kde= True, bins =20)\n",
        "plt.show()\n"
      ],
      "metadata": {
        "colab": {
          "base_uri": "https://localhost:8080/",
          "height": 314
        },
        "id": "VgozJhL8w8qS",
        "outputId": "8a337453-63da-459f-b5ec-50fec51e132d"
      },
      "execution_count": 59,
      "outputs": [
        {
          "output_type": "display_data",
          "data": {
            "text/plain": [
              "<Figure size 700x300 with 2 Axes>"
            ],
            "image/png": "[encoded data removed]"
          },
          "metadata": {}
        }
      ]
    },
    {
      "cell_type": "code",
      "source": [
        "z_score = norm.ppf(0.025)\n",
        "z_score"
      ],
      "metadata": {
        "colab": {
          "base_uri": "https://localhost:8080/",
          "height": 0
        },
        "id": "F8BLiCuaoTcr",
        "outputId": "662a9004-4068-47d7-e427-e3194566d403"
      },
      "execution_count": 60,
      "outputs": [
        {
          "output_type": "execute_result",
          "data": {
            "text/plain": [
              "-1.9599639845400545"
            ]
          },
          "metadata": {},
          "execution_count": 60
        }
      ]
    },
    {
      "cell_type": "code",
      "source": [
        "margine_error_unmarried = z_score*(np.std(boot_sample_unmarried))\n",
        "margine_error_married = z_score*(np.std(boot_sample_married))\n",
        "confidence_interval_unmarried = (unmarried_mean -margine_error_unmarried,unmarried_mean + margine_error_unmarried )\n",
        "confidence_interval_married = (married_mean -margine_error_married,married_mean + margine_error_married )\n",
        "confidence_interval_unmarried,confidence_interval_married"
      ],
      "metadata": {
        "colab": {
          "base_uri": "https://localhost:8080/",
          "height": 0
        },
        "id": "NwicSNfAsQtq",
        "outputId": "59d6a3e4-9845-4a6d-a638-ba9113e9bb5a"
      },
      "execution_count": 61,
      "outputs": [
        {
          "output_type": "execute_result",
          "data": {
            "text/plain": [
              "((9275.774188944517, 9241.866738469249),\n",
              " (9273.532638352322, 9233.807008487745))"
            ]
          },
          "metadata": {},
          "execution_count": 61
        }
      ]
    },
    {
      "cell_type": "markdown",
      "source": [
        "**Analysis**\n",
        "The average amount spent by unmarried individuals falls within the range of (9242.46, 9275.18), while for married individuals, it falls within (9233.94, 9273.40).\n",
        "There isn't a significant difference in the average spending between unmarried and married individuals based solely on these confidence intervals.\n",
        "\n",
        "\n",
        "Since the confidence intervals overlap, we cannot conclude with statistical significance that there is a difference in average spending between unmarried and married individuals.\n",
        "\n",
        "\n",
        "While the confidence intervals provide insight into the potential range of average spending, other factors such as sample size, distribution of spending data, and potential confounding variables should also be considered in drawing conclusions about differences in spending behavior between unmarried and married individuals.\n",
        "\n",
        "\n",
        "In summary, based on the provided confidence intervals, there isn't sufficient evidence to conclude that there is a significant difference in the average amount spent between unmarried and married individuals."
      ],
      "metadata": {
        "id": "HyQBLaXwvkF3"
      }
    },
    {
      "cell_type": "code",
      "source": [
        "#now bootstarpping with sample size 300, 3000, 30000\n",
        "sample_300_unmarried=[]\n",
        "for i in range (1000):\n",
        "  bootstrapped_sample1 = np.mean(np.random.choice(df_unmarried[\"Purchase\"],size=300))\n",
        "  sample_300_unmarried.append(bootstrapped_sample1)\n",
        "\n",
        "sample_300_married =[]\n",
        "for i in range (1000):\n",
        "  bootstrapped_sample1 = np.mean(np.random.choice(df_married[\"Purchase\"],size=300))\n",
        "  sample_300_married.append(bootstrapped_sample1)\n",
        "\n",
        "#3000 sample\n",
        "\n",
        "sample_3000_unmarried=[]\n",
        "for i in range (1000):\n",
        "  bootstrapped_sample1 = np.mean(np.random.choice(df_unmarried[\"Purchase\"],size=3000))\n",
        "  sample_3000_unmarried.append(bootstrapped_sample1)\n",
        "\n",
        "sample_3000_married =[]\n",
        "for i in range (1000):\n",
        "  bootstrapped_sample1 = np.mean(np.random.choice(df_married[\"Purchase\"],size=3000))\n",
        "  sample_3000_married.append(bootstrapped_sample1)\n",
        "\n",
        "#30000 sample\n",
        "sample_30000_unmarried=[]\n",
        "for i in range (1000):\n",
        "  bootstrapped_sample1 = np.mean(np.random.choice(df_unmarried[\"Purchase\"],size=30000))\n",
        "  sample_30000_unmarried.append(bootstrapped_sample1)\n",
        "\n",
        "sample_30000_married =[]\n",
        "for i in range (1000):\n",
        "  bootstrapped_sample1 = np.mean(np.random.choice(df_married[\"Purchase\"],size=30000))\n",
        "  sample_30000_married.append(bootstrapped_sample1)"
      ],
      "metadata": {
        "id": "-ubr2OoRuowm"
      },
      "execution_count": 62,
      "outputs": []
    },
    {
      "cell_type": "code",
      "source": [
        "#confidence interval of all the sample\n",
        "#300\n",
        "x1_300_unmarried=np.percentile(sample_300_unmarried,2.5)\n",
        "x2_300_unmarried=np.percentile(sample_300_unmarried,97.5)\n",
        "\n",
        "y1_300_married = np.percentile(sample_300_married,2.5)\n",
        "y2_300_married = np.percentile(sample_300_married,97.5)\n",
        "#3000\n",
        "x1_3000_unmarried=np.percentile(sample_3000_unmarried,2.5)\n",
        "x2_3000_unmarried=np.percentile(sample_3000_unmarried,97.5)\n",
        "\n",
        "y1_3000_married = np.percentile(sample_3000_married,2.5)\n",
        "y2_3000_married = np.percentile(sample_3000_married,97.5)\n",
        "#30000\n",
        "\n",
        "x1_30000_unmarried=np.percentile(sample_30000_unmarried,2.5)\n",
        "x2_30000_unmarried=np.percentile(sample_30000_unmarried,97.5)\n",
        "\n",
        "y1_30000_married = np.percentile(sample_30000_married,2.5)\n",
        "y2_30000_married = np.percentile(sample_30000_married,97.5)\n",
        "\n",
        "np.mean(sample_300_unmarried), np.mean(sample_300_married),np.mean(sample_3000_unmarried), np.mean(sample_3000_married),np.mean(sample_30000_unmarried), np.mean(sample_30000_married)"
      ],
      "metadata": {
        "colab": {
          "base_uri": "https://localhost:8080/",
          "height": 0
        },
        "id": "7MIqnycGzLgb",
        "outputId": "8c97469c-8072-4d9e-f1ed-f1ca9fb1176e"
      },
      "execution_count": 63,
      "outputs": [
        {
          "output_type": "execute_result",
          "data": {
            "text/plain": [
              "(9267.338136666667,\n",
              " 9243.42924,\n",
              " 9260.049722333333,\n",
              " 9259.186526999998,\n",
              " 9259.097692233334,\n",
              " 9253.434680666667)"
            ]
          },
          "metadata": {},
          "execution_count": 63
        }
      ]
    },
    {
      "cell_type": "code",
      "source": [
        "print(\"CI for 300 unmarried sample\",(x1_300_unmarried,x2_300_unmarried) )\n",
        "print(\"CI for 300 married sample\",(y1_300_married,y2_300_married))\n",
        "print()\n",
        "print(\"CI for 3000 unmarried sample\",(x1_3000_unmarried,x2_3000_unmarried) )\n",
        "print(\"CI for 3000 married sample\",(y1_3000_married,y2_3000_married) )\n",
        "print()\n",
        "print(\"CI for 30000 unmarried sample\",(x1_30000_unmarried,x2_30000_unmarried) )\n",
        "print(\"CI for 30000 married sample\",(y1_30000_married,y2_30000_married) )"
      ],
      "metadata": {
        "colab": {
          "base_uri": "https://localhost:8080/",
          "height": 0
        },
        "id": "FwZNlbgl0vsl",
        "outputId": "d6f48e5e-c918-4065-9849-4b7fda9a636a"
      },
      "execution_count": 64,
      "outputs": [
        {
          "output_type": "stream",
          "name": "stdout",
          "text": [
            "CI for 300 unmarried sample (8681.09375, 9805.538833333334)\n",
            "CI for 300 married sample (8720.464916666666, 9800.010166666665)\n",
            "\n",
            "CI for 3000 unmarried sample (9082.439125, 9428.6171)\n",
            "CI for 3000 married sample (9088.406166666666, 9433.003416666666)\n",
            "\n",
            "CI for 30000 unmarried sample (9206.097405833332, 9314.165920833333)\n",
            "CI for 30000 married sample (9196.526055, 9307.507921666667)\n"
          ]
        }
      ]
    },
    {
      "cell_type": "markdown",
      "source": [
        "**Analysis**\n",
        "\n",
        "\n",
        "Comparison between Unmarried and Married Individuals:\n",
        "For all sample sizes (300, 3000, and 30000), the confidence intervals for both unmarried and married individuals do not overlap.\n",
        "\n",
        "\n",
        "This suggests that there may be a significant difference in the average amount spent between unmarried and married individuals.\n",
        "\n",
        "\n",
        "Effect of Sample Size:\n",
        "As the sample size increases from 300 to 30000:\n",
        "The width of the confidence intervals decreases.\n",
        "The precision of the estimates improves, resulting in narrower confidence intervals.\n",
        "\n",
        "\n",
        "This indicates that larger sample sizes provide more reliable estimates of the population mean.\n",
        "\n",
        "\n",
        "Consistency in Mean Spending:\n",
        "The point estimates (mean spending) for both unmarried and married individuals are consistent across different sample sizes.\n",
        "\n",
        "\n",
        "This consistency suggests that the mean spending behavior of unmarried and married individuals remains relatively stable regardless of the sample size.\n",
        "Interpretation:\n",
        "Based on these confidence intervals, we can conclude that there is a difference in average amount spent between unmarried and married individuals.\n",
        "\n",
        "\n",
        "In summary, the provided confidence intervals suggest that there is a consistent difference in average spending between unmarried and married individuals across different sample sizes, with married individuals generally spending more than unmarried individuals.\n"
      ],
      "metadata": {
        "id": "ET-fDbfl4Z2T"
      }
    },
    {
      "cell_type": "code",
      "source": [
        "plt.figure(figsize=(15,10))\n",
        "plt.subplot(2,3,1)\n",
        "plt.title(\"Unmarried 300\")\n",
        "plt.suptitle(\"Married Vs Unmarried Confidence Interval\")\n",
        "sns.histplot(sample_300_unmarried,kde=True,bins=20)\n",
        "plt.xlabel(\"Amount spent\")\n",
        "plt.ylabel(\"Count\")\n",
        "\n",
        "plt.subplot(2,3,4)\n",
        "plt.title(\"Married 300\")\n",
        "sns.histplot(sample_300_married,kde=True,bins=20)\n",
        "plt.xlabel(\"Amount spent\")\n",
        "plt.ylabel(\"Count\")\n",
        "\n",
        "plt.subplot(2,3,2)\n",
        "plt.title(\"Unmarried 3000\")\n",
        "sns.histplot(sample_3000_unmarried,kde=True,bins=20)\n",
        "plt.xlabel(\"Amount spent\")\n",
        "plt.ylabel(\"Count\")\n",
        "\n",
        "plt.subplot(2,3,5)\n",
        "plt.title(\"Married 3000\")\n",
        "sns.histplot(sample_3000_married,kde=True,bins=20)\n",
        "plt.xlabel(\"Amount spent\")\n",
        "plt.ylabel(\"Count\")\n",
        "\n",
        "plt.subplot(2,3,3)\n",
        "plt.title(\"Unmarried 30000\")\n",
        "sns.histplot(sample_30000_unmarried,kde=True,bins=20)\n",
        "plt.xlabel(\"Amount spent\")\n",
        "plt.ylabel(\"Count\")\n",
        "\n",
        "plt.subplot(2,3,6)\n",
        "plt.title(\"Married 30000\")\n",
        "sns.histplot(sample_30000_married,kde=True,bins=20)\n",
        "plt.xlabel(\"Amount spent\")\n",
        "plt.ylabel(\"Count\")\n",
        "plt.show()"
      ],
      "metadata": {
        "colab": {
          "base_uri": "https://localhost:8080/",
          "height": 950
        },
        "id": "CL7_QejA1BC0",
        "outputId": "3b66dc61-f99b-4114-9eab-91d60710ac65"
      },
      "execution_count": 65,
      "outputs": [
        {
          "output_type": "display_data",
          "data": {
            "text/plain": [
              "<Figure size 1500x1000 with 6 Axes>"
            ],
            "image/png": "[encoded data removed]"
          },
          "metadata": {}
        }
      ]
    },
    {
      "cell_type": "markdown",
      "source": [
        "\n",
        "\n",
        "---\n",
        "\n",
        "\n",
        "\n",
        "---\n",
        "\n"
      ],
      "metadata": {
        "id": "8eU2i40E8hDw"
      }
    },
    {
      "cell_type": "code",
      "source": [
        "#Affect of Age on Purchase\n",
        "df1['Age'].unique()"
      ],
      "metadata": {
        "colab": {
          "base_uri": "https://localhost:8080/",
          "height": 0
        },
        "id": "t9a5ncve8gm0",
        "outputId": "2f7f0961-8236-4b4f-a89f-7b5d0716a142"
      },
      "execution_count": 66,
      "outputs": [
        {
          "output_type": "execute_result",
          "data": {
            "text/plain": [
              "array(['0-17', '55+', '26-35', '46-50', '51-55', '36-45', '18-25'],\n",
              "      dtype=object)"
            ]
          },
          "metadata": {},
          "execution_count": 66
        }
      ]
    },
    {
      "cell_type": "code",
      "source": [
        "#Effect of marital status on purchase\n",
        "df_0_17 = df1[df1[\"Age\"]==\"0-17\"]\n",
        "df_55_plus = df1[df1[\"Age\"]==\"55+\"]\n",
        "df_26_35 = df1[df1[\"Age\"]==\"26-35\"]\n",
        "df_46_50 = df1[df1[\"Age\"]==\"46-50\"]\n",
        "df_51_55 = df1[df1[\"Age\"]==\"51-55\"]\n",
        "df_36_45 = df1[df1[\"Age\"]==\"36-45\"]\n",
        "df_18_25 = df1[df1[\"Age\"]==\"18-25\"]"
      ],
      "metadata": {
        "id": "dKaVR64C819d"
      },
      "execution_count": 67,
      "outputs": []
    },
    {
      "cell_type": "code",
      "source": [
        "pivot_df = df1[['Age','Purchase']]\n",
        "pivot_df = pivot_df.pivot(columns=\"Age\", values = 'Purchase')\n",
        "pivot_df= pivot_df.T\n",
        "grpd_sum = pivot_df.sum(axis=1)\n",
        "grpd_mean = pivot_df.mean(axis=1)\n",
        "grpd_mean = grpd_mean.reset_index(name=\"mean\")\n",
        "grpd_sum = grpd_sum.reset_index(name=\"sum\")\n",
        "\n",
        "plt.subplot(1,2,1)\n",
        "\n",
        "plt.bar(x = grpd_sum[\"Age\"].index, height = grpd_sum['sum'])\n",
        "plt.title(\"Age vs Total Purchase\")\n",
        "plt.xlabel(\"Age\")\n",
        "plt.xticks(rotation = 75)\n",
        "plt.ylabel(\"Total Purchase x 10**9\")\n",
        "plt.subplot(1,2,2)\n",
        "\n",
        "plt.bar(x = grpd_mean[\"Age\"].index, height = grpd_mean['mean'])\n",
        "plt.title(\"Age vs Mean Purchase\")\n",
        "plt.xlabel(\"Age\")\n",
        "plt.xticks(rotation = 75)\n",
        "plt.ylabel(\"Mean Purchase\")\n",
        "plt.show()\n"
      ],
      "metadata": {
        "colab": {
          "base_uri": "https://localhost:8080/",
          "height": 485
        },
        "id": "lxSIcGm89kJo",
        "outputId": "6afee774-f860-41ca-e8d1-8942ae84de32"
      },
      "execution_count": 68,
      "outputs": [
        {
          "output_type": "display_data",
          "data": {
            "text/plain": [
              "<Figure size 640x480 with 2 Axes>"
            ],
            "image/png": "[encoded data removed]"
          },
          "metadata": {}
        }
      ]
    },
    {
      "cell_type": "markdown",
      "source": [
        "**Analysis**\n",
        "\n",
        "As we can observe from grpah age between 26-35  spent amount is higher\n",
        "\n",
        "Age group 18-25, 36-45, 26-35 have contibuted 78% of total purchase\n",
        "\n",
        "Age group 0-17 spent amount is less among all\n",
        "\n",
        "while looking over mean avg spent amount is amost same for each group with slight difference, this means we have large population from age group 0-17 , 55+,51-55,and 46-50"
      ],
      "metadata": {
        "id": "DY1olBrKlGCY"
      }
    },
    {
      "cell_type": "code",
      "source": [
        "desc_df = df1.groupby(by=['Age'])[\"Purchase\"].aggregate([np.mean, np.median,np.sum,np.std])\n",
        "desc_df"
      ],
      "metadata": {
        "colab": {
          "base_uri": "https://localhost:8080/",
          "height": 300
        },
        "id": "xmgoO606q-Uv",
        "outputId": "63b880fa-88dc-47db-f9bc-74c46ea22dff"
      },
      "execution_count": 69,
      "outputs": [
        {
          "output_type": "execute_result",
          "data": {
            "text/plain": [
              "              mean  median         sum          std\n",
              "Age                                                \n",
              "0-17   8940.649053  7986.0   135021682  4940.597254\n",
              "18-25  9169.010977  8027.0   913783634  4889.430684\n",
              "26-35  9243.780119  8030.0  2029813945  4855.192053\n",
              "36-45  9322.921909  8061.0  1025642608  4847.597842\n",
              "46-50  9204.211483  8036.0   420641669  4785.942157\n",
              "51-55  9514.863250  8130.0   366331750  4873.629668\n",
              "55+    9327.796549  8105.5   200584937  4779.935889"
            ],
            "text/html": [
              "\n",
              "  <div id=\"df-61b0e096-de9a-47f8-a874-750e2012bfc5\" class=\"colab-df-container\">\n",
              "    <div>\n",
              "<style scoped>\n",
              "    .dataframe tbody tr th:only-of-type {\n",
              "        vertical-align: middle;\n",
              "    }\n",
              "\n",
              "    .dataframe tbody tr th {\n",
              "        vertical-align: top;\n",
              "    }\n",
              "\n",
              "    .dataframe thead th {\n",
              "        text-align: right;\n",
              "    }\n",
              "</style>\n",
              "<table border=\"1\" class=\"dataframe\">\n",
              "  <thead>\n",
              "    <tr style=\"text-align: right;\">\n",
              "      <th></th>\n",
              "      <th>mean</th>\n",
              "      <th>median</th>\n",
              "      <th>sum</th>\n",
              "      <th>std</th>\n",
              "    </tr>\n",
              "    <tr>\n",
              "      <th>Age</th>\n",
              "      <th></th>\n",
              "      <th></th>\n",
              "      <th></th>\n",
              "      <th></th>\n",
              "    </tr>\n",
              "  </thead>\n",
              "  <tbody>\n",
              "    <tr>\n",
              "      <th>0-17</th>\n",
              "      <td>8940.649053</td>\n",
              "      <td>7986.0</td>\n",
              "      <td>135021682</td>\n",
              "      <td>4940.597254</td>\n",
              "    </tr>\n",
              "    <tr>\n",
              "      <th>18-25</th>\n",
              "      <td>9169.010977</td>\n",
              "      <td>8027.0</td>\n",
              "      <td>913783634</td>\n",
              "      <td>4889.430684</td>\n",
              "    </tr>\n",
              "    <tr>\n",
              "      <th>26-35</th>\n",
              "      <td>9243.780119</td>\n",
              "      <td>8030.0</td>\n",
              "      <td>2029813945</td>\n",
              "      <td>4855.192053</td>\n",
              "    </tr>\n",
              "    <tr>\n",
              "      <th>36-45</th>\n",
              "      <td>9322.921909</td>\n",
              "      <td>8061.0</td>\n",
              "      <td>1025642608</td>\n",
              "      <td>4847.597842</td>\n",
              "    </tr>\n",
              "    <tr>\n",
              "      <th>46-50</th>\n",
              "      <td>9204.211483</td>\n",
              "      <td>8036.0</td>\n",
              "      <td>420641669</td>\n",
              "      <td>4785.942157</td>\n",
              "    </tr>\n",
              "    <tr>\n",
              "      <th>51-55</th>\n",
              "      <td>9514.863250</td>\n",
              "      <td>8130.0</td>\n",
              "      <td>366331750</td>\n",
              "      <td>4873.629668</td>\n",
              "    </tr>\n",
              "    <tr>\n",
              "      <th>55+</th>\n",
              "      <td>9327.796549</td>\n",
              "      <td>8105.5</td>\n",
              "      <td>200584937</td>\n",
              "      <td>4779.935889</td>\n",
              "    </tr>\n",
              "  </tbody>\n",
              "</table>\n",
              "</div>\n",
              "    <div class=\"colab-df-buttons\">\n",
              "\n",
              "  <div class=\"colab-df-container\">\n",
              "    <button class=\"colab-df-convert\" onclick=\"convertToInteractive('df-61b0e096-de9a-47f8-a874-750e2012bfc5')\"\n",
              "            title=\"Convert this dataframe to an interactive table.\"\n",
              "            style=\"display:none;\">\n",
              "\n",
              "  <svg xmlns=\"http://www.w3.org/2000/svg\" height=\"24px\" viewBox=\"0 -960 960 960\">\n",
              "    <path d=\"M120-120v-720h720v720H120Zm60-500h600v-160H180v160Zm220 220h160v-160H400v160Zm0 220h160v-160H400v160ZM180-400h160v-160H180v160Zm440 0h160v-160H620v160ZM180-180h160v-160H180v160Zm440 0h160v-160H620v160Z\"/>\n",
              "  </svg>\n",
              "    </button>\n",
              "\n",
              "  <style>\n",
              "    .colab-df-container {\n",
              "      display:flex;\n",
              "      gap: 12px;\n",
              "    }\n",
              "\n",
              "    .colab-df-convert {\n",
              "      background-color: #E8F0FE;\n",
              "      border: none;\n",
              "      border-radius: 50%;\n",
              "      cursor: pointer;\n",
              "      display: none;\n",
              "      fill: #1967D2;\n",
              "      height: 32px;\n",
              "      padding: 0 0 0 0;\n",
              "      width: 32px;\n",
              "    }\n",
              "\n",
              "    .colab-df-convert:hover {\n",
              "      background-color: #E2EBFA;\n",
              "      box-shadow: 0px 1px 2px rgba(60, 64, 67, 0.3), 0px 1px 3px 1px rgba(60, 64, 67, 0.15);\n",
              "      fill: #174EA6;\n",
              "    }\n",
              "\n",
              "    .colab-df-buttons div {\n",
              "      margin-bottom: 4px;\n",
              "    }\n",
              "\n",
              "    [theme=dark] .colab-df-convert {\n",
              "      background-color: #3B4455;\n",
              "      fill: #D2E3FC;\n",
              "    }\n",
              "\n",
              "    [theme=dark] .colab-df-convert:hover {\n",
              "      background-color: #434B5C;\n",
              "      box-shadow: 0px 1px 3px 1px rgba(0, 0, 0, 0.15);\n",
              "      filter: drop-shadow(0px 1px 2px rgba(0, 0, 0, 0.3));\n",
              "      fill: #FFFFFF;\n",
              "    }\n",
              "  </style>\n",
              "\n",
              "    <script>\n",
              "      const buttonEl =\n",
              "        document.querySelector('#df-61b0e096-de9a-47f8-a874-750e2012bfc5 button.colab-df-convert');\n",
              "      buttonEl.style.display =\n",
              "        google.colab.kernel.accessAllowed ? 'block' : 'none';\n",
              "\n",
              "      async function convertToInteractive(key) {\n",
              "        const element = document.querySelector('#df-61b0e096-de9a-47f8-a874-750e2012bfc5');\n",
              "        const dataTable =\n",
              "          await google.colab.kernel.invokeFunction('convertToInteractive',\n",
              "                                                    [key], {});\n",
              "        if (!dataTable) return;\n",
              "\n",
              "        const docLinkHtml = 'Like what you see? Visit the ' +\n",
              "          '<a target=\"_blank\" href=https://colab.research.google.com/notebooks/data_table.ipynb>data table notebook</a>'\n",
              "          + ' to learn more about interactive tables.';\n",
              "        element.innerHTML = '';\n",
              "        dataTable['output_type'] = 'display_data';\n",
              "        await google.colab.output.renderOutput(dataTable, element);\n",
              "        const docLink = document.createElement('div');\n",
              "        docLink.innerHTML = docLinkHtml;\n",
              "        element.appendChild(docLink);\n",
              "      }\n",
              "    </script>\n",
              "  </div>\n",
              "\n",
              "\n",
              "<div id=\"df-d86ad3b4-181e-4360-a51a-ccd4215d71a4\">\n",
              "  <button class=\"colab-df-quickchart\" onclick=\"quickchart('df-d86ad3b4-181e-4360-a51a-ccd4215d71a4')\"\n",
              "            title=\"Suggest charts\"\n",
              "            style=\"display:none;\">\n",
              "\n",
              "<svg xmlns=\"http://www.w3.org/2000/svg\" height=\"24px\"viewBox=\"0 0 24 24\"\n",
              "     width=\"24px\">\n",
              "    <g>\n",
              "        <path d=\"M19 3H5c-1.1 0-2 .9-2 2v14c0 1.1.9 2 2 2h14c1.1 0 2-.9 2-2V5c0-1.1-.9-2-2-2zM9 17H7v-7h2v7zm4 0h-2V7h2v10zm4 0h-2v-4h2v4z\"/>\n",
              "    </g>\n",
              "</svg>\n",
              "  </button>\n",
              "\n",
              "<style>\n",
              "  .colab-df-quickchart {\n",
              "      --bg-color: #E8F0FE;\n",
              "      --fill-color: #1967D2;\n",
              "      --hover-bg-color: #E2EBFA;\n",
              "      --hover-fill-color: #174EA6;\n",
              "      --disabled-fill-color: #AAA;\n",
              "      --disabled-bg-color: #DDD;\n",
              "  }\n",
              "\n",
              "  [theme=dark] .colab-df-quickchart {\n",
              "      --bg-color: #3B4455;\n",
              "      --fill-color: #D2E3FC;\n",
              "      --hover-bg-color: #434B5C;\n",
              "      --hover-fill-color: #FFFFFF;\n",
              "      --disabled-bg-color: #3B4455;\n",
              "      --disabled-fill-color: #666;\n",
              "  }\n",
              "\n",
              "  .colab-df-quickchart {\n",
              "    background-color: var(--bg-color);\n",
              "    border: none;\n",
              "    border-radius: 50%;\n",
              "    cursor: pointer;\n",
              "    display: none;\n",
              "    fill: var(--fill-color);\n",
              "    height: 32px;\n",
              "    padding: 0;\n",
              "    width: 32px;\n",
              "  }\n",
              "\n",
              "  .colab-df-quickchart:hover {\n",
              "    background-color: var(--hover-bg-color);\n",
              "    box-shadow: 0 1px 2px rgba(60, 64, 67, 0.3), 0 1px 3px 1px rgba(60, 64, 67, 0.15);\n",
              "    fill: var(--button-hover-fill-color);\n",
              "  }\n",
              "\n",
              "  .colab-df-quickchart-complete:disabled,\n",
              "  .colab-df-quickchart-complete:disabled:hover {\n",
              "    background-color: var(--disabled-bg-color);\n",
              "    fill: var(--disabled-fill-color);\n",
              "    box-shadow: none;\n",
              "  }\n",
              "\n",
              "  .colab-df-spinner {\n",
              "    border: 2px solid var(--fill-color);\n",
              "    border-color: transparent;\n",
              "    border-bottom-color: var(--fill-color);\n",
              "    animation:\n",
              "      spin 1s steps(1) infinite;\n",
              "  }\n",
              "\n",
              "  @keyframes spin {\n",
              "    0% {\n",
              "      border-color: transparent;\n",
              "      border-bottom-color: var(--fill-color);\n",
              "      border-left-color: var(--fill-color);\n",
              "    }\n",
              "    20% {\n",
              "      border-color: transparent;\n",
              "      border-left-color: var(--fill-color);\n",
              "      border-top-color: var(--fill-color);\n",
              "    }\n",
              "    30% {\n",
              "      border-color: transparent;\n",
              "      border-left-color: var(--fill-color);\n",
              "      border-top-color: var(--fill-color);\n",
              "      border-right-color: var(--fill-color);\n",
              "    }\n",
              "    40% {\n",
              "      border-color: transparent;\n",
              "      border-right-color: var(--fill-color);\n",
              "      border-top-color: var(--fill-color);\n",
              "    }\n",
              "    60% {\n",
              "      border-color: transparent;\n",
              "      border-right-color: var(--fill-color);\n",
              "    }\n",
              "    80% {\n",
              "      border-color: transparent;\n",
              "      border-right-color: var(--fill-color);\n",
              "      border-bottom-color: var(--fill-color);\n",
              "    }\n",
              "    90% {\n",
              "      border-color: transparent;\n",
              "      border-bottom-color: var(--fill-color);\n",
              "    }\n",
              "  }\n",
              "</style>\n",
              "\n",
              "  <script>\n",
              "    async function quickchart(key) {\n",
              "      const quickchartButtonEl =\n",
              "        document.querySelector('#' + key + ' button');\n",
              "      quickchartButtonEl.disabled = true;  // To prevent multiple clicks.\n",
              "      quickchartButtonEl.classList.add('colab-df-spinner');\n",
              "      try {\n",
              "        const charts = await google.colab.kernel.invokeFunction(\n",
              "            'suggestCharts', [key], {});\n",
              "      } catch (error) {\n",
              "        console.error('Error during call to suggestCharts:', error);\n",
              "      }\n",
              "      quickchartButtonEl.classList.remove('colab-df-spinner');\n",
              "      quickchartButtonEl.classList.add('colab-df-quickchart-complete');\n",
              "    }\n",
              "    (() => {\n",
              "      let quickchartButtonEl =\n",
              "        document.querySelector('#df-d86ad3b4-181e-4360-a51a-ccd4215d71a4 button');\n",
              "      quickchartButtonEl.style.display =\n",
              "        google.colab.kernel.accessAllowed ? 'block' : 'none';\n",
              "    })();\n",
              "  </script>\n",
              "</div>\n",
              "\n",
              "  <div id=\"id_eb00ebaa-395d-4e92-bb33-6035f819a2f8\">\n",
              "    <style>\n",
              "      .colab-df-generate {\n",
              "        background-color: #E8F0FE;\n",
              "        border: none;\n",
              "        border-radius: 50%;\n",
              "        cursor: pointer;\n",
              "        display: none;\n",
              "        fill: #1967D2;\n",
              "        height: 32px;\n",
              "        padding: 0 0 0 0;\n",
              "        width: 32px;\n",
              "      }\n",
              "\n",
              "      .colab-df-generate:hover {\n",
              "        background-color: #E2EBFA;\n",
              "        box-shadow: 0px 1px 2px rgba(60, 64, 67, 0.3), 0px 1px 3px 1px rgba(60, 64, 67, 0.15);\n",
              "        fill: #174EA6;\n",
              "      }\n",
              "\n",
              "      [theme=dark] .colab-df-generate {\n",
              "        background-color: #3B4455;\n",
              "        fill: #D2E3FC;\n",
              "      }\n",
              "\n",
              "      [theme=dark] .colab-df-generate:hover {\n",
              "        background-color: #434B5C;\n",
              "        box-shadow: 0px 1px 3px 1px rgba(0, 0, 0, 0.15);\n",
              "        filter: drop-shadow(0px 1px 2px rgba(0, 0, 0, 0.3));\n",
              "        fill: #FFFFFF;\n",
              "      }\n",
              "    </style>\n",
              "    <button class=\"colab-df-generate\" onclick=\"generateWithVariable('desc_df')\"\n",
              "            title=\"Generate code using this dataframe.\"\n",
              "            style=\"display:none;\">\n",
              "\n",
              "  <svg xmlns=\"http://www.w3.org/2000/svg\" height=\"24px\"viewBox=\"0 0 24 24\"\n",
              "       width=\"24px\">\n",
              "    <path d=\"M7,19H8.4L18.45,9,17,7.55,7,17.6ZM5,21V16.75L18.45,3.32a2,2,0,0,1,2.83,0l1.4,1.43a1.91,1.91,0,0,1,.58,1.4,1.91,1.91,0,0,1-.58,1.4L9.25,21ZM18.45,9,17,7.55Zm-12,3A5.31,5.31,0,0,0,4.9,8.1,5.31,5.31,0,0,0,1,6.5,5.31,5.31,0,0,0,4.9,4.9,5.31,5.31,0,0,0,6.5,1,5.31,5.31,0,0,0,8.1,4.9,5.31,5.31,0,0,0,12,6.5,5.46,5.46,0,0,0,6.5,12Z\"/>\n",
              "  </svg>\n",
              "    </button>\n",
              "    <script>\n",
              "      (() => {\n",
              "      const buttonEl =\n",
              "        document.querySelector('#id_eb00ebaa-395d-4e92-bb33-6035f819a2f8 button.colab-df-generate');\n",
              "      buttonEl.style.display =\n",
              "        google.colab.kernel.accessAllowed ? 'block' : 'none';\n",
              "\n",
              "      buttonEl.onclick = () => {\n",
              "        google.colab.notebook.generateWithVariable('desc_df');\n",
              "      }\n",
              "      })();\n",
              "    </script>\n",
              "  </div>\n",
              "\n",
              "    </div>\n",
              "  </div>\n"
            ],
            "application/vnd.google.colaboratory.intrinsic+json": {
              "type": "dataframe",
              "variable_name": "desc_df",
              "summary": "{\n  \"name\": \"desc_df\",\n  \"rows\": 7,\n  \"fields\": [\n    {\n      \"column\": \"Age\",\n      \"properties\": {\n        \"dtype\": \"string\",\n        \"num_unique_values\": 7,\n        \"samples\": [\n          \"0-17\",\n          \"18-25\",\n          \"51-55\"\n        ],\n        \"semantic_type\": \"\",\n        \"description\": \"\"\n      }\n    },\n    {\n      \"column\": \"mean\",\n      \"properties\": {\n        \"dtype\": \"number\",\n        \"std\": 175.97945148257918,\n        \"min\": 8940.64905310555,\n        \"max\": 9514.863250305187,\n        \"num_unique_values\": 7,\n        \"samples\": [\n          8940.64905310555,\n          9169.010977322898,\n          9514.863250305187\n        ],\n        \"semantic_type\": \"\",\n        \"description\": \"\"\n      }\n    },\n    {\n      \"column\": \"median\",\n      \"properties\": {\n        \"dtype\": \"number\",\n        \"std\": 49.54687535196198,\n        \"min\": 7986.0,\n        \"max\": 8130.0,\n        \"num_unique_values\": 7,\n        \"samples\": [\n          7986.0,\n          8027.0,\n          8130.0\n        ],\n        \"semantic_type\": \"\",\n        \"description\": \"\"\n      }\n    },\n    {\n      \"column\": \"sum\",\n      \"properties\": {\n        \"dtype\": \"number\",\n        \"std\": 667443722,\n        \"min\": 135021682,\n        \"max\": 2029813945,\n        \"num_unique_values\": 7,\n        \"samples\": [\n          135021682,\n          913783634,\n          366331750\n        ],\n        \"semantic_type\": \"\",\n        \"description\": \"\"\n      }\n    },\n    {\n      \"column\": \"std\",\n      \"properties\": {\n        \"dtype\": \"number\",\n        \"std\": 56.70819007056953,\n        \"min\": 4779.935888621382,\n        \"max\": 4940.597254004339,\n        \"num_unique_values\": 7,\n        \"samples\": [\n          4940.597254004339,\n          4889.430684308803,\n          4873.629668170104\n        ],\n        \"semantic_type\": \"\",\n        \"description\": \"\"\n      }\n    }\n  ]\n}"
            }
          },
          "metadata": {},
          "execution_count": 69
        }
      ]
    },
    {
      "cell_type": "code",
      "source": [
        "#Bootstrapping on given data\n",
        "sample_0_17=[]\n",
        "for i in range (1000):\n",
        "  bootstrapped_sample1 = np.mean(np.random.choice(df_0_17[\"Purchase\"],size=len(df_0_17)))\n",
        "  sample_0_17.append(bootstrapped_sample1)\n",
        "\n",
        "sample_18_25=[]\n",
        "for i in range (1000):\n",
        "  bootstrapped_sample1 = np.mean(np.random.choice(df_18_25[\"Purchase\"],size=len(df_18_25)))\n",
        "  sample_18_25.append(bootstrapped_sample1)\n",
        "\n",
        "sample_26_35=[]\n",
        "for i in range (1000):\n",
        "  bootstrapped_sample1 = np.mean(np.random.choice(df_26_35[\"Purchase\"],size=len(df_26_35)))\n",
        "  sample_26_35.append(bootstrapped_sample1)\n",
        "\n",
        "sample_36_45=[]\n",
        "for i in range (1000):\n",
        "  bootstrapped_sample1 = np.mean(np.random.choice(df_36_45[\"Purchase\"],size=len(df_36_45)))\n",
        "  sample_36_45.append(bootstrapped_sample1)\n",
        "\n",
        "sample_46_50=[]\n",
        "for i in range (1000):\n",
        "  bootstrapped_sample1 = np.mean(np.random.choice(df_46_50[\"Purchase\"],size=len(df_46_50)))\n",
        "  sample_46_50.append(bootstrapped_sample1)\n",
        "\n",
        "sample_51_55=[]\n",
        "for i in range (1000):\n",
        "  bootstrapped_sample1 = np.mean(np.random.choice(df_51_55[\"Purchase\"],size=len(df_51_55)))\n",
        "  sample_51_55.append(bootstrapped_sample1)\n",
        "\n",
        "sample_55_plus=[]\n",
        "for i in range (1000):\n",
        "  bootstrapped_sample1 = np.mean(np.random.choice(df_55_plus[\"Purchase\"],size=len(df_55_plus)))\n",
        "  sample_55_plus.append(bootstrapped_sample1)\n"
      ],
      "metadata": {
        "id": "qall01E4rsiC"
      },
      "execution_count": 70,
      "outputs": []
    },
    {
      "cell_type": "code",
      "source": [
        "samp = np.array([sample_0_17,sample_18_25,sample_26_35,sample_36_45,sample_46_50,sample_51_55,sample_55_plus])\n",
        "std_array = np.zeros(len(samp))\n",
        "for i in range (len(samp)):\n",
        "  std_array[i] = np.std(samp[i])\n",
        "print(std_array)"
      ],
      "metadata": {
        "id": "keJlbr-32M6h",
        "colab": {
          "base_uri": "https://localhost:8080/",
          "height": 0
        },
        "outputId": "03537f8a-4bea-4500-e022-ac7bf6f9a995"
      },
      "execution_count": 71,
      "outputs": [
        {
          "output_type": "stream",
          "name": "stdout",
          "text": [
            "[38.3780545  15.87405575  9.88182065 14.80181126 21.43006555 24.86585832\n",
            " 32.00603446]\n"
          ]
        }
      ]
    },
    {
      "cell_type": "code",
      "source": [
        "z_score = norm.ppf(0.025)\n",
        "z_score"
      ],
      "metadata": {
        "id": "UCxiSsTa3L-D",
        "colab": {
          "base_uri": "https://localhost:8080/",
          "height": 0
        },
        "outputId": "3dc25f30-7ca0-416e-d943-ca8d9a5e2777"
      },
      "execution_count": 72,
      "outputs": [
        {
          "output_type": "execute_result",
          "data": {
            "text/plain": [
              "-1.9599639845400545"
            ]
          },
          "metadata": {},
          "execution_count": 72
        }
      ]
    },
    {
      "cell_type": "code",
      "source": [
        "mean_list = desc_df[\"mean\"].tolist()\n",
        "mean_list"
      ],
      "metadata": {
        "colab": {
          "base_uri": "https://localhost:8080/",
          "height": 0
        },
        "id": "lAWh5x-Z5OcH",
        "outputId": "18544bc6-1938-470c-8f29-a00626338038"
      },
      "execution_count": 73,
      "outputs": [
        {
          "output_type": "execute_result",
          "data": {
            "text/plain": [
              "[8940.64905310555,\n",
              " 9169.010977322898,\n",
              " 9243.780119041656,\n",
              " 9322.92190922891,\n",
              " 9204.211483337345,\n",
              " 9514.863250305187,\n",
              " 9327.796549479166]"
            ]
          },
          "metadata": {},
          "execution_count": 73
        }
      ]
    },
    {
      "cell_type": "code",
      "source": [
        "# CI\n",
        "CI1 = (8940.64905310555+(z_score*39.94658479 ), 8940.64905310555-(z_score*39.94658479))\n",
        "CI2 = (9169.010977322898+(z_score*14.72255254 ), 9169.010977322898-(z_score*14.72255254))\n",
        "CI3 = (9243.780119041656+(z_score*10.07444704 ), 9243.780119041656-(z_score*10.07444704 ))\n",
        "CI4  = (9322.92190922891+(z_score*14.20896594  ), 9322.92190922891-(z_score*14.20896594  ))\n",
        "CI5 = (9204.211483337345+(z_score*22.00080654 ), 9204.211483337345-(z_score*22.00080654))\n",
        "CI6= (9514.863250305187+(z_score*24.58141458 ), 9514.863250305187-(z_score*24.58141458))\n",
        "CI7 = (9327.796549479166+(z_score*30.30471127 ), 9327.796549479166-(z_score*30.30471127))\n",
        "CI1,CI2,CI3,CI4,CI5,CI6,CI7"
      ],
      "metadata": {
        "colab": {
          "base_uri": "https://localhost:8080/",
          "height": 0
        },
        "id": "vcNgAq837RWV",
        "outputId": "b6f18da0-adb8-4a6e-ca43-a4f815f61500"
      },
      "execution_count": 74,
      "outputs": [
        {
          "output_type": "execute_result",
          "data": {
            "text/plain": [
              "((8862.355185611774, 9018.942920599326),\n",
              " (9140.155304584, 9197.866650061796),\n",
              " (9224.0345656791, 9263.525672404212),\n",
              " (9295.072847728954, 9350.770970728865),\n",
              " (9161.090694888111, 9247.33227178658),\n",
              " (9466.684563039338, 9563.041937571035),\n",
              " (9268.400406828081, 9387.192692130251))"
            ]
          },
          "metadata": {},
          "execution_count": 74
        }
      ]
    },
    {
      "cell_type": "markdown",
      "source": [
        "**Analysis**\n",
        "\n",
        "There is a potential difference in mean purchase amounts among the age groups 0-17, 18-25, 26-35, 35-45 as their confidence intervals do not overlap."
      ],
      "metadata": {
        "id": "961c9zfePvPY"
      }
    },
    {
      "cell_type": "code",
      "source": [
        "#now bootstarpping with sample size 300, 3000, 30000\n",
        "\n",
        "#300\n",
        "\n",
        "sample_0_17_300=[]\n",
        "for i in range (1000):\n",
        "  bootstrapped_sample1 = np.mean(np.random.choice(df_0_17[\"Purchase\"],size=300))\n",
        "  sample_0_17_300.append(bootstrapped_sample1)\n",
        "\n",
        "sample_18_25_300=[]\n",
        "for i in range (1000):\n",
        "  bootstrapped_sample1 = np.mean(np.random.choice(df_18_25[\"Purchase\"],size=300))\n",
        "  sample_18_25_300.append(bootstrapped_sample1)\n",
        "\n",
        "sample_26_35_300=[]\n",
        "for i in range (1000):\n",
        "  bootstrapped_sample1 = np.mean(np.random.choice(df_26_35[\"Purchase\"],size=300))\n",
        "  sample_26_35_300.append(bootstrapped_sample1)\n",
        "\n",
        "sample_36_45_300=[]\n",
        "for i in range (1000):\n",
        "  bootstrapped_sample1 = np.mean(np.random.choice(df_36_45[\"Purchase\"],size=300))\n",
        "  sample_36_45_300.append(bootstrapped_sample1)\n",
        "\n",
        "\n",
        "sample_46_50_300=[]\n",
        "for i in range (1000):\n",
        "  bootstrapped_sample1 = np.mean(np.random.choice(df_46_50[\"Purchase\"],size=300))\n",
        "  sample_46_50_300.append(bootstrapped_sample1)\n",
        "\n",
        "\n",
        "sample_51_55_300=[]\n",
        "for i in range (1000):\n",
        "  bootstrapped_sample1 = np.mean(np.random.choice(df_51_55[\"Purchase\"],size=300))\n",
        "  sample_51_55_300.append(bootstrapped_sample1)\n",
        "\n",
        "\n",
        "sample_55_plus_300=[]\n",
        "for i in range (1000):\n",
        "  bootstrapped_sample1 = np.mean(np.random.choice(df_55_plus[\"Purchase\"],size=300))\n",
        "  sample_55_plus_300.append(bootstrapped_sample1)\n",
        "\n",
        "#3000\n",
        "\n",
        "sample_0_17_3000=[]\n",
        "for i in range (1000):\n",
        "  bootstrapped_sample1 = np.mean(np.random.choice(df_0_17['Purchase'],size = 3000))\n",
        "  sample_0_17_3000.append(bootstrapped_sample1)\n",
        "\n",
        "sample_18_25_3000=[]\n",
        "for i in range (1000):\n",
        "  bootstrapped_sample1 = np.mean(np.random.choice(df_18_25['Purchase'],size = 3000))\n",
        "  sample_18_25_3000.append(bootstrapped_sample1)\n",
        "\n",
        "sample_26_35_3000=[]\n",
        "for i in range (1000):\n",
        "  bootstrapped_sample1 = np.mean(np.random.choice(df_26_35['Purchase'],size = 3000))\n",
        "  sample_26_35_3000.append(bootstrapped_sample1)\n",
        "\n",
        "sample_36_45_3000=[]\n",
        "for i in range (1000):\n",
        "  bootstrapped_sample1 = np.mean(np.random.choice(df_36_45['Purchase'],size = 3000))\n",
        "  sample_36_45_3000.append(bootstrapped_sample1)\n",
        "\n",
        "sample_46_50_3000=[]\n",
        "for i in range (1000):\n",
        "  bootstrapped_sample1 = np.mean(np.random.choice(df_46_50['Purchase'],size = 3000))\n",
        "  sample_46_50_3000.append(bootstrapped_sample1)\n",
        "\n",
        "sample_51_55_3000=[]\n",
        "for i in range (1000):\n",
        "  bootstrapped_sample1 = np.mean(np.random.choice(df_51_55['Purchase'],size = 3000))\n",
        "  sample_51_55_3000.append(bootstrapped_sample1)\n",
        "\n",
        "sample_55_plus_3000=[]\n",
        "for i in range (1000):\n",
        "  bootstrapped_sample1 = np.mean(np.random.choice(df_55_plus['Purchase'],size = 3000))\n",
        "  sample_55_plus_3000.append(bootstrapped_sample1)\n",
        "\n",
        "#30000\n",
        "\n",
        "sample_0_17_30000=[]\n",
        "for i in range (1000):\n",
        "  bootstrapped_sample1 = np.mean(np.random.choice(df_0_17['Purchase'],size = 30000))\n",
        "  sample_0_17_30000.append(bootstrapped_sample1)\n",
        "\n",
        "sample_18_25_30000=[]\n",
        "for i in range (1000):\n",
        "  bootstrapped_sample1 = np.mean(np.random.choice(df_18_25['Purchase'],size = 30000))\n",
        "  sample_18_25_30000.append(bootstrapped_sample1)\n",
        "\n",
        "sample_26_35_30000=[]\n",
        "for i in range (1000):\n",
        "  bootstrapped_sample1 = np.mean(np.random.choice(df_26_35['Purchase'],size = 30000))\n",
        "  sample_26_35_30000.append(bootstrapped_sample1)\n",
        "\n",
        "sample_36_45_30000=[]\n",
        "for i in range (1000):\n",
        "  bootstrapped_sample1 = np.mean(np.random.choice(df_36_45['Purchase'],size = 30000))\n",
        "  sample_36_45_30000.append(bootstrapped_sample1)\n",
        "\n",
        "sample_46_50_30000=[]\n",
        "for i in range (1000):\n",
        "  bootstrapped_sample1 = np.mean(np.random.choice(df_46_50['Purchase'],size = 30000))\n",
        "  sample_46_50_30000.append(bootstrapped_sample1)\n",
        "\n",
        "sample_51_55_30000=[]\n",
        "for i in range (1000):\n",
        "  bootstrapped_sample1 = np.mean(np.random.choice(df_51_55['Purchase'],size = 30000))\n",
        "  sample_51_55_30000.append(bootstrapped_sample1)\n",
        "\n",
        "sample_55_plus_30000=[]\n",
        "for i in range (1000):\n",
        "  bootstrapped_sample1 = np.mean(np.random.choice(df_55_plus['Purchase'],size = 30000))\n",
        "  sample_55_plus_30000.append(bootstrapped_sample1)"
      ],
      "metadata": {
        "id": "ZUOueinE_pU-"
      },
      "execution_count": 75,
      "outputs": []
    },
    {
      "cell_type": "code",
      "source": [
        "#confidence interval of all the sample\n",
        "#300\n",
        "x1_300_0_17=np.percentile(sample_0_17_300,2.5)\n",
        "x2_300_0_17=np.percentile(sample_0_17_300,97.5)\n",
        "\n",
        "x3_300_18_25=np.percentile(sample_18_25_300,2.5)\n",
        "x4_300_18_25=np.percentile(sample_18_25_300,97.5)\n",
        "\n",
        "x5_300_26_35=np.percentile(sample_26_35_300,2.5)\n",
        "x6_300_26_35=np.percentile(sample_26_35_300,97.5)\n",
        "\n",
        "x7_300_36_45=np.percentile(sample_36_45_300,2.5)\n",
        "x8_300_36_45=np.percentile(sample_36_45_300,97.5)\n",
        "\n",
        "x9_300_46_50=np.percentile(sample_46_50_300,2.5)\n",
        "x10_300_46_50=np.percentile(sample_46_50_300,97.5)\n",
        "\n",
        "x11_300_51_55=np.percentile(sample_51_55_300,2.5)\n",
        "x12_300_51_55=np.percentile(sample_51_55_300,97.5)\n",
        "\n",
        "x13_300_55_plus=np.percentile(sample_55_plus_300,2.5)\n",
        "x14_300_55_plus=np.percentile(sample_55_plus_300,97.5)\n",
        "\n",
        "#3000\n",
        "\n",
        "x1_3000_0_17=np.percentile(sample_0_17_3000,2.5)\n",
        "x2_3000_0_17=np.percentile(sample_0_17_3000,97.5)\n",
        "\n",
        "x3_3000_18_25=np.percentile(sample_18_25_3000,2.5)\n",
        "x4_3000_18_25=np.percentile(sample_18_25_3000,97.5)\n",
        "\n",
        "x5_3000_26_35=np.percentile(sample_26_35_3000,2.5)\n",
        "x6_3000_26_35=np.percentile(sample_26_35_3000,97.5)\n",
        "\n",
        "x7_3000_36_45=np.percentile(sample_36_45_3000,2.5)\n",
        "x8_3000_36_45=np.percentile(sample_36_45_3000,97.5)\n",
        "\n",
        "x9_3000_46_50=np.percentile(sample_46_50_3000,2.5)\n",
        "x10_3000_46_50=np.percentile(sample_46_50_3000,97.5)\n",
        "\n",
        "x11_3000_51_55=np.percentile(sample_51_55_3000,2.5)\n",
        "x12_3000_51_55=np.percentile(sample_51_55_3000,97.5)\n",
        "\n",
        "x13_3000_55_plus=np.percentile(sample_55_plus_3000,2.5)\n",
        "x14_3000_55_plus=np.percentile(sample_55_plus_3000,97.5)\n",
        "\n",
        "#30000\n",
        "\n",
        "x1_30000_0_17=np.percentile(sample_0_17_30000,2.5)\n",
        "x2_30000_0_17=np.percentile(sample_0_17_30000,97.5)\n",
        "\n",
        "x3_30000_18_25=np.percentile(sample_18_25_30000,2.5)\n",
        "x4_30000_18_25=np.percentile(sample_18_25_30000,97.5)\n",
        "\n",
        "x5_30000_26_35=np.percentile(sample_26_35_30000,2.5)\n",
        "x6_30000_26_35=np.percentile(sample_26_35_30000,97.5)\n",
        "\n",
        "x7_30000_36_45=np.percentile(sample_36_45_30000,2.5)\n",
        "x8_30000_36_45=np.percentile(sample_36_45_30000,97.5)\n",
        "\n",
        "x9_30000_46_50=np.percentile(sample_46_50_30000,2.5)\n",
        "x10_30000_46_50=np.percentile(sample_46_50_30000,97.5)\n",
        "\n",
        "x11_30000_51_55=np.percentile(sample_51_55_30000,2.5)\n",
        "x12_30000_51_55=np.percentile(sample_51_55_30000,97.5)\n",
        "\n",
        "x13_30000_55_plus=np.percentile(sample_55_plus_30000,2.5)\n",
        "x14_30000_55_plus=np.percentile(sample_55_plus_30000,97.5)"
      ],
      "metadata": {
        "id": "YHnAwCwAzS6R"
      },
      "execution_count": 76,
      "outputs": []
    },
    {
      "cell_type": "code",
      "source": [
        "#0-17\n",
        "print(\"CI for 300 sample age group 0-17 \",(x1_300_0_17, x2_300_0_17) )\n",
        "print(\"CI for 3000 sample age group 0-17 \",(x1_3000_0_17, x2_3000_0_17))\n",
        "print(\"CI for 30000 sample age group 0-17 \",(x1_30000_0_17, x2_30000_0_17))\n",
        "print()\n",
        "\n",
        "#18-25\n",
        "print(\"CI for 300 sample age group 18-25 \",(x3_300_18_25, x4_300_18_25) )\n",
        "print(\"CI for 3000 sample age group 18-25 \",(x3_3000_18_25, x4_3000_18_25) )\n",
        "print(\"CI for 30000 sample age group 18-25 \",(x3_30000_18_25, x4_30000_18_25) )\n",
        "print()\n",
        "\n",
        "#26-35\n",
        "print(\"CI for 300 sample age group 26-35 \",(x5_300_26_35, x6_300_26_35))\n",
        "print(\"CI for 3000 sample age group 26-35 \",(x5_3000_26_35, x6_3000_26_35))\n",
        "print(\"CI for 30000 sample age group 26-35 \",(x5_30000_26_35, x6_30000_26_35))\n",
        "print()\n",
        "\n",
        "#36-45\n",
        "print(\"CI for 300 sample age group 36-45 \",(x7_300_36_45, x8_300_36_45))\n",
        "print(\"CI for 3000 sample age group 36-45 \",(x7_3000_36_45, x8_3000_36_45))\n",
        "print(\"CI for 30000 sample age group 36-45 \",(x7_30000_36_45, x8_30000_36_45))\n",
        "print()\n",
        "\n",
        "#46-50\n",
        "print(\"CI for 300 sample age group 46-50 \",(x9_300_46_50, x10_300_46_50))\n",
        "print(\"CI for 3000 sample age group 46-50 \",(x9_3000_46_50, x10_3000_46_50))\n",
        "print(\"CI for 30000 sample age group 46-50 \",(x9_30000_46_50, x10_30000_46_50))\n",
        "print()\n",
        "\n",
        "#51-55\n",
        "print(\"CI for 300 sample age group 51-55\",(x11_300_51_55, x12_300_51_55))\n",
        "print(\"CI for 3000 sample age group 51-55\",(x11_3000_51_55, x12_3000_51_55))\n",
        "print(\"CI for 30000 sample age group 51-55\",(x11_30000_51_55, x12_30000_51_55))\n",
        "print()\n",
        "\n",
        "#55+\n",
        "print(\"CI for 300 sample age group 55+\",(x13_300_55_plus, x14_300_55_plus))\n",
        "print(\"CI for 3000 sample age group 55+\",(x13_3000_55_plus, x14_3000_55_plus))\n",
        "print(\"CI for 30000 sample age group 55+\",(x13_30000_55_plus, x14_30000_55_plus))\n"
      ],
      "metadata": {
        "colab": {
          "base_uri": "https://localhost:8080/",
          "height": 0
        },
        "id": "JNu7aNDv4sAK",
        "outputId": "fc9beda4-0d0e-4b96-d9f1-f4f9f3c37da3"
      },
      "execution_count": 77,
      "outputs": [
        {
          "output_type": "stream",
          "name": "stdout",
          "text": [
            "CI for 300 sample age group 0-17  (8382.826916666667, 9514.058500000001)\n",
            "CI for 3000 sample age group 0-17  (8754.083708333334, 9122.049200000001)\n",
            "CI for 30000 sample age group 0-17  (8884.892445833333, 8991.316938333333)\n",
            "\n",
            "CI for 300 sample age group 18-25  (8621.2835, 9699.677833333333)\n",
            "CI for 3000 sample age group 18-25  (9004.518433333335, 9337.928366666667)\n",
            "CI for 30000 sample age group 18-25  (9109.972230833333, 9225.493011666667)\n",
            "\n",
            "CI for 300 sample age group 26-35  (8644.586666666666, 9804.550166666668)\n",
            "CI for 3000 sample age group 26-35  (9085.063558333333, 9417.937191666666)\n",
            "CI for 30000 sample age group 26-35  (9187.735520833334, 9299.9082925)\n",
            "\n",
            "CI for 300 sample age group 36-45  (8776.827666666666, 9922.812083333332)\n",
            "CI for 3000 sample age group 36-45  (9150.383075, 9500.722133333333)\n",
            "CI for 30000 sample age group 36-45  (9266.268618333334, 9378.691064166665)\n",
            "\n",
            "CI for 300 sample age group 46-50  (8677.8615, 9763.731833333333)\n",
            "CI for 3000 sample age group 46-50  (9029.225033333332, 9365.892525)\n",
            "CI for 30000 sample age group 46-50  (9153.631425833333, 9260.0343075)\n",
            "\n",
            "CI for 300 sample age group 51-55 (9015.04775, 10075.188666666667)\n",
            "CI for 3000 sample age group 51-55 (9336.319258333333, 9689.039850000001)\n",
            "CI for 30000 sample age group 51-55 (9458.078700833334, 9571.666912499999)\n",
            "\n",
            "CI for 300 sample age group 55+ (8769.797166666667, 9834.532749999998)\n",
            "CI for 3000 sample age group 55+ (9155.641533333333, 9512.472683333333)\n",
            "CI for 30000 sample age group 55+ (9275.863454166665, 9383.840318333334)\n"
          ]
        }
      ]
    },
    {
      "cell_type": "markdown",
      "source": [
        "**Analysis**\n",
        "\n",
        "i. **Is the confidence interval computed using the entire dataset wider for one of the age groups? Why is this the case?**\n",
        "\n",
        "\n",
        "Yes, the confidence intervals vary in width across different age groups. This could be due to differences in the variability of the data within each age group. All age groups with sample 300 have wider C. All Age groups with 300 sample have higher variability are likely to have wider confidence intervals, reflecting greater uncertainty in estimating the population parameter.\n",
        "\n",
        "ii. **How is the width of the confidence interval affected by the sample size?**\n",
        "\n",
        "\n",
        "The width of the confidence interval decreases as the sample size increases,  which states that as the sample size increases, the sampling distribution of the sample mean becomes increasingly normally distributed and the standard error decreases. Consequently, smaller standard errors result in narrower confidence intervals.\n",
        "\n",
        "iii. **Do the confidence intervals for different sample sizes overlap?**\n",
        "\n",
        "\n",
        "Yes,For smaller sample sizes (300 samples), there are fewer overlaps between age groups, with some specific pairs overlapping, such as 46-50 with 26-35 and 36-45, and 55+ with 51-55.\n",
        "As the sample size increases (3000 and 30000 samples), more overlaps between age groups are observed, suggesting potential convergence of means or less variability in the estimates.\n",
        "\n",
        "**checking overlap**\n",
        "\n",
        "For 300 samples:\n",
        "\n",
        "Age group 46-50 overlaps with age groups 26-35 and 36-45, and no overlap with other groups.\n",
        "Age group 0-17 does not overlap with any other age group.\n",
        "Age group 55+ overlaps with age group 51-55, and no overlap with other groups.\n",
        "For 3000 samples:\n",
        "\n",
        "Age group 18-25 overlaps with age groups 26-35, 36-45, 46-50, and 55+.\n",
        "Age group 51-55 and 55+ overlap, and no overlap with other groups.\n",
        "Age group 26-35 overlaps with age groups 36-45, 46-50, 51-55, and 55+.\n",
        "Age group 36-45 overlaps with age group 51-55, and no overlap with other groups.\n",
        "Age group 46-50 overlaps with age groups 51-55 and 55+, and no overlap with other groups.\n",
        "For 30000 samples:\n",
        "\n",
        "Age group 0-17 overlaps with age group 18-25, and no overlap with other groups.\n",
        "Age group 18-25 overlaps with age groups 26-35 and 46-50, and no overlap with other groups.\n",
        "Age group 26-35 overlaps with age group 36-45, and no overlap with other groups.\n",
        "Age group 36-45 overlaps with age group 55+, and no overlap with other groups.\n",
        "Age group 55+ has no overlap with other groups.\n",
        "\n",
        "iv. **How does the sample size affect the shape of the distributions of the means?**\n",
        "\n",
        "\n",
        "As the sample size increases, the sampling distribution of the sample mean becomes more normally distributed, regardless of the shape of the population distribution. This means that with larger sample sizes, the distribution of sample means tends to approximate a normal distribution, even if the underlying population distribution is not normal."
      ],
      "metadata": {
        "id": "cVzM6BGL9Bkd"
      }
    },
    {
      "cell_type": "markdown",
      "source": [
        "# **Detailed report with recommendation**\n",
        "# Avg amount spent by males and females/Married and Unmarried/different age group\n",
        "The confidence intervals for average spending between males and females overlap for 3000 and 30000 samples, but not significantly for 300 samples, Walmart should make informed decisions to tailor its purchasing behavior strategies.\n",
        "\n",
        "1. With overlapping confidence intervals indicating similar average spending behavior between genders for larger sample sizes, Walmart can focus on offering a diverse range of products that cater to both male, female, married and unmarried preferences.\n",
        "\n",
        "We have analyzed saled data where Product cat 1,5,8 are most popular, 2,3,6,11 are 2nd most popular and preferred by male and female also popular in married , unmarried and in different age group users, where male are more buyers walmart should add more products and its feature to increase female cutomer as well.\n",
        "\n",
        "2. **Marketing Strategies**: Given the similarities in spending behavior between genders for larger sample sizes, Walmart should develop marketing campaigns that appeal to both male and female customers. This could involve creating inclusive advertising messages that resonate with a broad audience while still highlighting product features or promotions that are particularly appealing to each gender. need to focus on Category 2,3,4 for both genders and category 1,5,8 for female, category 2,3,6,11 for married, unmarried and diff age groups.\n",
        "\n",
        "\n",
        "3. **Promotional Offers**: Walmart can design promotional offers and discounts that are attractive to both male and female shoppers. By understanding the overlapping spending behavior, Walmart can create promotions that appeal to a wide audience, maximizing the effectiveness of marketing initiatives.\n",
        "\n",
        "\n",
        "4. **Customer Experience**: Understanding that spending behavior overlaps between genders/marital status/ diff age group for larger sample sizes, Walmart can focus on providing an inclusive and welcoming shopping experience for all customers. This might involve training staff to be attentive to the needs of diverse customer demographics and ensuring that store layouts and amenities cater to a broad range of preferences.\n",
        "\n",
        "5. **Data-Driven Decision Making**: Continuously monitoring and analyzing purchasing behavior data across genders can help Walmart identify trends and make data-driven decisions. By regularly evaluating sales data and customer feedback, Walmart can adapt its strategies to evolving market trends and customer preferences, ensuring ongoing success in meeting the needs of its diverse customer base.\n",
        "\n",
        "\n"
      ],
      "metadata": {
        "id": "0OzmhxIWc7uS"
      }
    }
  ]
}